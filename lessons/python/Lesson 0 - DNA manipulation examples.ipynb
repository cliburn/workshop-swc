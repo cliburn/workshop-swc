{
 "metadata": {
  "name": "",
  "signature": "sha256:d0a23cf5b7d52c053cb6fcab3356eaab6efdf86e59ebf58f4a0b01391ae6c26f"
 },
 "nbformat": 3,
 "nbformat_minor": 0,
 "worksheets": [
  {
   "cells": [
    {
     "cell_type": "markdown",
     "metadata": {},
     "source": [
      "### DNA sequence examples"
     ]
    },
    {
     "cell_type": "markdown",
     "metadata": {},
     "source": [
      "**Example 1: Working with DNA strings**\n",
      "\n",
      "Suppose we are given a DNA string. We may like to know the following:\n",
      "\n",
      "1. What is its complement?\n",
      "2. What is its reverse complement?\n",
      "3. What would the sequence of the RNA transcript be?\n",
      "4. What is the GC-content?"
     ]
    },
    {
     "cell_type": "code",
     "collapsed": false,
     "input": [
      "w = 24 # for text alginment\n",
      "\n",
      "dna = 'GATTACA'\n",
      "print 'Original DNA'.ljust(w), dna\n",
      "\n",
      "# Question 1\n",
      "import string\n",
      "comp_table = string.maketrans('ATCG', 'TAGC')\n",
      "comp_dna = dna.translate(comp_table)\n",
      "print 'Complement DNA'.ljust(w), comp_dna\n",
      "\n",
      "# Question 2\n",
      "rev_comp_dna = comp_dna[::-1]\n",
      "print 'Reverse complement DNA'.ljust(w), rev_comp_dna\n",
      "\n",
      "# Question 3\n",
      "rna = dna.replace('T', 'U')\n",
      "print 'RNA'.ljust(w), rna\n",
      "\n",
      "# Question 4\n",
      "num_gc = dna.count('G') + dna.count('C')\n",
      "pct_gc = 100*(num_gc/float(len(dna)))\n",
      "print 'GC content (%)'.ljust(w), '%.2f' % pct_gc"
     ],
     "language": "python",
     "metadata": {},
     "outputs": [
      {
       "output_type": "stream",
       "stream": "stdout",
       "text": [
        "Original DNA             GATTACA\n",
        "Complement DNA           CTAATGT\n",
        "Reverse complement DNA   TGTAATC\n",
        "RNA                      GAUUACA\n",
        "GC content (%)           28.57\n"
       ]
      }
     ],
     "prompt_number": 17
    },
    {
     "cell_type": "markdown",
     "metadata": {},
     "source": [
      "**Example 2: Exact M.W. of ssDNA (e.g., Oligonucleotides)**\n",
      "\n",
      "Suppose we are give a ssDNA sequence 'GATTACA'. We want to write a function calculate the molecular weight of any such sequence using the following formula: \n",
      "\n",
      "M.W. = (An x 313.2) + (Tn x 304.2) + (Cn x 289.2) + (Gn x 329.2) + 79.0\u00aa\n",
      "An, Tn, Cn, and Gn are the number of each respective nucleotide within the polynucleotide.\n",
      "\u00aaAddition of \"79.0\" to the M.W. takes into account the 5' monophosphate left by most restriction enzymes. No phosphate is present at the 5' end of strands made by primer extension.\n",
      "\n",
      "<http://www.lifetechnologies.com/us/en/home/references/ambion-tech-support/rna-tools-and-calculators/dna-and-rna-molecular-weights-and-conversions.html>"
     ]
    },
    {
     "cell_type": "code",
     "collapsed": false,
     "input": [
      "dna_mw = {\n",
      "    'A' : 313.2,\n",
      "    'T' : 304.2, \n",
      "    'C' : 289.2,\n",
      "    'G' : 329.2\n",
      "    }\n",
      "\n",
      "def mw(seq, mw_dict, offset=79.0):\n",
      "    \"\"\"Return molecular weight of the ssDNA string seq.\"\"\"\n",
      "    wt = sum(mw_dict[nuc] for nuc in seq) + offset\n",
      "    return wt\n",
      "\n",
      "dna = 'GATTACA'\n",
      "print 'Molecular weight of %s is %.1f daltons' % (dna, mw(dna, dna_mw))"
     ],
     "language": "python",
     "metadata": {},
     "outputs": [
      {
       "output_type": "stream",
       "stream": "stdout",
       "text": [
        "Molecular weight of GATTACA is 2245.4 daltons\n"
       ]
      }
     ],
     "prompt_number": 55
    },
    {
     "cell_type": "markdown",
     "metadata": {},
     "source": [
      "**Example 3: Find the frequency of a specific DNA sequence in a collection of many DNA sequences (e.g. from fragmentation)**\n",
      "\n",
      "Suppose we have sequences from 1 million short DNA fragments. We want to answer some of the following questions:\n",
      "\n",
      "1. What is the frequency of the fragment 'GATTACA'?\n",
      "2. What is the distribution of fragment lengths?\n",
      "3. What are the 3 most common fragments?"
     ]
    },
    {
     "cell_type": "code",
     "collapsed": false,
     "input": [
      "import os\n",
      "\n",
      "# read in a file containign 1 million DNA fragments\n",
      "# If such a file does not exist, make one up\n",
      "if not os.path.exists('dna_frags.txt'):\n",
      "    num = 1000000\n",
      "    min_len = 5\n",
      "    max_len = 15\n",
      "    frag_lens = np.random.randint(min_len, max_len+1, num)\n",
      "    frag_counts = Counter(frag_lens)\n",
      "    frags = []\n",
      "    for (n, count) in frag_counts.iteritems():\n",
      "        frags.extend([''.join(_) for _ in np.random.choice(list('ACTG'), (count, n))])\n",
      "    with open('dna_frags.txt', 'w') as f:\n",
      "        f.write('\\n'.join(frags))\n",
      "else:\n",
      "    frags = open('dna_frags.txt').read().splitlines()\n",
      "    \n",
      "# check by printing out 10 random DNA fragements\n",
      "print 'Some random DNA fragments'\n",
      "for idx in np.random.randint(0, num, 10):\n",
      "    print frags[idx]"
     ],
     "language": "python",
     "metadata": {},
     "outputs": [
      {
       "output_type": "stream",
       "stream": "stdout",
       "text": [
        "Some random DNA fragments\n",
        "GCTTA\n",
        "CGTAAATA\n",
        "TATGGGG\n",
        "GTACCA\n",
        "GGGTGTACG\n",
        "ATGGCTAATAC\n",
        "GGGCCAAGGCTT\n",
        "CTCTACGAA\n",
        "TTACCTAATCATTT\n",
        "TCTACTA\n"
       ]
      }
     ],
     "prompt_number": 68
    },
    {
     "cell_type": "code",
     "collapsed": false,
     "input": [
      "# Question 1 - manual solution\n",
      "\n",
      "# If we really only cared about the count of this ONE signle sequence and nothing else\n",
      "# we can just use the list.count() method\n",
      "print \"1. What is the frequency of the fragment 'GATTACA'?\"\n",
      "print 'Answer with list.count():', frags.count('GATTACA')\n",
      "\n",
      "# More commonly, we will want to know the frequency of an arbitrary set of many sequences\n",
      "# In this case, it is more effiecinet to build a \"look-up\" table once for repeated query\n",
      "# Such a look-up table can be constructed using a Python dict\n",
      "def count_fragments(frags):\n",
      "    \"\"\"Return a dictionary where the key is the fragment sequence and values is number of times it is found.\"\"\"\n",
      "    counts = {}\n",
      "    for frag in frags:\n",
      "        counts[frag] = counts.get(frag, 0) + 1\n",
      "    return counts\n",
      "\n",
      "counts = count_fragments(frags)\n",
      "print \"Alternate answer using a dictionary:\", counts['GATTACA']\n",
      "\n",
      "# This process of counting frequecnies is so common that Python has a built-in object\n",
      "# called a Counter from the Collections module to do it\n",
      "from collections import Counter\n",
      "frag_counter = Counter(frags)\n",
      "print \"Alternate solution using Counter:\", frag_counter['GATTACA']\n",
      "\n",
      "# Question 2 - using collections.Counter\n",
      "frag_lens = [len(frag) for frag in frags]\n",
      "frag_len_counter= Counter(frag_lens)\n",
      "\n",
      "print \n",
      "print \"2. What is the distribution of fragment lengths?\"\n",
      "for frag_len, frag_len_count in frag_len_counter.iteritems():\n",
      "    print \"Len =\", frag_len, '\\t', frag_len_count\n",
      "\n",
      "# Question 3 - we can just reuse the frag_counter object created in part 1\n",
      "print \n",
      "print '3. What are the 3 most common fragments?'\n",
      "for frag, count in frag_counter.most_common(3):\n",
      "    print frag, count "
     ],
     "language": "python",
     "metadata": {},
     "outputs": [
      {
       "output_type": "stream",
       "stream": "stdout",
       "text": [
        "1. What is the frequency of the fragment 'GATTACA'?\n",
        "Answer with list.count(): 9\n",
        "Alternate answer using a dictionary:"
       ]
      },
      {
       "output_type": "stream",
       "stream": "stdout",
       "text": [
        " 9\n",
        "Alternate solution using Counter:"
       ]
      },
      {
       "output_type": "stream",
       "stream": "stdout",
       "text": [
        " 9\n",
        "\n"
       ]
      },
      {
       "output_type": "stream",
       "stream": "stdout",
       "text": [
        "2. What is the distribution of fragment lengths?\n",
        "Len = 5 \t90235\n",
        "Len = 6 \t90513\n",
        "Len = 7 \t91370\n",
        "Len = 8 \t90858\n",
        "Len = 9 \t90888\n",
        "Len = 10 \t90989\n",
        "Len = 11 \t90716\n",
        "Len = 12 \t91036\n",
        "Len = 13 \t90963\n",
        "Len = 14 \t91504\n",
        "Len = 15 \t90928\n",
        "\n",
        "3. What are the 3 most common fragments?\n",
        "GGCCT"
       ]
      },
      {
       "output_type": "stream",
       "stream": "stdout",
       "text": [
        " 128\n",
        "AGTCT 117\n",
        "CTCAC 116\n"
       ]
      }
     ],
     "prompt_number": 69
    },
    {
     "cell_type": "code",
     "collapsed": false,
     "input": [],
     "language": "python",
     "metadata": {},
     "outputs": []
    }
   ],
   "metadata": {}
  }
 ]
}