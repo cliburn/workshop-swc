{
 "metadata": {
  "name": "",
  "signature": "sha256:3d3328711836701323d0e33a86b48e373207725cbc2816f8f4c61f9d462eb97a"
 },
 "nbformat": 3,
 "nbformat_minor": 0,
 "worksheets": [
  {
   "cells": [
    {
     "cell_type": "markdown",
     "metadata": {},
     "source": [
      "Summary\n",
      "----\n",
      "\n",
      "This tutorial will provide you with the following Python language building blocks to write your own DNA manipulation code:\n",
      "\n",
      "1. Basic types - int, float, bool, string\n",
      "2. Collections - string, list, dict (and Counter), tuple, set\n",
      "3. Built in methods - e.g. string and list methods\n",
      "4. Built-in functions - print, range, len\n",
      "5. Repeating tasks with the for loop\n",
      "6. Making decision with if-elif-else\n",
      "7. Flexible list making with list comprehensions\n",
      "\n",
      "You will also get familiar with writing code in the IPython notebook\n",
      "\n",
      "---"
     ]
    },
    {
     "cell_type": "heading",
     "level": 3,
     "metadata": {},
     "source": [
      "Introduction to the IPython notebook"
     ]
    },
    {
     "cell_type": "markdown",
     "metadata": {},
     "source": [
      "1. Based on \"cells\"\n",
      "    1. Code\n",
      "    2. Markdown\n",
      "    3. Heading\n",
      "    4. Raw NBConvert\n",
      "2. Command and Edit modes\n",
      "3. Useful \"shortcut\" keys\n",
      "4. Magic functions\n",
      "5. Evaluating code\n",
      "6. Literate programming"
     ]
    },
    {
     "cell_type": "markdown",
     "metadata": {},
     "source": [
      "### Useful shortcut keys\n",
      "\n",
      "**Reference**:\n",
      "* ESC toggles to command mode\n",
      "* ENTER toggles to edit mode\n",
      "* ESC-h to see list of shortcuts\n",
      "\n",
      "**To save notebook**:\n",
      "* ESC-s\n",
      "* CMD-s is an alternative on Macs\n",
      "\n",
      "**Evaluating cells**:\n",
      "* CTRL-Enter to evaluate a cell\n",
      "* SHIFT-Enter to evaluate a cell and go to the next cell\n",
      "* ALT-Enter to evaluate a cell and insert a new cell below\n",
      "\n",
      "**Converting cells from code to markdown and vice versa**:\n",
      "* ESC-y to convert cell to Code\n",
      "* ESC-m to convert cell to Markdown\n",
      "\n",
      "**Inserting new cells**:\n",
      "* ESC-a to insert Above\n",
      "* ESC-b to insert Below\n",
      "\n",
      "**Deleting cells**:\n",
      "* ESC-dd to delete current cell\n",
      "\n",
      "**Moving cells**:\n",
      "* ESC-CTRL-k to move current cell UP\n",
      "* ESC-CTRL-j to move current cell DOWN\n",
      "\n",
      "**Editing code**:\n",
      "* Usual copy, cut, paste keys for your operating system - e.g. CMD-x on Mac is cut selected text\n",
      "* CTRL-/ toggles between code and comment for selected text"
     ]
    },
    {
     "cell_type": "markdown",
     "metadata": {},
     "source": [
      "Crash course in markdown\n",
      "----\n",
      "\n",
      "<https://github.com/adam-p/markdown-here/wiki/Markdown-Cheatsheet>\n",
      "\n",
      "Essentials:\n",
      "\n",
      "1. headers\n",
      "    1. 6 levels using #\n",
      "2. emphasis\n",
      "    1. *italics*\n",
      "    2. **bodl**\n",
      "    3. ~~strikethrogh~~\n",
      "3. lists\n",
      "    1. Enumerated with (1.)\n",
      "    2. Bullleted with (*)\n",
      "4. links\n",
      "    1. <www.google.com>\n",
      "    2. [Google](www.google.com)\n",
      "5. images ![XKCD Sine function](xkcd_plot.png)\n",
      "6. code\n",
      "\n",
      "```python\n",
      "print \"Hello, world\"\n",
      "```"
     ]
    },
    {
     "cell_type": "heading",
     "level": 3,
     "metadata": {},
     "source": [
      "Using Python as a calculator"
     ]
    },
    {
     "cell_type": "code",
     "collapsed": false,
     "input": [
      "# addition, multiplication, subtraction \"operators\" work as expected\n",
      "2 + 6 * 7 - 2"
     ],
     "language": "python",
     "metadata": {},
     "outputs": [
      {
       "metadata": {},
       "output_type": "pyout",
       "prompt_number": 26,
       "text": [
        "42"
       ]
      }
     ],
     "prompt_number": 26
    },
    {
     "cell_type": "code",
     "collapsed": false,
     "input": [
      "# But care must be taken with division\n",
      "6/7"
     ],
     "language": "python",
     "metadata": {},
     "outputs": [
      {
       "metadata": {},
       "output_type": "pyout",
       "prompt_number": 27,
       "text": [
        "0"
       ]
      }
     ],
     "prompt_number": 27
    },
    {
     "cell_type": "code",
     "collapsed": false,
     "input": [
      "# Division with \"floating point numbers\" works as expected\n",
      "6./7."
     ],
     "language": "python",
     "metadata": {},
     "outputs": [
      {
       "metadata": {},
       "output_type": "pyout",
       "prompt_number": 28,
       "text": [
        "0.8571428571428571"
       ]
      }
     ],
     "prompt_number": 28
    },
    {
     "cell_type": "code",
     "collapsed": false,
     "input": [
      "# note - use ** for exponentiation, not ^\n",
      "3**2"
     ],
     "language": "python",
     "metadata": {},
     "outputs": [
      {
       "metadata": {},
       "output_type": "pyout",
       "prompt_number": 29,
       "text": [
        "9"
       ]
      }
     ],
     "prompt_number": 29
    },
    {
     "cell_type": "code",
     "collapsed": false,
     "input": [
      "# the modulo operator (returns remainder after division by a number) is often useful \n",
      "print 7 % 3"
     ],
     "language": "python",
     "metadata": {},
     "outputs": [
      {
       "output_type": "stream",
       "stream": "stdout",
       "text": [
        "1\n"
       ]
      }
     ],
     "prompt_number": 30
    },
    {
     "cell_type": "heading",
     "level": 3,
     "metadata": {},
     "source": [
      "Some building blocks of Python"
     ]
    },
    {
     "cell_type": "code",
     "collapsed": false,
     "input": [
      "type(3), type(3.), type(1+3j), type(3 == 2), type('hello')"
     ],
     "language": "python",
     "metadata": {},
     "outputs": [
      {
       "metadata": {},
       "output_type": "pyout",
       "prompt_number": 31,
       "text": [
        "(int, float, complex, bool, str)"
       ]
      }
     ],
     "prompt_number": 31
    },
    {
     "cell_type": "code",
     "collapsed": false,
     "input": [
      "import string\n",
      "\n",
      "def f(): pass\n",
      "\n",
      "type(None), type(f), type(string)"
     ],
     "language": "python",
     "metadata": {},
     "outputs": [
      {
       "metadata": {},
       "output_type": "pyout",
       "prompt_number": 32,
       "text": [
        "(NoneType, function, module)"
       ]
      }
     ],
     "prompt_number": 32
    },
    {
     "cell_type": "code",
     "collapsed": false,
     "input": [
      "type('hello'), type([3,1,4,1,5]), type({'a': 'aardvark', 'b': 'ball'}), type((3,1,4,1,5)), type(set([3,1,3,1,3]))"
     ],
     "language": "python",
     "metadata": {},
     "outputs": [
      {
       "metadata": {},
       "output_type": "pyout",
       "prompt_number": 33,
       "text": [
        "(str, list, dict, tuple, set)"
       ]
      }
     ],
     "prompt_number": 33
    },
    {
     "cell_type": "heading",
     "level": 3,
     "metadata": {},
     "source": [
      "Some basic predefined functions"
     ]
    },
    {
     "cell_type": "markdown",
     "metadata": {},
     "source": [
      "See <https://docs.python.org/2/library/functions.html> for the full list of built-in functions."
     ]
    },
    {
     "cell_type": "code",
     "collapsed": false,
     "input": [
      "# By default, IPython notebook will display the last result in a cell\n",
      "# However, in general, if you want to see output, you have to use the \"print\" statement\n",
      "\n",
      "print 'a', 1, 3+4j\n",
      "print [1,3,5]\n",
      "\n",
      "# The print function appends a newline each time it is called. To suppress that, call print with a trailing comma\n",
      "\n",
      "print 'a', 1, 3+4j,\n",
      "print [1,3,5]"
     ],
     "language": "python",
     "metadata": {},
     "outputs": [
      {
       "output_type": "stream",
       "stream": "stdout",
       "text": [
        "a 1 (3+4j)\n",
        "[1, 3, 5]\n",
        "a 1 (3+4j) [1, 3, 5]\n"
       ]
      }
     ],
     "prompt_number": 34
    },
    {
     "cell_type": "code",
     "collapsed": false,
     "input": [
      "# To generate a range of numbers - use range(start, stop, interval)\n",
      "print range(10)\n",
      "print range(5, 10)\n",
      "print range(0, 10, 2)"
     ],
     "language": "python",
     "metadata": {},
     "outputs": [
      {
       "output_type": "stream",
       "stream": "stdout",
       "text": [
        "[0, 1, 2, 3, 4, 5, 6, 7, 8, 9]\n",
        "[5, 6, 7, 8, 9]\n",
        "[0, 2, 4, 6, 8]\n"
       ]
      }
     ],
     "prompt_number": 35
    },
    {
     "cell_type": "code",
     "collapsed": false,
     "input": [
      "# To find the length of a list, dictionary, or other collection\n",
      "\n",
      "alist = range(5, 10)\n",
      "adict = {'a': 1, 'b': 2}\n",
      "aset = set([3,1,3,1,3])\n",
      "\n",
      "print len(alist)\n",
      "print len(adict)\n",
      "print len(aset)"
     ],
     "language": "python",
     "metadata": {},
     "outputs": [
      {
       "output_type": "stream",
       "stream": "stdout",
       "text": [
        "5\n",
        "2\n",
        "2\n"
       ]
      }
     ],
     "prompt_number": 36
    },
    {
     "cell_type": "code",
     "collapsed": false,
     "input": [
      "# Some builtin functions convert from one type to another\n",
      "\n",
      "x = 2.7 # x is a float\n",
      "print x\n",
      "print int(x)\n",
      "print str(x)\n",
      "\n",
      "s = 'ATCT' # s is a string\n",
      "print list(s)"
     ],
     "language": "python",
     "metadata": {},
     "outputs": [
      {
       "output_type": "stream",
       "stream": "stdout",
       "text": [
        "2.7\n",
        "2\n",
        "2.7\n",
        "['A', 'T', 'C', 'T']\n"
       ]
      }
     ],
     "prompt_number": 37
    },
    {
     "cell_type": "markdown",
     "metadata": {},
     "source": [
      "### Slice notation\n",
      "\n",
      "Many Python collections (e.g. strings, lists, tuples, numpy arrays, pandas dataframes) use **slice** notation as a short-hand for extractig elements. Slice notation is basiclly using `start:stop:step` to extract elements from `start` (inclusive) to `stop` (exclusive) in intervals of size `step`. There are 2 Python idioms that can be confusing to beginners:\n",
      "\n",
      "1. Indexing stats at 0 - so the first item in a collection has index 0\n",
      "2. The returned values always include the item indexed by `start`, but never the item indexed by `stop`\n",
      "\n",
      "In addition, if `start` is not specified, it is taken to be 0. If `stop` is not specified, it is taken to be the end of the collection. If `step` is not specified, it is taken to be 1. "
     ]
    },
    {
     "cell_type": "code",
     "collapsed": false,
     "input": [
      "# indexing a list\n",
      "w = 26\n",
      "\n",
      "xs = range(1, 10, 2)\n",
      "print \"Original list\".ljust(w), xs\n",
      "print \"Default slicing\".ljust(w), xs[::]\n",
      "print \"0th element\".ljust(w), xs[0]\n",
      "print \"Interval with 0th element\".ljust(w), xs[0:1]\n",
      "print \"2nd to 4th elements\".ljust(w), xs[2:5]\n",
      "print \"2nd to last element\".ljust(w), xs[2:]\n",
      "print \"Every other element\".ljust(w), xs[::2]\n",
      "print \"Reversing elements!\".ljust(w), xs[::-1]"
     ],
     "language": "python",
     "metadata": {},
     "outputs": [
      {
       "output_type": "stream",
       "stream": "stdout",
       "text": [
        "Original list              [1, 3, 5, 7, 9]\n",
        "Default slicing            [1, 3, 5, 7, 9]\n",
        "0th element                1\n",
        "Interval with 0th element  [1]\n",
        "2nd to 4th elements        [5, 7, 9]\n",
        "2nd to last element        [5, 7, 9]\n",
        "Every other element        [1, 5, 9]\n",
        "Reversing elements!        [9, 7, 5, 3, 1]\n"
       ]
      }
     ],
     "prompt_number": 38
    },
    {
     "cell_type": "code",
     "collapsed": false,
     "input": [
      "# indexing a string is almost exactly the same - we repeat the above code for a string\n",
      "\n",
      "xs = 'I heart SWC Bootcamp'\n",
      "print \"Original string\".ljust(w), xs\n",
      "print \"Default slicing\".ljust(w), xs[::]\n",
      "print \"0th element\".ljust(w), xs[0]\n",
      "print \"Interval with 0th element\".ljust(w), xs[0:1]\n",
      "print \"2nd to 4th elements\".ljust(w), xs[2:5]\n",
      "print \"2nd to last element\".ljust(w), xs[2:]\n",
      "print \"Every other element\".ljust(w), xs[::2]\n",
      "print \"Reversing elements!\".ljust(w), xs[::-1]"
     ],
     "language": "python",
     "metadata": {},
     "outputs": [
      {
       "output_type": "stream",
       "stream": "stdout",
       "text": [
        "Original string            I heart SWC Bootcamp\n",
        "Default slicing            I heart SWC Bootcamp\n",
        "0th element                I\n",
        "Interval with 0th element  I\n",
        "2nd to 4th elements        hea\n",
        "2nd to last element        heart SWC Bootcamp\n",
        "Every other element        IhatSCBocm\n",
        "Reversing elements!        pmactooB CWS traeh I\n"
       ]
      }
     ],
     "prompt_number": 39
    },
    {
     "cell_type": "heading",
     "level": 3,
     "metadata": {},
     "source": [
      "Getting help"
     ]
    },
    {
     "cell_type": "code",
     "collapsed": false,
     "input": [
      "# To learn about IPython features\n",
      "%quickref"
     ],
     "language": "python",
     "metadata": {},
     "outputs": [],
     "prompt_number": 40
    },
    {
     "cell_type": "code",
     "collapsed": false,
     "input": [
      "# Details about object\n",
      "range?"
     ],
     "language": "python",
     "metadata": {},
     "outputs": [],
     "prompt_number": 41
    },
    {
     "cell_type": "code",
     "collapsed": false,
     "input": [
      "# Two ?? may give more details, but not always\n",
      "range??"
     ],
     "language": "python",
     "metadata": {},
     "outputs": [],
     "prompt_number": 42
    },
    {
     "cell_type": "code",
     "collapsed": false,
     "input": [
      "# Python's built-in help \n",
      "help(range)"
     ],
     "language": "python",
     "metadata": {},
     "outputs": [
      {
       "output_type": "stream",
       "stream": "stdout",
       "text": [
        "Help on built-in function range in module __builtin__:\n",
        "\n",
        "range(...)\n",
        "    range(stop) -> list of integers\n",
        "    range(start, stop[, step]) -> list of integers\n",
        "    \n",
        "    Return a list containing an arithmetic progression of integers.\n",
        "    range(i, j) returns [i, i+1, i+2, ..., j-1]; start (!) defaults to 0.\n",
        "    When step is given, it specifies the increment (or decrement).\n",
        "    For example, range(4) returns [0, 1, 2, 3].  The end point is omitted!\n",
        "    These are exactly the valid indices for a list of 4 elements.\n",
        "\n"
       ]
      }
     ],
     "prompt_number": 43
    },
    {
     "cell_type": "heading",
     "level": 3,
     "metadata": {},
     "source": [
      "Variables"
     ]
    },
    {
     "cell_type": "code",
     "collapsed": false,
     "input": [
      "# we store values in \"variables\" for use later by \"assignment\" using \"variable = value\"\n",
      "x = 3\n",
      "x + 4"
     ],
     "language": "python",
     "metadata": {},
     "outputs": [
      {
       "metadata": {},
       "output_type": "pyout",
       "prompt_number": 44,
       "text": [
        "7"
       ]
      }
     ],
     "prompt_number": 44
    },
    {
     "cell_type": "code",
     "collapsed": false,
     "input": [
      "# another assignment will replace the existing stored value\n",
      "x = 2\n",
      "x"
     ],
     "language": "python",
     "metadata": {},
     "outputs": [
      {
       "metadata": {},
       "output_type": "pyout",
       "prompt_number": 45,
       "text": [
        "2"
       ]
      }
     ],
     "prompt_number": 45
    },
    {
     "cell_type": "code",
     "collapsed": false,
     "input": [
      "# variable names can be any combination of letters, numbers and '_' but cannot start with a number\n",
      "message = 'Hello, world'\n",
      "message"
     ],
     "language": "python",
     "metadata": {},
     "outputs": [
      {
       "metadata": {},
       "output_type": "pyout",
       "prompt_number": 46,
       "text": [
        "'Hello, world'"
       ]
      }
     ],
     "prompt_number": 46
    },
    {
     "cell_type": "code",
     "collapsed": false,
     "input": [
      "# variables can be collections too\n",
      "my_phone_book = {'andy': '123-456-7890',\n",
      "                 'becca': '123-333-4455'}\n",
      "my_phone_book['becca']"
     ],
     "language": "python",
     "metadata": {},
     "outputs": [
      {
       "metadata": {},
       "output_type": "pyout",
       "prompt_number": 47,
       "text": [
        "'123-333-4455'"
       ]
      }
     ],
     "prompt_number": 47
    },
    {
     "cell_type": "heading",
     "level": 3,
     "metadata": {},
     "source": [
      "Working with strings"
     ]
    },
    {
     "cell_type": "code",
     "collapsed": false,
     "input": [
      "# Constructing strings\n",
      "# Strings can be made with single or double quote delimiters\n",
      "\n",
      "s1 = 'String 1'\n",
      "s2 = \"String 2\"\n",
      "\n",
      "print s1 + '\\n'\n",
      "\n",
      "print s2 + '\\n'\n",
      "\n",
      "# However, if you have a single or double quote within the string\n",
      "# you need to use the other delimiter\n",
      "\n",
      "s3 = \"Let's go party\"\n",
      "print s3 + '\\n'\n",
      "\n",
      "# And if your string spans multiple lines\n",
      "# you have to use the triple quoted  form\n",
      "\n",
      "s4 = '''Twas brillig, and the slithy toves\n",
      "  Did gyre and gimble in the wabe:\n",
      "All mimsy were the borogoves,\n",
      "  And the mome raths outgrabe.'''\n",
      "\n",
      "print s4"
     ],
     "language": "python",
     "metadata": {},
     "outputs": [
      {
       "output_type": "stream",
       "stream": "stdout",
       "text": [
        "String 1\n",
        "\n",
        "String 2\n",
        "\n",
        "Let's go party\n",
        "\n",
        "Twas brillig, and the slithy toves\n",
        "  Did gyre and gimble in the wabe:\n",
        "All mimsy were the borogoves,\n",
        "  And the mome raths outgrabe.\n"
       ]
      }
     ],
     "prompt_number": 7
    },
    {
     "cell_type": "code",
     "collapsed": false,
     "input": [
      "# Common operations with strings\n",
      "\n",
      "s = 'GATTACA'\n",
      "\n",
      "print s.lower()\n",
      "print s.capitalize()\n",
      "print s.count('A')\n",
      "print s.find('A')\n",
      "print s.find('AC')\n",
      "print s.find('ACT')"
     ],
     "language": "python",
     "metadata": {},
     "outputs": [
      {
       "output_type": "stream",
       "stream": "stdout",
       "text": [
        "gattaca\n",
        "Gattaca\n",
        "3\n",
        "1\n",
        "4\n",
        "-1\n"
       ]
      }
     ],
     "prompt_number": 48
    },
    {
     "cell_type": "code",
     "collapsed": false,
     "input": [
      "# Combining strings\n",
      "\n",
      "dna1 = 'GATT'\n",
      "dna2 = 'ACA'\n",
      "dna3 = dna1 + dna2\n",
      "print dna3"
     ],
     "language": "python",
     "metadata": {},
     "outputs": [
      {
       "output_type": "stream",
       "stream": "stdout",
       "text": [
        "GATTACA\n"
       ]
      }
     ],
     "prompt_number": 49
    },
    {
     "cell_type": "code",
     "collapsed": false,
     "input": [
      "# Breaking strings apart\n",
      "\n",
      "# the split() method breaks strings on whitespace characters\n",
      "s1 = \"\"\"\n",
      "ATTA\n",
      "  GCAT\n",
      "     TTAA\n",
      "\"\"\"\n",
      "print s1.split()\n",
      "\n",
      "# while splitlines() only breaks on newline characters\n",
      "print s1.splitlines()\n",
      "\n",
      "# We can also split on other separators\n",
      "s2 = \"ATTA:GCAT:TTAA\"\n",
      "print s2.split(':')"
     ],
     "language": "python",
     "metadata": {},
     "outputs": [
      {
       "output_type": "stream",
       "stream": "stdout",
       "text": [
        "['ATTA', 'GCAT', 'TTAA']\n",
        "['', 'ATTA', '  GCAT', '     TTAA']\n",
        "['ATTA', 'GCAT', 'TTAA']\n"
       ]
      }
     ],
     "prompt_number": 50
    },
    {
     "cell_type": "code",
     "collapsed": false,
     "input": [
      "# Joining lists of strings into a single string\n",
      "# reversal of `split'\n",
      "\n",
      "t1 = \"ATTA:GCAT:TTAA\"\n",
      "t2 = t1.split(':')\n",
      "t3 = ':'.join(t2)\n",
      "t4 = ''.join(t2)\n",
      "t5 = ', '.join(t2)\n",
      "\n",
      "print t1\n",
      "print t2\n",
      "print t3\n",
      "print t4\n",
      "print t5"
     ],
     "language": "python",
     "metadata": {},
     "outputs": [
      {
       "output_type": "stream",
       "stream": "stdout",
       "text": [
        "ATTA:GCAT:TTAA\n",
        "['ATTA', 'GCAT', 'TTAA']\n",
        "ATTA:GCAT:TTAA\n",
        "ATTAGCATTTAA\n",
        "ATTA, GCAT, TTAA\n"
       ]
      }
     ],
     "prompt_number": 8
    },
    {
     "cell_type": "code",
     "collapsed": false,
     "input": [
      "# Getting rid of leading and trailing spaces\n",
      "print 'Stripping whitespace from strings:'\n",
      "s3 = \"   \\n\\tthis is a string with leading and trailing spaces\\t   \\n\"\n",
      "print '<', s3, '>'\n",
      "print '<', s3.lstrip(), '>'\n",
      "print '<', s3.rstrip(), '>'\n",
      "print '<', s3.strip(), '>'\n",
      "print\n",
      "\n",
      "# We also saw the string justification in the DNA demo\n",
      "print 'String justificaiton:'\n",
      "s4 = 'This is a string'\n",
      "print '<', s4.ljust(40), '>'\n",
      "print '<', s4.rjust(40), '>'\n",
      "print '<', s4.center(40), '>'"
     ],
     "language": "python",
     "metadata": {},
     "outputs": [
      {
       "output_type": "stream",
       "stream": "stdout",
       "text": [
        "Stripping whitespace from strings:\n",
        "<    \n",
        "\tthis is a string with leading and trailing spaces\t   \n",
        ">\n",
        "< this is a string with leading and trailing spaces\t   \n",
        ">\n",
        "<    \n",
        "\tthis is a string with leading and trailing spaces >\n",
        "< this is a string with leading and trailing spaces >\n",
        "\n",
        "String justificaiton:\n",
        "< This is a string                         >\n",
        "<                         This is a string >\n",
        "<             This is a string             >\n"
       ]
      }
     ],
     "prompt_number": 51
    },
    {
     "cell_type": "code",
     "collapsed": false,
     "input": [
      "# Translating strings\n",
      "\n",
      "# Suppose we wanted to find the complement of a DNA string. \n",
      "# The rules are simple - replace 'A' with 'T', 'T' with 'A', 'C' with 'G' and 'G' with 'C'\n",
      "\n",
      "# One way to do this is with a dictionary lookup\n",
      "lookup = {'A' : 'T', 'T' : 'A', 'C': 'G', 'G' : 'C'}\n",
      "dna = 'AATCTAGGCT'\n",
      "\n",
      "# Using a list comprehension\n",
      "seq = [lookup[nuc] for nuc in dna]\n",
      "\n",
      "# But seq is now a list rather than a string\n",
      "print seq\n",
      "# So we need to use join to convert back to a string\n",
      "seq = ''.join(seq)\n",
      "print seq"
     ],
     "language": "python",
     "metadata": {},
     "outputs": [
      {
       "output_type": "stream",
       "stream": "stdout",
       "text": [
        "['T', 'T', 'A', 'G', 'A', 'T', 'C', 'C', 'G', 'A']\n",
        "TTAGATCCGA\n"
       ]
      }
     ],
     "prompt_number": 52
    },
    {
     "cell_type": "code",
     "collapsed": false,
     "input": [
      "# However there is a much more efficient way to perform such string translation\n",
      "import string\n",
      "\n",
      "table = string.maketrans('ACTG', 'TGAC')\n",
      "print dna.translate(table)"
     ],
     "language": "python",
     "metadata": {},
     "outputs": [
      {
       "output_type": "stream",
       "stream": "stdout",
       "text": [
        "TTAGATCCGA\n"
       ]
      }
     ],
     "prompt_number": 53
    },
    {
     "cell_type": "code",
     "collapsed": false,
     "input": [
      "# translate has a 3rd argument to delete characters\n",
      "\n",
      "print dna.translate(None, 'AT')\n",
      "\n",
      "# One funky possibility is to use this to determine the GC content of a sequence\n",
      "100.0 * len(dna.translate(None, 'AT'))/len(dna)"
     ],
     "language": "python",
     "metadata": {},
     "outputs": [
      {
       "output_type": "stream",
       "stream": "stdout",
       "text": [
        "CGGC\n"
       ]
      },
      {
       "metadata": {},
       "output_type": "pyout",
       "prompt_number": 54,
       "text": [
        "40.0"
       ]
      }
     ],
     "prompt_number": 54
    },
    {
     "cell_type": "heading",
     "level": 3,
     "metadata": {},
     "source": [
      "Working with lists"
     ]
    },
    {
     "cell_type": "code",
     "collapsed": false,
     "input": [
      "# constructing lists\n",
      "\n",
      "nucleotides = ['A', 'C', 'T', 'G']\n",
      "print nucleotides\n",
      "\n",
      "# by conversion\n",
      "nucleotides = list('ACTG')\n",
      "print nucleotides\n",
      "\n",
      "# We can grow lists by adding one element at a time with \"append\"\n",
      "nucleotides.append('U')\n",
      "print nucleotides\n",
      "\n",
      "# We can aslo combine lists with \"extend\"\n",
      "alien_nucleotides = ['X', 'Y', 'Z']\n",
      "nucleotides.extend(alien_nucleotides)\n",
      "print nucleotides\n",
      "\n",
      "# Note that \"append\" and \"extend\" do different things to a list\n",
      "bases = list('ACTG')\n",
      "bases.append(alien_nucleotides)\n",
      "print bases\n",
      "\n",
      "# Anotehr way of combining lists is by \"adding\"\n",
      "print list('ACTG') + alien_nucleotides"
     ],
     "language": "python",
     "metadata": {},
     "outputs": [
      {
       "output_type": "stream",
       "stream": "stdout",
       "text": [
        "['A', 'C', 'T', 'G']\n",
        "['A', 'C', 'T', 'G']\n",
        "['A', 'C', 'T', 'G', 'U']\n",
        "['A', 'C', 'T', 'G', 'U', 'X', 'Y', 'Z']\n",
        "['A', 'C', 'T', 'G', ['X', 'Y', 'Z']]\n",
        "['A', 'C', 'T', 'G', 'X', 'Y', 'Z']\n"
       ]
      }
     ],
     "prompt_number": 55
    },
    {
     "cell_type": "code",
     "collapsed": false,
     "input": [
      "# Extracting elements from a list is similar\n",
      "\n",
      "ls = list(s)\n",
      "\n",
      "print ls\n",
      "print ls[0:3]\n",
      "print ls[:3]\n",
      "print ls[3:]\n",
      "print ls[1::2]\n",
      "print ls[::-1]"
     ],
     "language": "python",
     "metadata": {},
     "outputs": [
      {
       "output_type": "stream",
       "stream": "stdout",
       "text": [
        "['G', 'A', 'T', 'T', 'A', 'C', 'A']\n",
        "['G', 'A', 'T']\n",
        "['G', 'A', 'T']\n",
        "['T', 'A', 'C', 'A']\n",
        "['A', 'T', 'C']\n",
        "['A', 'C', 'A', 'T', 'T', 'A', 'G']\n"
       ]
      }
     ],
     "prompt_number": 56
    },
    {
     "cell_type": "code",
     "collapsed": false,
     "input": [
      "# List also have similar useful methods\n",
      "\n",
      "print \"Number of T's:\", ls.count('T')\n",
      "ls.sort() # in-place sort\n",
      "print ls\n",
      "ls.reverse() # in-place reversal\n",
      "print ls"
     ],
     "language": "python",
     "metadata": {},
     "outputs": [
      {
       "output_type": "stream",
       "stream": "stdout",
       "text": [
        "Number of T's: 2\n",
        "['A', 'A', 'A', 'C', 'G', 'T', 'T']\n",
        "['T', 'T', 'G', 'C', 'A', 'A', 'A']\n"
       ]
      }
     ],
     "prompt_number": 57
    },
    {
     "cell_type": "code",
     "collapsed": false,
     "input": [
      "# Sometimes we prefer to sort and replace without changing the original variable\n",
      "\n",
      "ls = list(s)\n",
      "print ls\n",
      "print sorted(ls)\n",
      "print ls, \"has not changed after using sorted\"\n",
      "ls.sort()\n",
      "print ls, \"has been changed after using sort\""
     ],
     "language": "python",
     "metadata": {},
     "outputs": [
      {
       "output_type": "stream",
       "stream": "stdout",
       "text": [
        "['G', 'A', 'T', 'T', 'A', 'C', 'A']\n",
        "['A', 'A', 'A', 'C', 'G', 'T', 'T']\n",
        "['G', 'A', 'T', 'T', 'A', 'C', 'A'] has not changed after using sorted\n",
        "['A', 'A', 'A', 'C', 'G', 'T', 'T'] has been changed after using sort\n"
       ]
      }
     ],
     "prompt_number": 58
    },
    {
     "cell_type": "code",
     "collapsed": false,
     "input": [
      "# We can add and remove items from a list\n",
      "\n",
      "list1 =[1,2,3]\n",
      "list2 =[4,5,6]\n",
      "print list1 + list2\n",
      "list1.append('a')\n",
      "print list1\n",
      "list1.append(['apple', 'banana'])\n",
      "print list1\n",
      "list2.extend(['apple', 'banana'])\n",
      "print list2\n",
      "list1.remove(3)\n",
      "print list1\n",
      "list1.insert(2, '99')\n",
      "print list1"
     ],
     "language": "python",
     "metadata": {},
     "outputs": [
      {
       "output_type": "stream",
       "stream": "stdout",
       "text": [
        "[1, 2, 3, 4, 5, 6]\n",
        "[1, 2, 3, 'a']\n",
        "[1, 2, 3, 'a', ['apple', 'banana']]\n",
        "[4, 5, 6, 'apple', 'banana']\n",
        "[1, 2, 'a', ['apple', 'banana']]\n",
        "[1, 2, '99', 'a', ['apple', 'banana']]\n"
       ]
      }
     ],
     "prompt_number": 59
    },
    {
     "cell_type": "code",
     "collapsed": false,
     "input": [
      "# It is often useful to convert between string and lists\n",
      "\n",
      "s = 'GATTACA'\n",
      "print s\n",
      "ls = list(s)\n",
      "print ls\n",
      "s1 = ''.join(ls)\n",
      "print s1\n",
      "s2 = '-'.join(ls)\n",
      "print s2\n",
      "s3 = ' <==> '.join(ls)\n",
      "print s3\n",
      "ls2 = s2.split('-')\n",
      "print ls2\n",
      "ls3 = s3.split(' <==> ')\n",
      "print ls3"
     ],
     "language": "python",
     "metadata": {},
     "outputs": [
      {
       "output_type": "stream",
       "stream": "stdout",
       "text": [
        "GATTACA\n",
        "['G', 'A', 'T', 'T', 'A', 'C', 'A']\n",
        "GATTACA\n",
        "G-A-T-T-A-C-A\n",
        "G <==> A <==> T <==> T <==> A <==> C <==> A\n",
        "['G', 'A', 'T', 'T', 'A', 'C', 'A']\n",
        "['G', 'A', 'T', 'T', 'A', 'C', 'A']\n"
       ]
      }
     ],
     "prompt_number": 60
    },
    {
     "cell_type": "heading",
     "level": 3,
     "metadata": {},
     "source": [
      "Working with dictionaries"
     ]
    },
    {
     "cell_type": "code",
     "collapsed": false,
     "input": [
      "# constructing dictionaries\n",
      "\n",
      "# molecular weights of non-terminal nucleotides in DNA\n",
      "dna_mw = {\n",
      "    'A' : 313.2,\n",
      "    'T' : 304.2, \n",
      "    'C' : 289.2,\n",
      "    'G' : 329.2\n",
      "    }\n",
      "print dna_mw\n",
      "\n",
      "# By conversion - requires a collection of (key, value) pairs\n",
      "dna_mw = dict([('A', 313.2), ('T', 304.2), ('C', 289.2), ('G', 329.2)])\n",
      "print dna_mw"
     ],
     "language": "python",
     "metadata": {},
     "outputs": [
      {
       "output_type": "stream",
       "stream": "stdout",
       "text": [
        "{'A': 313.2, 'C': 289.2, 'T': 304.2, 'G': 329.2}\n",
        "{'A': 313.2, 'C': 289.2, 'T': 304.2, 'G': 329.2}\n"
       ]
      }
     ],
     "prompt_number": 61
    },
    {
     "cell_type": "code",
     "collapsed": false,
     "input": [
      "# extracting values from dictionaries\n",
      "\n",
      "print dna_mw['T']\n",
      "print dna_mw.keys()\n",
      "print dna_mw.values()\n",
      "print dna_mw.items()"
     ],
     "language": "python",
     "metadata": {},
     "outputs": [
      {
       "output_type": "stream",
       "stream": "stdout",
       "text": [
        "304.2\n",
        "['A', 'C', 'T', 'G']\n",
        "[313.2, 289.2, 304.2, 329.2]\n",
        "[('A', 313.2), ('C', 289.2), ('T', 304.2), ('G', 329.2)]\n"
       ]
      }
     ],
     "prompt_number": 62
    },
    {
     "cell_type": "code",
     "collapsed": false,
     "input": [
      "# If a key is not in a dictionary, attempt to retrieve will give an error\n",
      "\n",
      "print dna_mw['U']"
     ],
     "language": "python",
     "metadata": {},
     "outputs": [
      {
       "ename": "KeyError",
       "evalue": "'U'",
       "output_type": "pyerr",
       "traceback": [
        "\u001b[0;31m---------------------------------------------------------------------------\u001b[0m\n\u001b[0;31mKeyError\u001b[0m                                  Traceback (most recent call last)",
        "\u001b[0;32m<ipython-input-63-b910abe06452>\u001b[0m in \u001b[0;36m<module>\u001b[0;34m()\u001b[0m\n\u001b[1;32m      1\u001b[0m \u001b[0;31m# If a key is not in a dictionary, attempt to retrieve will give an error\u001b[0m\u001b[0;34m\u001b[0m\u001b[0;34m\u001b[0m\u001b[0m\n\u001b[1;32m      2\u001b[0m \u001b[0;34m\u001b[0m\u001b[0m\n\u001b[0;32m----> 3\u001b[0;31m \u001b[0;32mprint\u001b[0m \u001b[0mdna_mw\u001b[0m\u001b[0;34m[\u001b[0m\u001b[0;34m'U'\u001b[0m\u001b[0;34m]\u001b[0m\u001b[0;34m\u001b[0m\u001b[0m\n\u001b[0m",
        "\u001b[0;31mKeyError\u001b[0m: 'U'"
       ]
      }
     ],
     "prompt_number": 63
    },
    {
     "cell_type": "code",
     "collapsed": false,
     "input": [
      "# We can use the \"get\" method to return a default value if the key is not found\n",
      "print dna_mw.get('U', 0)\n",
      "print dna_mw.get('T', 0)"
     ],
     "language": "python",
     "metadata": {},
     "outputs": [
      {
       "output_type": "stream",
       "stream": "stdout",
       "text": [
        "0\n",
        "304.2\n"
       ]
      }
     ],
     "prompt_number": 64
    },
    {
     "cell_type": "heading",
     "level": 3,
     "metadata": {},
     "source": [
      "Working with tuples"
     ]
    },
    {
     "cell_type": "code",
     "collapsed": false,
     "input": [
      "# The tuple constructor is the *comma*\n",
      "# But often parenthesis are put around a tuple\n",
      "\n",
      "atuple = 'a', 'b', 'c'\n",
      "print atuple\n",
      "\n",
      "atuple = ('a', 'b', 'c')\n",
      "print atuple"
     ],
     "language": "python",
     "metadata": {},
     "outputs": [
      {
       "output_type": "stream",
       "stream": "stdout",
       "text": [
        "('a', 'b', 'c')\n",
        "('a', 'b', 'c')\n"
       ]
      }
     ],
     "prompt_number": 65
    },
    {
     "cell_type": "code",
     "collapsed": false,
     "input": [
      "# Tuples behave like lists, except that they cannot be modified (immutable)\n",
      "# Because they cannot be modified, tuples can be keys in a dictionary while lists cannot\n",
      "\n",
      "print atuple[::2]\n",
      "\n",
      "adict = {}\n",
      "adict[atuple] = 'First 3 letters of alphabet'\n",
      "print adict"
     ],
     "language": "python",
     "metadata": {},
     "outputs": [
      {
       "output_type": "stream",
       "stream": "stdout",
       "text": [
        "('a', 'c')\n",
        "{('a', 'b', 'c'): 'First 3 letters of alphabet'}\n"
       ]
      }
     ],
     "prompt_number": 66
    },
    {
     "cell_type": "code",
     "collapsed": false,
     "input": [
      "# In Python, tuples can be assigned \"in parallel\"\n",
      "\n",
      "a, b, c = 1, 2, 3\n",
      "print a, b, c"
     ],
     "language": "python",
     "metadata": {},
     "outputs": [
      {
       "output_type": "stream",
       "stream": "stdout",
       "text": [
        "1 2 3\n"
       ]
      }
     ],
     "prompt_number": 67
    },
    {
     "cell_type": "code",
     "collapsed": false,
     "input": [
      "# This is sometimes used for swapping variable values\n",
      "print \"Before swap\"\n",
      "print \"a =\", a\n",
      "print \"b =\", b\n",
      "a, b = b, a\n",
      "print \"After swap\"\n",
      "print \"a =\", a\n",
      "print \"b =\", b"
     ],
     "language": "python",
     "metadata": {},
     "outputs": [
      {
       "output_type": "stream",
       "stream": "stdout",
       "text": [
        "Before swap\n",
        "a = 1\n",
        "b = 2\n",
        "After swap\n",
        "a = 2\n",
        "b = 1\n"
       ]
      }
     ],
     "prompt_number": 68
    },
    {
     "cell_type": "heading",
     "level": 3,
     "metadata": {},
     "source": [
      "Using sets"
     ]
    },
    {
     "cell_type": "code",
     "collapsed": false,
     "input": [
      "# Sets behave like the sets you learn about in math classes\n",
      "# Sets do not contain duplicates - this is useful to find unique items in a collection\n",
      "\n",
      "dna = 'GATTACA'\n",
      "aset = set(dna)\n",
      "print aset\n",
      "for nucleotide in aset:\n",
      "    print nucleotide, dna.count(nucleotide)"
     ],
     "language": "python",
     "metadata": {},
     "outputs": [
      {
       "output_type": "stream",
       "stream": "stdout",
       "text": [
        "set(['A', 'C', 'T', 'G'])\n",
        "A 3\n",
        "C 1\n",
        "T 2\n",
        "G 1\n"
       ]
      }
     ],
     "prompt_number": 69
    },
    {
     "cell_type": "heading",
     "level": 3,
     "metadata": {},
     "source": [
      "Looping "
     ]
    },
    {
     "cell_type": "code",
     "collapsed": false,
     "input": [
      "# Programming is most often used to repeat some task many times. The most basic way to do this is with a ```for``` loop\n",
      "\n",
      "for num in range(10):\n",
      "    print num,\n",
      "print \n",
      "    \n",
      "for char in ['a', 'e', 'i', 'o', 'u']:\n",
      "    print char,\n",
      "print "
     ],
     "language": "python",
     "metadata": {},
     "outputs": [
      {
       "output_type": "stream",
       "stream": "stdout",
       "text": [
        "0 1 2 3 4 5 6 7 8 9\n",
        "a e i o u\n"
       ]
      }
     ],
     "prompt_number": 70
    },
    {
     "cell_type": "code",
     "collapsed": false,
     "input": [
      "# looping can be used to construct a collection\n",
      "\n",
      "xs = []\n",
      "for num in range(10):\n",
      "    xs.append(num * num)\n",
      "print xs"
     ],
     "language": "python",
     "metadata": {},
     "outputs": [
      {
       "output_type": "stream",
       "stream": "stdout",
       "text": [
        "[0, 1, 4, 9, 16, 25, 36, 49, 64, 81]\n"
       ]
      }
     ],
     "prompt_number": 71
    },
    {
     "cell_type": "heading",
     "level": 3,
     "metadata": {},
     "source": [
      "Controlling program flow with \"if-elif-else\""
     ]
    },
    {
     "cell_type": "code",
     "collapsed": false,
     "input": [
      "# use if to make decisions\n",
      "grade = 93\n",
      "if grade > 50:\n",
      "    print \"Pass\"\n",
      "\n",
      "# Can have alternative with else\n",
      "if grade > 50:\n",
      "    print \"Pass\"\n",
      "else:\n",
      "    print \"Fail\"\n",
      "    \n",
      "# Or a whole chain of alternatives\n",
      "if grade >= 90:\n",
      "    print 'A'\n",
      "elif grade >= 80:\n",
      "    print 'B'\n",
      "elif grade >= 70:\n",
      "    print 'C'\n",
      "else:\n",
      "    print 'F'\n",
      "    \n",
      "# Be careful with ordering\n",
      "if grade >= 70:\n",
      "    print 'C'\n",
      "elif grade >= 80:\n",
      "    print 'B'\n",
      "elif grade >= 90:\n",
      "    print 'A'\n",
      "else:\n",
      "    print 'F'"
     ],
     "language": "python",
     "metadata": {},
     "outputs": [
      {
       "output_type": "stream",
       "stream": "stdout",
       "text": [
        "Pass\n",
        "Pass\n",
        "A\n",
        "C\n"
       ]
      }
     ],
     "prompt_number": 72
    },
    {
     "cell_type": "heading",
     "level": 3,
     "metadata": {},
     "source": [
      "Combining `for` and `if` statements"
     ]
    },
    {
     "cell_type": "code",
     "collapsed": false,
     "input": [
      "# A common idiom is to use if to filter the construction of a list. Compare\n",
      "\n",
      "xs = []\n",
      "for num in range(10):\n",
      "    xs.append(num * num)\n",
      "print xs\n",
      "\n",
      "xs = []\n",
      "for num in range(10):\n",
      "    if num % 2 == 0: # num is even\n",
      "        xs.append(num * num)\n",
      "print xs"
     ],
     "language": "python",
     "metadata": {},
     "outputs": [
      {
       "output_type": "stream",
       "stream": "stdout",
       "text": [
        "[0, 1, 4, 9, 16, 25, 36, 49, 64, 81]\n",
        "[0, 4, 16, 36, 64]\n"
       ]
      }
     ],
     "prompt_number": 73
    },
    {
     "cell_type": "code",
     "collapsed": false,
     "input": [
      "# These idioms are so common that there is a short-hand for coding them known as \"list comprehensions\"\n",
      "xs = [num*num for num in range(10)]\n",
      "print xs\n",
      "\n",
      "# We can also use the if statement as a filter within a list comprehension\n",
      "xs = [num*num for num in range(10) if num % 2 == 0]\n",
      "print xs"
     ],
     "language": "python",
     "metadata": {},
     "outputs": [
      {
       "output_type": "stream",
       "stream": "stdout",
       "text": [
        "[0, 1, 4, 9, 16, 25, 36, 49, 64, 81]\n",
        "[0, 4, 16, 36, 64]\n"
       ]
      }
     ],
     "prompt_number": 74
    },
    {
     "cell_type": "code",
     "collapsed": false,
     "input": [
      "# Other comprehensions\n",
      "\n",
      "# Use of () creates a generator expression - no intermediate list is produced but items can be retrieved one at a time\n",
      "# this is particularly useful if the list is very large (e.g. exceeds RAM on computer)\n",
      "xs = (num*num for num in range(10) if num % 2 == 0)\n",
      "print xs\n",
      "\n",
      "for x in xs:\n",
      "    print x,\n",
      "print\n",
      "    \n",
      "# Use of {} creates a dictionary comprehension\n",
      "ys = {num : num*num for num in range(10) if num % 2 == 0}\n",
      "print ys"
     ],
     "language": "python",
     "metadata": {},
     "outputs": [
      {
       "output_type": "stream",
       "stream": "stdout",
       "text": [
        "<generator object <genexpr> at 0x10ad73960>\n",
        "0 4 16 36 64\n",
        "{0: 0, 8: 64, 2: 4, 4: 16, 6: 36}\n"
       ]
      }
     ],
     "prompt_number": 75
    },
    {
     "cell_type": "code",
     "collapsed": false,
     "input": [],
     "language": "python",
     "metadata": {},
     "outputs": [],
     "prompt_number": 75
    }
   ],
   "metadata": {}
  }
 ]
}