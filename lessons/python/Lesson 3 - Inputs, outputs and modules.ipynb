{
 "metadata": {
  "name": "",
  "signature": "sha256:01e2d7aa7b5a9ffdad43f783cf7d6d1b3f4f6b40ebfaa0e7c030046c753297b2"
 },
 "nbformat": 3,
 "nbformat_minor": 0,
 "worksheets": [
  {
   "cells": [
    {
     "cell_type": "markdown",
     "metadata": {},
     "source": [
      "Summary\n",
      "----\n",
      "\n",
      "In this final Python lesson, we learn to read and write data from a variety of sources, as well as make use of the huge universe of Python code available as modules."
     ]
    },
    {
     "cell_type": "heading",
     "level": 3,
     "metadata": {},
     "source": [
      "File I/O"
     ]
    },
    {
     "cell_type": "code",
     "collapsed": false,
     "input": [
      "%%file dna_strings.txt\n",
      "ATTAGCAT\n",
      "TTCATTCGGG\n",
      "TCAATTCGAAA"
     ],
     "language": "python",
     "metadata": {},
     "outputs": [
      {
       "output_type": "stream",
       "stream": "stdout",
       "text": [
        "Overwriting dna_strings.txt\n"
       ]
      }
     ],
     "prompt_number": 1
    },
    {
     "cell_type": "code",
     "collapsed": false,
     "input": [
      "# reading one line at a time\n",
      "with open('dna_strings.txt', 'rU') as f:\n",
      "    for line in f: # Note that f is a generator - this will work even if the original file is many terabytes in size\n",
      "        print line.strip()"
     ],
     "language": "python",
     "metadata": {},
     "outputs": [
      {
       "output_type": "stream",
       "stream": "stdout",
       "text": [
        "ATTAGCAT\n",
        "TTCATTCGGG\n",
        "TCAATTCGAAA\n"
       ]
      }
     ],
     "prompt_number": 2
    },
    {
     "cell_type": "code",
     "collapsed": false,
     "input": [
      "# reading one line at a time is useful if we need to process lines differently\n",
      "# reading one line at a time\n",
      "with open('dna_strings.txt', 'rU') as f:\n",
      "    for line in f:\n",
      "        if line.startswith('T'): # this is often used to ignore headers etc\n",
      "            print line,"
     ],
     "language": "python",
     "metadata": {},
     "outputs": [
      {
       "output_type": "stream",
       "stream": "stdout",
       "text": [
        "TTCATTCGGG\n",
        "TCAATTCGAAA\n"
       ]
      }
     ],
     "prompt_number": 3
    },
    {
     "cell_type": "code",
     "collapsed": false,
     "input": [
      "# read into a single string\n",
      "with open('dna_strings.txt', 'rU') as f:\n",
      "    text = f.read()\n",
      "text"
     ],
     "language": "python",
     "metadata": {},
     "outputs": [
      {
       "metadata": {},
       "output_type": "pyout",
       "prompt_number": 4,
       "text": [
        "'ATTAGCAT\\nTTCATTCGGG\\nTCAATTCGAAA'"
       ]
      }
     ],
     "prompt_number": 4
    },
    {
     "cell_type": "code",
     "collapsed": false,
     "input": [
      "# reading into a list of lines\n",
      "with open('dna_strings.txt', 'rU') as f:\n",
      "    seqs = f.readlines()\n",
      "seqs"
     ],
     "language": "python",
     "metadata": {},
     "outputs": [
      {
       "metadata": {},
       "output_type": "pyout",
       "prompt_number": 5,
       "text": [
        "['ATTAGCAT\\n', 'TTCATTCGGG\\n', 'TCAATTCGAAA']"
       ]
      }
     ],
     "prompt_number": 5
    },
    {
     "cell_type": "code",
     "collapsed": false,
     "input": [
      "# reading into a list of lines and remove '\\n' character using split()\n",
      "with open('dna_strings.txt', 'rU') as f:\n",
      "    seqs = f.read().split()\n",
      "seqs"
     ],
     "language": "python",
     "metadata": {},
     "outputs": [
      {
       "metadata": {},
       "output_type": "pyout",
       "prompt_number": 6,
       "text": [
        "['ATTAGCAT', 'TTCATTCGGG', 'TCAATTCGAAA']"
       ]
      }
     ],
     "prompt_number": 6
    },
    {
     "cell_type": "markdown",
     "metadata": {},
     "source": [
      "### Reading in a FASTA file"
     ]
    },
    {
     "cell_type": "code",
     "collapsed": false,
     "input": [
      "%%file fasta.txt\n",
      ">gi|129295|sp|P01013|OVAX_CHICK GENE X PROTEIN (OVALBUMIN-RELATED)\n",
      "QIKDLLVSSSTDLDTTLVLVNAIYFKGMWKTAFNAEDTREMPFHVTKQESKPVQMMCMNNSFNVATLPAE\n",
      "KMKILELPFASGDLSMLVLLPDEVSDLERIEKTINFEKLTEWTNPNTMEKRRVKVYLPQMKIEEKYNLTS\n",
      "VLMALGMTDLFIPSANLTGISSAESLKISQAVHGAFMELSEDGIEMAGSTGVIEDIKHSPESEQFRADHP\n",
      "FLFLIKHNPTNTIVYFGRYWSP"
     ],
     "language": "python",
     "metadata": {},
     "outputs": [
      {
       "output_type": "stream",
       "stream": "stdout",
       "text": [
        "Overwriting fasta.txt\n"
       ]
      }
     ],
     "prompt_number": 7
    },
    {
     "cell_type": "code",
     "collapsed": false,
     "input": [
      "with open('fasta.txt', 'rU') as f:\n",
      "    lines = []\n",
      "    for line in f:\n",
      "        if not line.startswith('>'): \n",
      "            lines.append(line.strip())\n",
      "seq = ''.join(lines)\n",
      "print seq"
     ],
     "language": "python",
     "metadata": {},
     "outputs": [
      {
       "output_type": "stream",
       "stream": "stdout",
       "text": [
        "QIKDLLVSSSTDLDTTLVLVNAIYFKGMWKTAFNAEDTREMPFHVTKQESKPVQMMCMNNSFNVATLPAEKMKILELPFASGDLSMLVLLPDEVSDLERIEKTINFEKLTEWTNPNTMEKRRVKVYLPQMKIEEKYNLTSVLMALGMTDLFIPSANLTGISSAESLKISQAVHGAFMELSEDGIEMAGSTGVIEDIKHSPESEQFRADHPFLFLIKHNPTNTIVYFGRYWSP\n"
       ]
      }
     ],
     "prompt_number": 8
    },
    {
     "cell_type": "markdown",
     "metadata": {},
     "source": [
      "### Reading in a CSV file"
     ]
    },
    {
     "cell_type": "code",
     "collapsed": false,
     "input": [
      "import csv\n",
      "\n",
      "# Affymetrix annotation file example\n",
      "with open('S_aureus.na34.annot.csv') as f:\n",
      "    reader = csv.DictReader(line for line in f if not line.startswith('#'))\n",
      "    for row in reader:\n",
      "        print row['Probe Set ID'], '=>', row['Target Description']\n",
      "        # stop when 10 lines printed\n",
      "        if reader.line_num > 10:\n",
      "            break"
     ],
     "language": "python",
     "metadata": {},
     "outputs": [
      {
       "output_type": "stream",
       "stream": "stdout",
       "text": [
        "AFFX-18SRNAMur/X00686_3_at => M. musculus /GEN=18S rRNA /DB_XREF=gb:X00686.1 /NOTE=SIF corresponding to nucleotides 1321-1821 of gb:X00686.1 /DEF=Mouse gene for 18S rRNA.\n",
        "AFFX-18SRNAMur/X00686_5_at => M. musculus /GEN=18S rRNA /DB_XREF=gb:X00686.1 /NOTE=SIF corresponding to nucleotides 27-612 of gb:X00686.1 /DEF=Mouse gene for 18S rRNA.\n",
        "AFFX-18SRNAMur/X00686_M_at => M. musculus /GEN=18S rRNA /DB_XREF=gb:X00686.1 /NOTE=SIF corresponding to nucleotides 755-1227 of gb:X00686.1 /DEF=Mouse gene for 18S rRNA.\n",
        "AFFX-Athal_actin_at => A. thaliana /GEN=actin-2 /DB_XREF=gb:U37281.1 /NOTE=SIF corresponding to nucleotides 40-1597 of gb:U37281.1 /DEF=Arabidopsis thaliana actin-2 mRNA, complete cds.\n",
        "AFFX-Athal_GAPDH_at => A. thaliana /GEN=GapC /DB_XREF=gb:M64116.1 /NOTE=SIF corresponding to nucleotides 127-1205 of gb:M64116.1 /DEF=Arabidopsis thaliana glyceraldehyde 3-phosphate dehydrogenase C subunit (GapC) gene, complete cds.\n",
        "AFFX-Athal_ubq_at => A. thaliana /GEN=UBQ11 /DB_XREF=gb:U84969.1 /NOTE=SIF corresponding to nucleotides 56-1099 of gb:U84969.1 /DEF=Arabidopsis thaliana ubiquitin (UBQ11) gene, complete cds.\n",
        "AFFX-b-ActinMur/M12481_3_at => M. musculus /GEN=beta-actin /DB_XREF=gb:M12481.1 /NOTE=SIF corresponding to nucleotides 762-1074 of gb:M12481.1 /DEF=Mouse cytoplasmic beta-actin mRNA.\n",
        "AFFX-b-ActinMur/M12481_5_at => M. musculus /GEN=beta-actin /DB_XREF=gb:M12481.1 /NOTE=SIF corresponding to nucleotides 69-383 of gb:M12481.1 /DEF=Mouse cytoplasmic beta-actin mRNA.\n",
        "AFFX-b-ActinMur/M12481_M_at => M. musculus /GEN=beta-actin /DB_XREF=gb:M12481.1 /NOTE=SIF corresponding to nucleotides 436-715 of gb:M12481.1 /DEF=Mouse cytoplasmic beta-actin mRNA.\n",
        "AFFX-BioB-3_at => E. coli /GEN=bioB /DB_XREF=gb:J04423.1 /NOTE=SIF corresponding to nucleotides 2755-3052 of gb:J04423.1 /DEF=E.coli 7,8-diamino-pelargonic acid (bioA), biotin synthetase (bioB), 7-keto-8-amino-pelargonic acid synthetase (bioF), bioC protein, and dethiobiotin synthetase (bioD), complete cds.\n"
       ]
      }
     ],
     "prompt_number": 3
    },
    {
     "cell_type": "markdown",
     "metadata": {},
     "source": [
      "### Reading data from the web\n",
      "\n",
      "Many public data sets can now be easily accessed via the Internet. For example, there is an amazing amount of information provided at <https://www.data.gov/>. We can use Python to read and parse these data sets. A whimsical example is shown below."
     ]
    },
    {
     "cell_type": "code",
     "collapsed": false,
     "input": [
      "import urllib2\n",
      "\n",
      "# What are New Yorkers naming their babies?\n",
      "f = urllib2.urlopen('http://health.data.ny.gov/api/views/jxy9-yhdk/rows.csv')\n",
      "reader = csv.reader(f)\n",
      "for row in reader:\n",
      "    print ', '.join(row)\n",
      "    # stop when 10 lines printed\n",
      "    if reader.line_num > 10:\n",
      "       break"
     ],
     "language": "python",
     "metadata": {},
     "outputs": [
      {
       "output_type": "stream",
       "stream": "stdout",
       "text": [
        "Year, First Name, County, Sex, Count\n",
        "2012, DOMINIC, CAYUGA, M, 6\n",
        "2012, ADDISON, ONONDAGA, F, 14\n",
        "2012, JULIA, ONONDAGA, F, 15\n",
        "2012, WILLIAM, WESTCHESTER, M, 41\n",
        "2012, AMELIA, ONONDAGA, F, 15\n",
        "2012, LILY, ONONDAGA, F, 15\n",
        "2012, AIDAN, WESTCHESTER, M, 16\n",
        "2012, STEVEN, WESTCHESTER, M, 16\n",
        "2012, MAX, WESTCHESTER, M, 16\n",
        "2012, BENJAMIN, WESTCHESTER, M, 40\n"
       ]
      }
     ],
     "prompt_number": 4
    },
    {
     "cell_type": "markdown",
     "metadata": {},
     "source": [
      "### File output\n",
      "\n",
      "Writing data to a file is also simple. For quick and dirty solutions, the %%file magic function we have been using is great. Other options:"
     ]
    },
    {
     "cell_type": "code",
     "collapsed": false,
     "input": [
      "# Opening a file for writing\n",
      "\n",
      "with open('output.txt', 'w') as f:\n",
      "    f.write('This is line one\\n')\n",
      "    f.write('This is line two\\n')"
     ],
     "language": "python",
     "metadata": {},
     "outputs": [],
     "prompt_number": 11
    },
    {
     "cell_type": "code",
     "collapsed": false,
     "input": [
      "!cat output.txt"
     ],
     "language": "python",
     "metadata": {},
     "outputs": [
      {
       "output_type": "stream",
       "stream": "stdout",
       "text": [
        "This is line one\r\n",
        "This is line two\r\n"
       ]
      }
     ],
     "prompt_number": 12
    },
    {
     "cell_type": "code",
     "collapsed": false,
     "input": [
      "# Save baby names from SUFFOLK county\n",
      "f = urllib2.urlopen('http://health.data.ny.gov/api/views/jxy9-yhdk/rows.csv')\n",
      "reader = csv.reader(f)\n",
      "\n",
      "with open('suffolk_babies.csv', 'w') as outfile:\n",
      "    writer = csv.writer(outfile)\n",
      "    \n",
      "    for row in reader:\n",
      "        if row[2] == 'SUFFOLK':\n",
      "            writer.writerow(row)"
     ],
     "language": "python",
     "metadata": {},
     "outputs": [],
     "prompt_number": 6
    },
    {
     "cell_type": "code",
     "collapsed": false,
     "input": [
      "!head 'suffolk_babies.csv'"
     ],
     "language": "python",
     "metadata": {},
     "outputs": [
      {
       "output_type": "stream",
       "stream": "stdout",
       "text": [
        "2012,JOSHUA,SUFFOLK,M,56\r",
        "\r\n",
        "2012,JASON,SUFFOLK,M,55\r",
        "\r\n",
        "2012,THOMAS,SUFFOLK,M,55\r",
        "\r\n",
        "2012,NOAH,SUFFOLK,M,54\r",
        "\r\n",
        "2012,LUCAS,SUFFOLK,M,54\r",
        "\r\n",
        "2012,ETHAN,SUFFOLK,M,53\r",
        "\r\n",
        "2012,JACKSON,SUFFOLK,M,52\r",
        "\r\n",
        "2012,BENJAMIN,SUFFOLK,M,50\r",
        "\r\n",
        "2012,DAVID,SUFFOLK,M,48\r",
        "\r\n",
        "2012,ASHTON,SUFFOLK,M,7\r",
        "\r\n"
       ]
      }
     ],
     "prompt_number": 7
    },
    {
     "cell_type": "markdown",
     "metadata": {},
     "source": [
      "### Modules\n",
      "\n",
      "A module is essentially just a .py file with some python code in it. Modules let us organize our code into higher level units."
     ]
    },
    {
     "cell_type": "code",
     "collapsed": false,
     "input": [
      "%%file test_module.py\n",
      "\n",
      "dna_mw = {\n",
      "    'A' : 313.2,\n",
      "    'T' : 304.2, \n",
      "    'C' : 289.2,\n",
      "    'G' : 329.2\n",
      "    }\n",
      "\n",
      "def greet():\n",
      "    print \"Hello!\"   \n"
     ],
     "language": "python",
     "metadata": {},
     "outputs": [
      {
       "output_type": "stream",
       "stream": "stdout",
       "text": [
        "Overwriting test_module.py\n"
       ]
      }
     ],
     "prompt_number": 15
    },
    {
     "cell_type": "code",
     "collapsed": false,
     "input": [
      "# We use import to gain access to objects and functions defined in a module. There are several ways to use import.\n",
      "\n",
      "import test_module\n",
      "\n",
      "test_module.greet()\n",
      "print test_module.dna_mw['T']"
     ],
     "language": "python",
     "metadata": {},
     "outputs": [
      {
       "output_type": "stream",
       "stream": "stdout",
       "text": [
        "Hello!\n",
        "304.2\n"
       ]
      }
     ],
     "prompt_number": 16
    },
    {
     "cell_type": "code",
     "collapsed": false,
     "input": [
      "# We can also use an alias to save a bit of typing\n",
      "\n",
      "import test_module as tm\n",
      "\n",
      "tm.greet()\n",
      "print tm.dna_mw['T']"
     ],
     "language": "python",
     "metadata": {},
     "outputs": [
      {
       "output_type": "stream",
       "stream": "stdout",
       "text": [
        "Hello!\n",
        "304.2\n"
       ]
      }
     ],
     "prompt_number": 17
    },
    {
     "cell_type": "code",
     "collapsed": false,
     "input": [
      "# Or just import the bits we are interested in\n",
      "from test_module import greet, dna_mw\n",
      "\n",
      "greet()\n",
      "print dna_mw['T']"
     ],
     "language": "python",
     "metadata": {},
     "outputs": [
      {
       "output_type": "stream",
       "stream": "stdout",
       "text": [
        "Hello!\n",
        "304.2\n"
       ]
      }
     ],
     "prompt_number": 18
    },
    {
     "cell_type": "code",
     "collapsed": false,
     "input": [
      "# Bits imported can also be aliased (for example, to avoid name collisions)\n",
      "from test_module import greet as hello\n",
      "\n",
      "hello()"
     ],
     "language": "python",
     "metadata": {},
     "outputs": [
      {
       "output_type": "stream",
       "stream": "stdout",
       "text": [
        "Hello!\n"
       ]
      }
     ],
     "prompt_number": 19
    },
    {
     "cell_type": "code",
     "collapsed": false,
     "input": [
      "# You will sometimes encounter this form of importing everything at once \n",
      "# Please avoid doing this as the risk of a bug due to name collisions is high)\n",
      "from test_module import *\n",
      "\n",
      "greet()\n",
      "print dna_mw['T']"
     ],
     "language": "python",
     "metadata": {},
     "outputs": [
      {
       "output_type": "stream",
       "stream": "stdout",
       "text": [
        "Hello!\n",
        "304.2\n"
       ]
      }
     ],
     "prompt_number": 20
    },
    {
     "cell_type": "markdown",
     "metadata": {},
     "source": [
      "### Finding new modules\n",
      "\n",
      "There are thousands of modules available in Python, and most of the packages regularly used in Science are bundled with the Anaconda distribution. However, if the package you need is not provided by Anaconda, you can probably get it from the [Python Package Index (PyPI)](https://pypi.python.org/pypi). Over 40,000 of these modules in PyPI can be installed just by typing \n",
      "\n",
      "```bash\n",
      "pip install packagename\n",
      "``` \n",
      "\n",
      "or upgraded with \n",
      "\n",
      "```bash\n",
      "pip install -U packagename\n",
      "```\n",
      "\n",
      "in the Unix shell. \n"
     ]
    },
    {
     "cell_type": "markdown",
     "metadata": {},
     "source": [
      "### Using BioPython http://biopython.org/\n",
      "Biopython is a set of freely available tools for biological computation written in Python by an international team of developers. It is a distributed collaborative effort to develop Python libraries and applications which address the needs of current and future work in bioinformatics."
     ]
    },
    {
     "cell_type": "code",
     "collapsed": false,
     "input": [
      "from Bio import Entrez\n",
      "Entrez.email = \"cliburn.chan@duke.edu\"\n",
      "\n",
      "handle = Entrez.esearch(db=\"nucleotide\", term=\"Staphylococcus aureus[orgn] AND sea[gene] AND complete cds[def]\")\n",
      "record = Entrez.read(handle)\n",
      "record[\"Count\"]"
     ],
     "language": "python",
     "metadata": {},
     "outputs": [
      {
       "metadata": {},
       "output_type": "pyout",
       "prompt_number": 21,
       "text": [
        "'1'"
       ]
      }
     ],
     "prompt_number": 21
    },
    {
     "cell_type": "code",
     "collapsed": false,
     "input": [
      "from Bio.Seq import Seq \n",
      "\n",
      "idlist = \",\".join(record[\"IdList\"])\n",
      "handle = Entrez.efetch(db=\"nucleotide\", id=idlist, retmode=\"xml\")\n",
      "records = Entrez.read(handle)\n",
      "handle.close()\n",
      "sea_seqs = {}\n",
      "for rec in records:\n",
      "    defn = rec['GBSeq_definition']\n",
      "    seq = rec['GBSeq_sequence']\n",
      "    sea_seqs[defn] = Seq(seq)"
     ],
     "language": "python",
     "metadata": {},
     "outputs": [],
     "prompt_number": 22
    },
    {
     "cell_type": "code",
     "collapsed": false,
     "input": [
      "for seq in sea_seqs:\n",
      "    print seq\n",
      "    print '\\n> DNA'\n",
      "    dna = sea_seqs[seq]\n",
      "    print dna\n",
      "    print '\\n> Reverse Complement'\n",
      "    comp = dna.reverse_complement()\n",
      "    print comp\n",
      "    print '\\n> Peptide'\n",
      "    rev_comp = dna.reverse_complement()\n",
      "    peptide = dna.translate(table=\"Bacterial\", cds=True)\n",
      "    print peptide\n",
      "    print"
     ],
     "language": "python",
     "metadata": {},
     "outputs": [
      {
       "output_type": "stream",
       "stream": "stdout",
       "text": [
        "Staphylococcus aureus strain ATCC 25923 enterotoxin A (sea) gene, complete cds\n",
        "\n",
        "> DNA\n",
        "atgaaaaaaacagcatttatactacttttattcattgccctaacgtggacaacaagtccacttgtaaatggtagcgagaaaagcgaagaaataaatgaaaaagatttgcgaaaaaagtctgaattgcagggaacagctttaggcaatcttaaacaaatctattattacaatgaaaaagctaaaactgaaaataaagagagtcacgatcaatttttacagcatactatattgtttaaaggcttttttacaaatcattcatggtataacgatttattagtagattttgattcaaaggatattgttgataaatataaagggaaaaaagtagacttatatggtgcttattatggttatcaatgtgcgggtggtacaccaaacaaaacagcttgcatgtatggtggtgtaacgttacatgataataatcgattgaccgaagagaaaaaagtgccaatcaatttatggctagacggtaaacaaaatacagtacctttggaaacggttaaaacgaataagaaaaatgtaactgttcaggagttggatcttcaagcaagacgttatttacaggaaaaatataatttatataactctgatgtttttgatgggaaggttcagaggggattaatcgtgtttcatacttctacagaaccttcggttaattacgatttatttggtgctcaaggacagaattcaaatacactattaagaatatatagagataataaaacgattaactctgaaaacatgcatattgatatatatttatatacaagttaa\n",
        "\n",
        "> Reverse Complement\n",
        "ttaacttgtatataaatatatatcaatatgcatgttttcagagttaatcgttttattatctctatatattcttaatagtgtatttgaattctgtccttgagcaccaaataaatcgtaattaaccgaaggttctgtagaagtatgaaacacgattaatcccctctgaaccttcccatcaaaaacatcagagttatataaattatatttttcctgtaaataacgtcttgcttgaagatccaactcctgaacagttacatttttcttattcgttttaaccgtttccaaaggtactgtattttgtttaccgtctagccataaattgattggcacttttttctcttcggtcaatcgattattatcatgtaacgttacaccaccatacatgcaagctgttttgtttggtgtaccacccgcacattgataaccataataagcaccatataagtctacttttttccctttatatttatcaacaatatcctttgaatcaaaatctactaataaatcgttataccatgaatgatttgtaaaaaagcctttaaacaatatagtatgctgtaaaaattgatcgtgactctctttattttcagttttagctttttcattgtaataatagatttgtttaagattgcctaaagctgttccctgcaattcagacttttttcgcaaatctttttcatttatttcttcgcttttctcgctaccatttacaagtggacttgttgtccacgttagggcaatgaataaaagtagtataaatgctgtttttttcat\n",
        "\n",
        "> Peptide\n",
        "MKKTAFILLLFIALTWTTSPLVNGSEKSEEINEKDLRKKSELQGTALGNLKQIYYYNEKAKTENKESHDQFLQHTILFKGFFTNHSWYNDLLVDFDSKDIVDKYKGKKVDLYGAYYGYQCAGGTPNKTACMYGGVTLHDNNRLTEEKKVPINLWLDGKQNTVPLETVKTNKKNVTVQELDLQARRYLQEKYNLYNSDVFDGKVQRGLIVFHTSTEPSVNYDLFGAQGQNSNTLLRIYRDNKTINSENMHIDIYLYTS\n",
        "\n"
       ]
      }
     ],
     "prompt_number": 23
    },
    {
     "cell_type": "markdown",
     "metadata": {},
     "source": [
      "### Using Matplotlib <http://matplotlib.org/>\n",
      "\n",
      "Matplotlib is a python 2D plotting library which produces publication quality figures in a variety of hardcopy formats and interactive environments across platforms. matplotlib can be used in python scripts, the python and ipython shell (ala MATLAB\u00ae* or Mathematica\u00ae\u2020), web application servers, and six graphical user interface toolkits."
     ]
    },
    {
     "cell_type": "code",
     "collapsed": false,
     "input": [
      "# %pylab inline\n",
      "\n",
      "a, t, c, g = dna.count('a'), dna.count('t'), dna.count('c'), dna.count('g')\n",
      "counts = [a, t, c, g]\n",
      "labels=list('actg'.upper())\n",
      "\n",
      "colors = ['salmon', 'lightgreen', 'yellow', 'cyan']\n",
      "figure(figsize=(8,4))\n",
      "# make a pie chart of nucleotide counts in the S. aureus SEA gene\n",
      "subplot(1,2,1)\n",
      "patches = pie(counts, labels=labels, autopct='%1.1f%%', colors=colors)\n",
      "axis('equal')\n",
      "\n",
      "# make a horizontal bar chart of the counts\n",
      "subplot(1,2,2)\n",
      "xs = range(len(counts))\n",
      "left = [x-0.4 for x in xs]\n",
      "barh(left, counts, color=colors)\n",
      "yticks(xs, labels)\n",
      "tight_layout()"
     ],
     "language": "python",
     "metadata": {},
     "outputs": [
      {
       "metadata": {},
       "output_type": "display_data",
       "png": "[encoded data removed]",
       "text": [
        "<matplotlib.figure.Figure at 0x10ae62250>"
       ]
      }
     ],
     "prompt_number": 24
    }
   ],
   "metadata": {}
  }
 ]
}