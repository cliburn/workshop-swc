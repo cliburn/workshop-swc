{
 "metadata": {
  "name": "",
  "signature": "sha256:bc4f2b451f1e2bb870e600281f9aee317ef680589f9af2802e4cbc6213078043"
 },
 "nbformat": 3,
 "nbformat_minor": 0,
 "worksheets": [
  {
   "cells": [
    {
     "cell_type": "markdown",
     "metadata": {},
     "source": [
      "Exercises\n",
      "----\n",
      "\n",
      "The exercises will test your ability to:\n",
      "\n",
      "* Use variables to store information\n",
      "* Use strings\n",
      "* Use lists\n",
      "* Use dictionaries\n",
      "* Use a for loop to repeat actions\n",
      "* Use if to control program flow"
     ]
    },
    {
     "cell_type": "code",
     "collapsed": false,
     "input": [
      "# Q1: Convert the sequence 'ACTG' to 'actg'"
     ],
     "language": "python",
     "metadata": {},
     "outputs": [],
     "prompt_number": 9
    },
    {
     "cell_type": "code",
     "collapsed": false,
     "input": [
      "# Q2: Given the DNA sequence 'ATCG', write code to find its complement ('TAGC')."
     ],
     "language": "python",
     "metadata": {},
     "outputs": [],
     "prompt_number": 10
    },
    {
     "cell_type": "code",
     "collapsed": false,
     "input": [
      "# Q3: How many copies of 'T' are in 'CAGCTAGAGGCGAAAAAAGAGCTTATTGTTAAGCGTCGGGTCACACCGGAATACTA'?"
     ],
     "language": "python",
     "metadata": {},
     "outputs": [],
     "prompt_number": 11
    },
    {
     "cell_type": "code",
     "collapsed": false,
     "input": [
      "# Q4: What are the 27th to 30th nucleotides (inclusive, so 4 in total) in 'CAGCTAGAGGCGAAAAAAGAGCTTATTGTTAAGCGTCGGGTCACACCGGAATACTA'?"
     ],
     "language": "python",
     "metadata": {},
     "outputs": [],
     "prompt_number": 12
    },
    {
     "cell_type": "code",
     "collapsed": false,
     "input": [
      "# Q5: Find the GC content of the DNA string in Q3, where GC content is defined as 100.0 * (#G + #C)/(#A + #T + #G + #C)."
     ],
     "language": "python",
     "metadata": {},
     "outputs": [],
     "prompt_number": 14
    },
    {
     "cell_type": "code",
     "collapsed": false,
     "input": [
      "# Q6: What is 'CAGCTAGAGGCGAAAAAAGAGCTTATTGTTAAGCGTCGGGTCACACCGGAATACTA' reversed?"
     ],
     "language": "python",
     "metadata": {},
     "outputs": [],
     "prompt_number": 15
    },
    {
     "cell_type": "code",
     "collapsed": false,
     "input": [
      "# Q7. Calculate the molecular weight of 'CAGCTAGAGGCGAAAAAAGAGCTTATTGTTAAGCGTCGGGTCACACCGGAATACTA' \n",
      "# using the information from http://bit.ly/1mhsLl1\n",
      "# \n",
      "#     **Exact M.W. of ssDNA (e.g., Oligonucleotides)**: M.W. = (An x 313.2) + (Tn x 304.2) + (Cn x 289.2) + (Gn x 329.2) + 79.0\u00aa\n",
      "#     An, Tn, Cn, and Gn are the number of each respective nucleotide within the polynucleotide."
     ],
     "language": "python",
     "metadata": {},
     "outputs": [],
     "prompt_number": 18
    },
    {
     "cell_type": "code",
     "collapsed": false,
     "input": [
      "# Q8: Make 2 empty lists called dna_seqs and rna_seqs. Loop through the provided list of sequences. \n",
      "# If the sequence has 1 or more of the letter U, add it to the RNA list.\n",
      "# Otherwise add it to the DNA list.\n",
      "# Count how many of the sequences are RNA and how many are DNA.\n",
      "\n",
      "seqs = ['CATGTTTGCTGTGTATTGGT', 'GCGCUCACAGCGUAUGACCU', 'ACCGAUGACAAGUCGAAAUU', \n",
      "        'CGGAACGCTACGGGCTATAG', 'UCAUCAAAACCCGUAAGUAC', 'GGGUGCCUCAAGGGGAACCU', \n",
      "        'CATTAAGCAGGTTGAACGAG', 'CUUAUUAUCAUCUUGCGAGA', 'GGAUCAGCGAUGCGACCGCA',\n",
      "        'CCGCGGGCGAACATCATATG']"
     ],
     "language": "python",
     "metadata": {},
     "outputs": [],
     "prompt_number": 17
    },
    {
     "cell_type": "code",
     "collapsed": false,
     "input": [],
     "language": "python",
     "metadata": {},
     "outputs": []
    }
   ],
   "metadata": {}
  }
 ]
}