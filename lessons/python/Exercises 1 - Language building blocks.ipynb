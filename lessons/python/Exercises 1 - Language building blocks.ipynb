{
 "metadata": {
  "name": "",
  "signature": "sha256:59e6cd39f31a26c7647edb2b416c75c994da5c2a68e7cb1f7f54c428a4b0d2b2"
 },
 "nbformat": 3,
 "nbformat_minor": 0,
 "worksheets": [
  {
   "cells": [
    {
     "cell_type": "markdown",
     "metadata": {},
     "source": [
      "Exercises\n",
      "----\n",
      "\n",
      "The exercises will test your ability to:\n",
      "\n",
      "* Use variables to store information\n",
      "* Use strings\n",
      "* Use lists\n",
      "* Use dictionaries\n",
      "* Use a for loop to repeat actions\n",
      "* Use if to control program flow"
     ]
    },
    {
     "cell_type": "markdown",
     "metadata": {},
     "source": [
      "Q1: Convert the sequence 'ACTG' to 'actg'"
     ]
    },
    {
     "cell_type": "code",
     "collapsed": false,
     "input": [
      "dna = 'ACTG'\n",
      "\n"
     ],
     "language": "python",
     "metadata": {},
     "outputs": []
    },
    {
     "cell_type": "markdown",
     "metadata": {},
     "source": [
      "Q2: Given the DNA sequence 'ATCG', write code to find its complement ('TAGC')."
     ]
    },
    {
     "cell_type": "code",
     "collapsed": false,
     "input": [
      "dna = 'ATCG'\n",
      "\n"
     ],
     "language": "python",
     "metadata": {},
     "outputs": []
    },
    {
     "cell_type": "markdown",
     "metadata": {},
     "source": [
      "Q3: How many copies of 'T' are in 'CAGCTAGAGGCGAAAAAAGAGCTTATTGTTAAGCGTCGGGTCACACCGGAATACTA'?"
     ]
    },
    {
     "cell_type": "code",
     "collapsed": false,
     "input": [
      "dna = 'CAGCTAGAGGCGAAAAAAGAGCTTATTGTTAAGCGTCGGGTCACACCGGAATACTA'\n",
      "\n"
     ],
     "language": "python",
     "metadata": {},
     "outputs": []
    },
    {
     "cell_type": "markdown",
     "metadata": {},
     "source": [
      "Q4: What are the 27th to 30th nucleotides (inclusive, so 4 in total) in 'CAGCTAGAGGCGAAAAAAGAGCTTATTGTTAAGCGTCGGGTCACACCGGAATACTA'?"
     ]
    },
    {
     "cell_type": "code",
     "collapsed": false,
     "input": [
      "dna = 'CAGCTAGAGGCGAAAAAAGAGCTTATTGTTAAGCGTCGGGTCACACCGGAATACTA'\n",
      "\n"
     ],
     "language": "python",
     "metadata": {},
     "outputs": []
    },
    {
     "cell_type": "markdown",
     "metadata": {},
     "source": [
      "Q5: Find the GC content of the DNA string in Q3, where GC content is defined as 100.0 * (#G + #C)/(#A + #T + #G + #C)."
     ]
    },
    {
     "cell_type": "code",
     "collapsed": false,
     "input": [
      "dna = 'CAGCTAGAGGCGAAAAAAGAGCTTATTGTTAAGCGTCGGGTCACACCGGAATACTA'\n",
      "\n"
     ],
     "language": "python",
     "metadata": {},
     "outputs": []
    },
    {
     "cell_type": "markdown",
     "metadata": {},
     "source": [
      "Q6: What is 'CAGCTAGAGGCGAAAAAAGAGCTTATTGTTAAGCGTCGGGTCACACCGGAATACTA' reversed?"
     ]
    },
    {
     "cell_type": "code",
     "collapsed": false,
     "input": [
      "dna = 'CAGCTAGAGGCGAAAAAAGAGCTTATTGTTAAGCGTCGGGTCACACCGGAATACTA'\n",
      "\n"
     ],
     "language": "python",
     "metadata": {},
     "outputs": [],
     "prompt_number": 1
    },
    {
     "cell_type": "markdown",
     "metadata": {},
     "source": [
      "Q7. Calculate the molecular weight of 'CAGCTAGAGGCGAAAAAAGAGCTTATTGTTAAGCGTCGGGTCACACCGGAATACTA' using the information from <http://bit.ly/1mhsLl1>\n",
      "\n",
      "**Exact M.W. of ssDNA (e.g., Oligonucleotides)**: M.W. = (An x 313.2) + (Tn x 304.2) + (Cn x 289.2) + (Gn x 329.2) + 79.0\u00aa An, Tn, Cn, and Gn are the number of each respective nucleotide within the polynucleotide."
     ]
    },
    {
     "cell_type": "code",
     "collapsed": false,
     "input": [
      "dna = 'CAGCTAGAGGCGAAAAAAGAGCTTATTGTTAAGCGTCGGGTCACACCGGAATACTA'\n",
      "\n"
     ],
     "language": "python",
     "metadata": {},
     "outputs": []
    },
    {
     "cell_type": "markdown",
     "metadata": {},
     "source": [
      "Q8: Make 2 empty lists called dna_seqs and rna_seqs. Loop through the provided list of sequences. If the sequence has 1 or more of the letter U, add it to the RNA list. Otherwise add it to the DNA list. Count how many of the sequences are RNA and how many are DNA."
     ]
    },
    {
     "cell_type": "code",
     "collapsed": false,
     "input": [
      "seqs = ['CATGTTTGCTGTGTATTGGT', 'GCGCUCACAGCGUAUGACCU', 'ACCGAUGACAAGUCGAAAUU', \n",
      "        'CGGAACGCTACGGGCTATAG', 'UCAUCAAAACCCGUAAGUAC', 'GGGUGCCUCAAGGGGAACCU', \n",
      "        'CATTAAGCAGGTTGAACGAG', 'CUUAUUAUCAUCUUGCGAGA', 'GGAUCAGCGAUGCGACCGCA',\n",
      "        'CCGCGGGCGAACATCATATG']\n",
      "\n"
     ],
     "language": "python",
     "metadata": {},
     "outputs": []
    }
   ],
   "metadata": {}
  }
 ]
}