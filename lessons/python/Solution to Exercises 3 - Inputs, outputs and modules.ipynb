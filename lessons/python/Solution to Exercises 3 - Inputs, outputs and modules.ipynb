{
 "metadata": {
  "name": "",
  "signature": "sha256:b39ff2d8839967939df1530dab3f64612384329fd0e8998d0ce30b74fa2b819f"
 },
 "nbformat": 3,
 "nbformat_minor": 0,
 "worksheets": [
  {
   "cells": [
    {
     "cell_type": "markdown",
     "metadata": {},
     "source": [
      "Q1. The text file 'ex3-1.txt' contains one DNA sequence per line.  Read it in and answer the following:\n",
      "\n",
      "1. What is the longest sequence or sequences (in case of tie)?\n",
      "2. What is the sequence or sequences with the highest GC content?"
     ]
    },
    {
     "cell_type": "code",
     "collapsed": false,
     "input": [
      "# we take a peek to see what the file looks like\n",
      "! head -n 3 ex3-1.txt"
     ],
     "language": "python",
     "metadata": {},
     "outputs": [
      {
       "output_type": "stream",
       "stream": "stdout",
       "text": [
        "AATCCTTAAACTAGC\r\n",
        "AATATGAGAGGTATTGT\r\n",
        "GAACCCATCCG\r\n"
       ]
      }
     ],
     "prompt_number": 21
    },
    {
     "cell_type": "code",
     "collapsed": false,
     "input": [
      "# this is almost correct but ignores ties\n",
      "with open('ex3-1.txt') as f:\n",
      "    seqs = f.read().split()\n",
      "    max_seq = None\n",
      "    max_len = -1\n",
      "    for seq in seqs:\n",
      "        if len(seq) > max_len:\n",
      "            max_seq = seq\n",
      "            max_len = len(seq)\n",
      "    print max_seq, max_len"
     ],
     "language": "python",
     "metadata": {},
     "outputs": [
      {
       "output_type": "stream",
       "stream": "stdout",
       "text": [
        "CCGGATACCCTGAAACCCG 19\n"
       ]
      }
     ],
     "prompt_number": 22
    },
    {
     "cell_type": "code",
     "collapsed": false,
     "input": [
      "# this will return ties if any\n",
      "with open('ex3-1.txt') as f:\n",
      "    seqs = f.read().split()\n",
      "    seq_lens = [len(seq) for seq in seqs]\n",
      "    max_len = max(seq_lens)\n",
      "    for n, seq in zip(seq_lens, seqs):\n",
      "        if n == max_len:\n",
      "            print seq, n    "
     ],
     "language": "python",
     "metadata": {},
     "outputs": [
      {
       "output_type": "stream",
       "stream": "stdout",
       "text": [
        "CCGGATACCCTGAAACCCG 19\n"
       ]
      }
     ],
     "prompt_number": 35
    },
    {
     "cell_type": "code",
     "collapsed": false,
     "input": [
      "# sequence with the highest GC content\n",
      "\n",
      "# first write a helper function\n",
      "def gc_frac(seq):\n",
      "    \"\"\"Returns fraction of GC in seq.\"\"\"\n",
      "    gc = seq.upper().count('G') + seq.upper().count('C')\n",
      "    return float(gc)/len(seq)\n",
      "    \n",
      "with open('ex3-1.txt') as f:\n",
      "    seqs = f.read().split()\n",
      "    max_seq = None\n",
      "    max_gc = -1\n",
      "    for seq in seqs:\n",
      "        if gc_frac(seq) > max_gc:\n",
      "            max_seq = seq\n",
      "            max_gc = gc_frac(seq)\n",
      "    print max_seq, max_gc"
     ],
     "language": "python",
     "metadata": {},
     "outputs": [
      {
       "output_type": "stream",
       "stream": "stdout",
       "text": [
        "GGCCATCGCGCGGAGTC 0.764705882353\n"
       ]
      }
     ],
     "prompt_number": 19
    },
    {
     "cell_type": "code",
     "collapsed": false,
     "input": [
      "# note the similarity of the two parts\n",
      "# we can generalise by passing writing a function\n",
      "\n",
      "def find_max_seq(seqs, func=len):\n",
      "    seq_vals = [func(seq) for seq in seqs]\n",
      "    max_val = max(seq_vals)\n",
      "    for n, seq in zip(seq_vals, seqs):\n",
      "        if n == max_val:\n",
      "            print seq, n  \n",
      "    \n",
      "# now we can find both with less code duplication\n",
      "with open('ex3-1.txt') as f:\n",
      "    seqs = f.read().split()\n",
      "    find_max_seq(seqs, len)\n",
      "    find_max_seq(seqs, gc_frac)"
     ],
     "language": "python",
     "metadata": {},
     "outputs": [
      {
       "output_type": "stream",
       "stream": "stdout",
       "text": [
        "CCGGATACCCTGAAACCCG 19\n",
        "GGCCATCGCGCGGAGTC 0.764705882353\n"
       ]
      }
     ],
     "prompt_number": 11
    },
    {
     "cell_type": "markdown",
     "metadata": {},
     "source": [
      "Q2. Write the reverse complement of each sequence in `ex3-1.txt` in the file `ex3-2.txt`."
     ]
    },
    {
     "cell_type": "code",
     "collapsed": false,
     "input": [
      "def rev_comp(seq):\n",
      "    \"\"\"Reverse complement sequence.\"\"\"\n",
      "    import string\n",
      "    table = string.maketrans('ACTG', 'TGAC')\n",
      "    comp_seq = string.translate(seq.upper(), table)\n",
      "    return comp_seq[::-1]\n",
      "\n",
      "with open('ex3-1.txt') as f_in:\n",
      "    seqs = [rev_comp(line.strip()) for line in f_in]\n",
      "    seqs = '\\n'.join(seqs)\n",
      "    with open('ex3-2.txt', 'w') as f_out:\n",
      "        f_out.write(seqs)"
     ],
     "language": "python",
     "metadata": {},
     "outputs": [],
     "prompt_number": 31
    },
    {
     "cell_type": "code",
     "collapsed": false,
     "input": [
      "! head -n 3 ex3-1.txt"
     ],
     "language": "python",
     "metadata": {},
     "outputs": [
      {
       "output_type": "stream",
       "stream": "stdout",
       "text": [
        "AATCCTTAAACTAGC\r\n",
        "AATATGAGAGGTATTGT\r\n",
        "GAACCCATCCG\r\n"
       ]
      }
     ],
     "prompt_number": 32
    },
    {
     "cell_type": "code",
     "collapsed": false,
     "input": [
      "! head -n 3 ex3-2.txt"
     ],
     "language": "python",
     "metadata": {},
     "outputs": [
      {
       "output_type": "stream",
       "stream": "stdout",
       "text": [
        "GCTAGTTTAAGGATT\r\n",
        "ACAATACCTCTCATATT\r\n",
        "CGGATGGGTTC\r\n"
       ]
      }
     ],
     "prompt_number": 33
    },
    {
     "cell_type": "markdown",
     "metadata": {},
     "source": [
      "Q3. Use the csv module to read in the file 'ex3-3.csv'. \n",
      "Each line consists of 3 items: \n",
      "* a DNA sequence\n",
      "* the length of the sequence and \n",
      "* the GC content.\n",
      "\n",
      "Each item is separated by a comma.\n",
      "1. What is the longest sequence or sequences (in case of tie)?\n",
      "2. What is the sequence or sequences with the highest GC content?"
     ]
    },
    {
     "cell_type": "code",
     "collapsed": false,
     "input": [
      "! head -n 3 ex3-3.csv"
     ],
     "language": "python",
     "metadata": {},
     "outputs": [
      {
       "output_type": "stream",
       "stream": "stdout",
       "text": [
        "Seq,Length,GC content\r",
        "\r\n",
        "AATCCTTAAACTAGC,15,33\r",
        "\r\n",
        "AATATGAGAGGTATTGT,17,29\r",
        "\r\n"
       ]
      }
     ],
     "prompt_number": 13
    },
    {
     "cell_type": "code",
     "collapsed": false,
     "input": [
      "import csv\n",
      "\n",
      "with open('ex3-3.csv') as f:\n",
      "    reader = csv.reader(f)\n",
      "    reader.next() # skip first row\n",
      "    lengths = []\n",
      "    gcs = []\n",
      "    for line in reader:\n",
      "        seq, n, gc = line\n",
      "        lengths.append(n)\n",
      "        gcs.append(gc)\n",
      "    \n",
      "    find_max_seq(lengths, func=float)\n",
      "    find_max_seq(gcs, func=float)"
     ],
     "language": "python",
     "metadata": {},
     "outputs": [
      {
       "output_type": "stream",
       "stream": "stdout",
       "text": [
        "19 19.0\n",
        "76 76.0\n"
       ]
      }
     ],
     "prompt_number": 20
    },
    {
     "cell_type": "code",
     "collapsed": false,
     "input": [
      "# much less tedious and error-prone if ww use pandas\n",
      "import pandas as pd\n",
      "\n",
      "df = pd.read_csv('ex3-3.csv')\n",
      "max_len = df['Length'].max()\n",
      "max_gc = df['GC content'].max()\n",
      "print df[df['Length'] == max_len]\n",
      "print df[df['GC content'] == max_gc]"
     ],
     "language": "python",
     "metadata": {},
     "outputs": [
      {
       "output_type": "stream",
       "stream": "stdout",
       "text": [
        "                   Seq  Length  GC content\n",
        "8  CCGGATACCCTGAAACCCG      19          63\n",
        "                  Seq  Length  GC content\n",
        "13  GGCCATCGCGCGGAGTC      17          76\n"
       ]
      }
     ],
     "prompt_number": 23
    },
    {
     "cell_type": "markdown",
     "metadata": {},
     "source": [
      "Q4. Rearrange the contents of ex3-3.csv so that the 2nd and 3rd columns are switched - i.e. now each row is seq, GC content, length. Save this as ex3-4.csv using csv.writer."
     ]
    },
    {
     "cell_type": "code",
     "collapsed": false,
     "input": [
      "# Using csv\n",
      "\n",
      "with open('ex3-3.csv') as f_in, open('ex3-4.csv', 'w') as f_out:\n",
      "    reader = csv.reader(f_in)\n",
      "    writer = csv.writer(f_out)\n",
      "    for line in reader:\n",
      "        seq, n, gc = line\n",
      "        writer.writerow([seq, gc, n])"
     ],
     "language": "python",
     "metadata": {},
     "outputs": [],
     "prompt_number": 33
    },
    {
     "cell_type": "code",
     "collapsed": false,
     "input": [
      "! head -n 3 ex3-4.csv"
     ],
     "language": "python",
     "metadata": {},
     "outputs": [
      {
       "output_type": "stream",
       "stream": "stdout",
       "text": [
        "Seq,GC content,Length\r",
        "\r\n",
        "AATCCTTAAACTAGC,33,15\r",
        "\r\n",
        "AATATGAGAGGTATTGT,29,17\r",
        "\r\n"
       ]
      }
     ],
     "prompt_number": 34
    },
    {
     "cell_type": "code",
     "collapsed": false,
     "input": [
      "# Uing pandas\n",
      "\n",
      "print df.head(3)\n",
      "cols = ['Seq', 'GC content', 'Length']\n",
      "df = df[cols]\n",
      "print df.head(3)\n",
      "df.to_csv('ex3-4.csv', index=False)"
     ],
     "language": "python",
     "metadata": {},
     "outputs": [
      {
       "output_type": "stream",
       "stream": "stdout",
       "text": [
        "                 Seq  GC content  Length\n",
        "0    AATCCTTAAACTAGC          33      15\n",
        "1  AATATGAGAGGTATTGT          29      17\n",
        "2        GAACCCATCCG          64      11\n",
        "                 Seq  GC content  Length\n",
        "0    AATCCTTAAACTAGC          33      15\n",
        "1  AATATGAGAGGTATTGT          29      17\n",
        "2        GAACCCATCCG          64      11\n"
       ]
      }
     ],
     "prompt_number": 26
    },
    {
     "cell_type": "code",
     "collapsed": false,
     "input": [
      "! head -n 3 ex3-4.csv"
     ],
     "language": "python",
     "metadata": {},
     "outputs": [
      {
       "output_type": "stream",
       "stream": "stdout",
       "text": [
        "Seq,GC content,Length\r\n",
        "AATCCTTAAACTAGC,33,15\r\n",
        "AATATGAGAGGTATTGT,29,17\r\n"
       ]
      }
     ],
     "prompt_number": 27
    },
    {
     "cell_type": "markdown",
     "metadata": {},
     "source": [
      "Q5. See if you can find something you'd like to do with BioPython that is described in\n",
      "<http://biopython.org/DIST/docs/tutorial/Tutorial.html>\n",
      "For example - running a BLAST query, a PubMed query or a sequence alignment.\n",
      "Try to write code to do this."
     ]
    },
    {
     "cell_type": "code",
     "collapsed": false,
     "input": [
      "\n",
      "\n"
     ],
     "language": "python",
     "metadata": {},
     "outputs": []
    },
    {
     "cell_type": "markdown",
     "metadata": {},
     "source": [
      "Q6. Pick a plot that looks relevant to you from the Matplotlib gallery\n",
      "<http://matplotlib.org/gallery.html>\n",
      "and try to reproduce the plot in the IPython notebook.\n",
      "Play around with the code to achieve different effects - e.g. change colors etc."
     ]
    },
    {
     "cell_type": "code",
     "collapsed": false,
     "input": [
      "\n",
      "\n"
     ],
     "language": "python",
     "metadata": {},
     "outputs": []
    }
   ],
   "metadata": {}
  }
 ]
}