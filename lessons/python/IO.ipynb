{
 "metadata": {
  "name": "",
  "signature": "sha256:c438b76339408b38c3cbcd2ae13b713986f944f780a057c7539ac11b72be3700"
 },
 "nbformat": 3,
 "nbformat_minor": 0,
 "worksheets": [
  {
   "cells": [
    {
     "cell_type": "code",
     "collapsed": false,
     "input": [
      "%matplotlib inline\n",
      "import matplotlib.pyplot as plt"
     ],
     "language": "python",
     "metadata": {},
     "outputs": [],
     "prompt_number": 1
    },
    {
     "cell_type": "code",
     "collapsed": false,
     "input": [
      "import pandas as pd"
     ],
     "language": "python",
     "metadata": {},
     "outputs": [],
     "prompt_number": 2
    },
    {
     "cell_type": "code",
     "collapsed": false,
     "input": [
      "species = pd.read_csv('../shell/species.csv')"
     ],
     "language": "python",
     "metadata": {},
     "outputs": [],
     "prompt_number": 3
    },
    {
     "cell_type": "code",
     "collapsed": false,
     "input": [
      "species.groupby('taxa').size()"
     ],
     "language": "python",
     "metadata": {},
     "outputs": [
      {
       "metadata": {},
       "output_type": "pyout",
       "prompt_number": 33,
       "text": [
        "taxa\n",
        "Bird                     13\n",
        "Rabbit                    1\n",
        "Reptile                   9\n",
        "Rodent                   28\n",
        "Rodent-not censused       3\n",
        "Zero Trapping Success     1\n",
        "dtype: int64"
       ]
      }
     ],
     "prompt_number": 33
    },
    {
     "cell_type": "code",
     "collapsed": false,
     "input": [
      "for key, value in species.groupby('taxa'):\n",
      "    print key\n",
      "    print value['genus']"
     ],
     "language": "python",
     "metadata": {},
     "outputs": [
      {
       "output_type": "stream",
       "stream": "stdout",
       "text": [
        "Bird\n",
        "0          Amphispiza\n",
        "2          Ammodramus\n",
        "4     Campylorhynchus\n",
        "5         Calamospiza\n",
        "6          Callipepla\n",
        "23             Pipilo\n",
        "26          Pooecetes\n",
        "32             Pipilo\n",
        "39           Spizella\n",
        "49             Pipilo\n",
        "51            Sparrow\n",
        "53        Zonotrichia\n",
        "54            Zenaida\n",
        "Name: genus, dtype: object\n",
        "Rabbit\n",
        "38    Sylvilagus\n",
        "Name: genus, dtype: object\n",
        "Reptile\n",
        "7          Crotalus\n",
        "8     Cnemidophorus\n",
        "9     Cnemidophorus\n",
        "10         Crotalus\n",
        "15          Eumeces\n",
        "16         Gambelia\n",
        "40       Sceloporus\n",
        "46       Sceloporus\n",
        "48           Lizard\n",
        "Name: genus, dtype: object\n",
        "Rodent\n",
        "3             Baiomys\n",
        "11          Dipodomys\n",
        "12          Dipodomys\n",
        "13          Dipodomys\n",
        "14          Dipodomys\n",
        "17            Neotoma\n",
        "18            Neotoma\n",
        "19          Onychomys\n",
        "20          Onychomys\n",
        "21          Onychomys\n",
        "22        Chaetodipus\n",
        "24         Peromyscus\n",
        "25        Perognathus\n",
        "27        Perognathus\n",
        "28        Chaetodipus\n",
        "29         Peromyscus\n",
        "30         Peromyscus\n",
        "31        Chaetodipus\n",
        "33        Chaetodipus\n",
        "34    Reithrodontomys\n",
        "35    Reithrodontomys\n",
        "36    Reithrodontomys\n",
        "37    Reithrodontomys\n",
        "41           Sigmodon\n",
        "42           Sigmodon\n",
        "43           Sigmodon\n",
        "47           Sigmodon\n",
        "50             Rodent\n",
        "Name: genus, dtype: object\n",
        "Rodent-not censused\n",
        "1     Ammospermophilus\n",
        "44        Spermophilus\n",
        "45        Spermophilus\n",
        "Name: genus, dtype: object\n",
        "Zero Trapping Success\n",
        "52    NaN\n",
        "Name: genus, dtype: object\n"
       ]
      }
     ],
     "prompt_number": 37
    },
    {
     "cell_type": "code",
     "collapsed": false,
     "input": [
      "species.describe()"
     ],
     "language": "python",
     "metadata": {},
     "outputs": [
      {
       "html": [
        "<div style=\"max-height:1000px;max-width:1500px;overflow:auto;\">\n",
        "<table border=\"1\" class=\"dataframe\">\n",
        "  <thead>\n",
        "    <tr style=\"text-align: right;\">\n",
        "      <th></th>\n",
        "      <th>species_id</th>\n",
        "      <th>genus</th>\n",
        "      <th>species</th>\n",
        "      <th>taxa</th>\n",
        "    </tr>\n",
        "  </thead>\n",
        "  <tbody>\n",
        "    <tr>\n",
        "      <th>count</th>\n",
        "      <td> 54</td>\n",
        "      <td>              54</td>\n",
        "      <td>  54</td>\n",
        "      <td>     55</td>\n",
        "    </tr>\n",
        "    <tr>\n",
        "      <th>unique</th>\n",
        "      <td> 54</td>\n",
        "      <td>              30</td>\n",
        "      <td>  44</td>\n",
        "      <td>      6</td>\n",
        "    </tr>\n",
        "    <tr>\n",
        "      <th>top</th>\n",
        "      <td> SF</td>\n",
        "      <td> Reithrodontomys</td>\n",
        "      <td> sp.</td>\n",
        "      <td> Rodent</td>\n",
        "    </tr>\n",
        "    <tr>\n",
        "      <th>freq</th>\n",
        "      <td>  1</td>\n",
        "      <td>               4</td>\n",
        "      <td>  10</td>\n",
        "      <td>     28</td>\n",
        "    </tr>\n",
        "  </tbody>\n",
        "</table>\n",
        "</div>"
       ],
       "metadata": {},
       "output_type": "pyout",
       "prompt_number": 7,
       "text": [
        "       species_id            genus species    taxa\n",
        "count          54               54      54      55\n",
        "unique         54               30      44       6\n",
        "top            SF  Reithrodontomys     sp.  Rodent\n",
        "freq            1                4      10      28"
       ]
      }
     ],
     "prompt_number": 7
    },
    {
     "cell_type": "code",
     "collapsed": false,
     "input": [
      "plots = pd.read_csv('../shell/plots.csv')\n",
      "plots[plots['plot_type'] == 'Control']"
     ],
     "language": "python",
     "metadata": {},
     "outputs": [
      {
       "html": [
        "<div style=\"max-height:1000px;max-width:1500px;overflow:auto;\">\n",
        "<table border=\"1\" class=\"dataframe\">\n",
        "  <thead>\n",
        "    <tr style=\"text-align: right;\">\n",
        "      <th></th>\n",
        "      <th>plot_id</th>\n",
        "      <th>plot_type</th>\n",
        "    </tr>\n",
        "  </thead>\n",
        "  <tbody>\n",
        "    <tr>\n",
        "      <th>1 </th>\n",
        "      <td>  2</td>\n",
        "      <td> Control</td>\n",
        "    </tr>\n",
        "    <tr>\n",
        "      <th>3 </th>\n",
        "      <td>  4</td>\n",
        "      <td> Control</td>\n",
        "    </tr>\n",
        "    <tr>\n",
        "      <th>7 </th>\n",
        "      <td>  8</td>\n",
        "      <td> Control</td>\n",
        "    </tr>\n",
        "    <tr>\n",
        "      <th>10</th>\n",
        "      <td> 11</td>\n",
        "      <td> Control</td>\n",
        "    </tr>\n",
        "    <tr>\n",
        "      <th>11</th>\n",
        "      <td> 12</td>\n",
        "      <td> Control</td>\n",
        "    </tr>\n",
        "    <tr>\n",
        "      <th>13</th>\n",
        "      <td> 14</td>\n",
        "      <td> Control</td>\n",
        "    </tr>\n",
        "    <tr>\n",
        "      <th>16</th>\n",
        "      <td> 17</td>\n",
        "      <td> Control</td>\n",
        "    </tr>\n",
        "    <tr>\n",
        "      <th>21</th>\n",
        "      <td> 22</td>\n",
        "      <td> Control</td>\n",
        "    </tr>\n",
        "  </tbody>\n",
        "</table>\n",
        "</div>"
       ],
       "metadata": {},
       "output_type": "pyout",
       "prompt_number": 12,
       "text": [
        "    plot_id plot_type\n",
        "1         2   Control\n",
        "3         4   Control\n",
        "7         8   Control\n",
        "10       11   Control\n",
        "11       12   Control\n",
        "13       14   Control\n",
        "16       17   Control\n",
        "21       22   Control"
       ]
      }
     ],
     "prompt_number": 12
    },
    {
     "cell_type": "code",
     "collapsed": false,
     "input": [
      "surveys = pd.read_csv('../shell/surveys.csv')\n",
      "surveys.head()"
     ],
     "language": "python",
     "metadata": {},
     "outputs": [
      {
       "html": [
        "<div style=\"max-height:1000px;max-width:1500px;overflow:auto;\">\n",
        "<table border=\"1\" class=\"dataframe\">\n",
        "  <thead>\n",
        "    <tr style=\"text-align: right;\">\n",
        "      <th></th>\n",
        "      <th>record_id</th>\n",
        "      <th>month</th>\n",
        "      <th>day</th>\n",
        "      <th>year</th>\n",
        "      <th>plot</th>\n",
        "      <th>species</th>\n",
        "      <th>sex</th>\n",
        "      <th>wgt</th>\n",
        "    </tr>\n",
        "  </thead>\n",
        "  <tbody>\n",
        "    <tr>\n",
        "      <th>0</th>\n",
        "      <td> 1</td>\n",
        "      <td> 7</td>\n",
        "      <td> 16</td>\n",
        "      <td> 1977</td>\n",
        "      <td> 2</td>\n",
        "      <td> NaN</td>\n",
        "      <td> M</td>\n",
        "      <td>NaN</td>\n",
        "    </tr>\n",
        "    <tr>\n",
        "      <th>1</th>\n",
        "      <td> 2</td>\n",
        "      <td> 7</td>\n",
        "      <td> 16</td>\n",
        "      <td> 1977</td>\n",
        "      <td> 3</td>\n",
        "      <td> NaN</td>\n",
        "      <td> M</td>\n",
        "      <td>NaN</td>\n",
        "    </tr>\n",
        "    <tr>\n",
        "      <th>2</th>\n",
        "      <td> 3</td>\n",
        "      <td> 7</td>\n",
        "      <td> 16</td>\n",
        "      <td> 1977</td>\n",
        "      <td> 2</td>\n",
        "      <td>  DM</td>\n",
        "      <td> F</td>\n",
        "      <td>NaN</td>\n",
        "    </tr>\n",
        "    <tr>\n",
        "      <th>3</th>\n",
        "      <td> 4</td>\n",
        "      <td> 7</td>\n",
        "      <td> 16</td>\n",
        "      <td> 1977</td>\n",
        "      <td> 7</td>\n",
        "      <td>  DM</td>\n",
        "      <td> M</td>\n",
        "      <td>NaN</td>\n",
        "    </tr>\n",
        "    <tr>\n",
        "      <th>4</th>\n",
        "      <td> 5</td>\n",
        "      <td> 7</td>\n",
        "      <td> 16</td>\n",
        "      <td> 1977</td>\n",
        "      <td> 3</td>\n",
        "      <td>  DM</td>\n",
        "      <td> M</td>\n",
        "      <td>NaN</td>\n",
        "    </tr>\n",
        "  </tbody>\n",
        "</table>\n",
        "</div>"
       ],
       "metadata": {},
       "output_type": "pyout",
       "prompt_number": 14,
       "text": [
        "   record_id  month  day  year  plot species sex  wgt\n",
        "0          1      7   16  1977     2     NaN   M  NaN\n",
        "1          2      7   16  1977     3     NaN   M  NaN\n",
        "2          3      7   16  1977     2      DM   F  NaN\n",
        "3          4      7   16  1977     7      DM   M  NaN\n",
        "4          5      7   16  1977     3      DM   M  NaN"
       ]
      }
     ],
     "prompt_number": 14
    },
    {
     "cell_type": "code",
     "collapsed": false,
     "input": [
      "surveys.groupby(['species', 'plot'])"
     ],
     "language": "python",
     "metadata": {},
     "outputs": [
      {
       "metadata": {},
       "output_type": "pyout",
       "prompt_number": 27,
       "text": [
        "<pandas.core.groupby.DataFrameGroupBy object at 0x11068e850>"
       ]
      }
     ],
     "prompt_number": 27
    },
    {
     "cell_type": "code",
     "collapsed": false,
     "input": [],
     "language": "python",
     "metadata": {},
     "outputs": []
    }
   ],
   "metadata": {}
  }
 ]
}