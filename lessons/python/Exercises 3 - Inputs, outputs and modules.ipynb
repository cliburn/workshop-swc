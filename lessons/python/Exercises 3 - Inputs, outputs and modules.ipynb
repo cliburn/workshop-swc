{
 "metadata": {
  "name": "",
  "signature": "sha256:a7250fcbc1b3a6d6e03691c479817b9d62fdbfae3fc5d059590406d53400f972"
 },
 "nbformat": 3,
 "nbformat_minor": 0,
 "worksheets": [
  {
   "cells": [
    {
     "cell_type": "code",
     "collapsed": false,
     "input": [
      "# Q1. Read in the text file 'ex3-1.txt', which has a DNA sequence of variable length on each line, and answer the following:\n",
      "# \n",
      "# 1. What is the longest sequence or sequences (in case of tie)?\n",
      "# 2. What is the sequence or sequences with the highest GC content?"
     ],
     "language": "python",
     "metadata": {},
     "outputs": [],
     "prompt_number": 3
    },
    {
     "cell_type": "code",
     "collapsed": false,
     "input": [
      "# Q2. Write the reverse complement of each sequence in 'ex3-1.txt' in the file 'ex3-2.txt'."
     ],
     "language": "python",
     "metadata": {},
     "outputs": [],
     "prompt_number": 4
    },
    {
     "cell_type": "code",
     "collapsed": false,
     "input": [
      "# Q3. Use the csv module to read in the file 'ex3-3.csv'. \n",
      "# Each line consists of 3 items:\n",
      "# a DNA sequence, the length of the sequence and the GC content.\n",
      "# Each item is separated by a comma.\n",
      "#\n",
      "# 1. What is the longest sequence or sequences (in case of tie)?\n",
      "# 2. What is the sequence or sequences with the highest GC content?"
     ],
     "language": "python",
     "metadata": {},
     "outputs": [],
     "prompt_number": 16
    },
    {
     "cell_type": "code",
     "collapsed": false,
     "input": [
      "# Q4. Rearrange the contents of ex3-3.csv so that the 2nd and 3rd columns are switched \n",
      "# - i.e. now each row is seq, GC content, length. Save this as ex3-4.csv using csv.writer."
     ],
     "language": "python",
     "metadata": {},
     "outputs": [],
     "prompt_number": 17
    },
    {
     "cell_type": "code",
     "collapsed": false,
     "input": [
      "# Q5. See if you can find something you'd like to do with BioPython that is described in\n",
      "# http://biopython.org/DIST/docs/tutorial/Tutorial.html\n",
      "# For example - running a BLAST query, a PubMed query or a sequence alignment.\n",
      "# Try to write code to do this."
     ],
     "language": "python",
     "metadata": {},
     "outputs": [],
     "prompt_number": 18
    },
    {
     "cell_type": "code",
     "collapsed": false,
     "input": [
      "# Q6. Pick a plot that looks relevant to you from the Matplotlib gallery\n",
      "# http://matplotlib.org/gallery.html\n",
      "# and try to reproduce the plot in the IPython notebook.\n",
      "# Play around with the code to achieve different effects - e.g. change colors etc."
     ],
     "language": "python",
     "metadata": {},
     "outputs": []
    }
   ],
   "metadata": {}
  }
 ]
}