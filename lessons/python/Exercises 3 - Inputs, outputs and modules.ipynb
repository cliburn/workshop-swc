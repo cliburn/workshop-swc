{
 "metadata": {
  "name": "",
  "signature": "sha256:c1e082eceef04c909a3f4fc91d077351187dd73a42a195288fd6d58e6cf8598c"
 },
 "nbformat": 3,
 "nbformat_minor": 0,
 "worksheets": [
  {
   "cells": [
    {
     "cell_type": "markdown",
     "metadata": {},
     "source": [
      "Q1. The text file 'ex3-1.txt' contains one DNA sequence per line.  Read it in and answer the following:\n",
      "\n",
      "1. What is the longest sequence or sequences (in case of tie)?\n",
      "2. What is the sequence or sequences with the highest GC content?"
     ]
    },
    {
     "cell_type": "code",
     "collapsed": false,
     "input": [
      "\n",
      "\n"
     ],
     "language": "python",
     "metadata": {},
     "outputs": []
    },
    {
     "cell_type": "markdown",
     "metadata": {},
     "source": [
      "Q2. Write the reverse complement of each sequence in `ex3-1.txt` in the file `ex3-2.txt`."
     ]
    },
    {
     "cell_type": "code",
     "collapsed": false,
     "input": [
      "\n",
      "\n"
     ],
     "language": "python",
     "metadata": {},
     "outputs": []
    },
    {
     "cell_type": "markdown",
     "metadata": {},
     "source": [
      "Q3. Use the csv module to read in the file 'ex3-3.csv'. \n",
      "Each line consists of 3 items: \n",
      "* a DNA sequence\n",
      "* the length of the sequence and \n",
      "* the GC content.\n",
      "\n",
      "Each item is separated by a comma.\n",
      "1. What is the longest sequence or sequences (in case of tie)?\n",
      "2. What is the sequence or sequences with the highest GC content?"
     ]
    },
    {
     "cell_type": "code",
     "collapsed": false,
     "input": [
      "\n",
      "\n"
     ],
     "language": "python",
     "metadata": {},
     "outputs": []
    },
    {
     "cell_type": "markdown",
     "metadata": {},
     "source": [
      "Q4. Rearrange the contents of ex3-3.csv so that the 2nd and 3rd columns are switched - i.e. now each row is seq, GC content, length. Save this as ex3-4.csv using csv.writer."
     ]
    },
    {
     "cell_type": "code",
     "collapsed": false,
     "input": [
      "\n",
      "\n"
     ],
     "language": "python",
     "metadata": {},
     "outputs": []
    },
    {
     "cell_type": "markdown",
     "metadata": {},
     "source": [
      "Q5. See if you can find something you'd like to do with BioPython that is described in\n",
      "<http://biopython.org/DIST/docs/tutorial/Tutorial.html>\n",
      "For example - running a BLAST query, a PubMed query or a sequence alignment.\n",
      "Try to write code to do this."
     ]
    },
    {
     "cell_type": "code",
     "collapsed": false,
     "input": [
      "\n",
      "\n"
     ],
     "language": "python",
     "metadata": {},
     "outputs": []
    },
    {
     "cell_type": "markdown",
     "metadata": {},
     "source": [
      "Q6. Pick a plot that looks relevant to you from the Matplotlib gallery\n",
      "<http://matplotlib.org/gallery.html>\n",
      "and try to reproduce the plot in the IPython notebook.\n",
      "Play around with the code to achieve different effects - e.g. change colors etc."
     ]
    },
    {
     "cell_type": "code",
     "collapsed": false,
     "input": [
      "\n",
      "\n"
     ],
     "language": "python",
     "metadata": {},
     "outputs": []
    }
   ],
   "metadata": {}
  }
 ]
}