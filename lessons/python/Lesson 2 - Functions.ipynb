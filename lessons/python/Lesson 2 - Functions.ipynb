{
 "metadata": {
  "name": "",
  "signature": "sha256:44e5ec3bf5a268f86faf15e0890cd0bac8d1d6a395ab3926c934609f2a81053d"
 },
 "nbformat": 3,
 "nbformat_minor": 0,
 "worksheets": [
  {
   "cells": [
    {
     "cell_type": "markdown",
     "metadata": {},
     "source": [
      "Summary\n",
      "----\n",
      "\n",
      "In this lesson, we learn how to write your own custom *function* to solve problems in a re-usable way. We will also see how to use functions written by other people by importing them from a *module*.\n",
      "\n",
      "What is a function? It is a *machine* that when given some input, will do something to that input and return some output. For example, range(start, stop, step) takes as input 3 numbers - start, stop and step - and returns a list of numbers constructed according to rules you are now familiar with. \n",
      "\n",
      "```python\n",
      "range(10, 20, 2)\n",
      "```\n",
      "----"
     ]
    },
    {
     "cell_type": "heading",
     "level": 3,
     "metadata": {},
     "source": [
      "Anatomy of a function"
     ]
    },
    {
     "cell_type": "markdown",
     "metadata": {},
     "source": [
      "All functions have the following structure:\n",
      "\n",
      "```python\n",
      "def function_name(parameter1, parameter2, ...):\n",
      "    \"\"\"Optional doc string describing function.\"\"\"\n",
      "    body_of_function\n",
      "    return value\n",
      "```\n",
      "\n",
      "and are *called* by using the function_name and its parameters\n",
      "```python\n",
      "return_value = function_name(parameter1, parameter2)\n",
      "```"
     ]
    },
    {
     "cell_type": "code",
     "collapsed": false,
     "input": [
      "# Our first function\n",
      "def f(x, y):\n",
      "    \"\"\"A bare bones function.\"\"\"\n",
      "    z = x + 2*y\n",
      "    return z\n",
      "\n",
      "f(3, 5)"
     ],
     "language": "python",
     "metadata": {},
     "outputs": [
      {
       "metadata": {},
       "output_type": "pyout",
       "prompt_number": 1,
       "text": [
        "13"
       ]
      }
     ],
     "prompt_number": 1
    },
    {
     "cell_type": "code",
     "collapsed": false,
     "input": [
      "# Note that the order of parameters is important\n",
      "f(5, 3)"
     ],
     "language": "python",
     "metadata": {},
     "outputs": [
      {
       "metadata": {},
       "output_type": "pyout",
       "prompt_number": 2,
       "text": [
        "11"
       ]
      }
     ],
     "prompt_number": 2
    },
    {
     "cell_type": "code",
     "collapsed": false,
     "input": [
      "# We can also used named parameters when calling functions\n",
      "f(y=5, x=3)"
     ],
     "language": "python",
     "metadata": {},
     "outputs": [
      {
       "metadata": {},
       "output_type": "pyout",
       "prompt_number": 3,
       "text": [
        "13"
       ]
      }
     ],
     "prompt_number": 3
    },
    {
     "cell_type": "code",
     "collapsed": false,
     "input": [
      "# We must give the exact number of parameters expected\n",
      "f(1,2,3)"
     ],
     "language": "python",
     "metadata": {},
     "outputs": [
      {
       "ename": "TypeError",
       "evalue": "f() takes exactly 2 arguments (3 given)",
       "output_type": "pyerr",
       "traceback": [
        "\u001b[0;31m---------------------------------------------------------------------------\u001b[0m\n\u001b[0;31mTypeError\u001b[0m                                 Traceback (most recent call last)",
        "\u001b[0;32m<ipython-input-4-b1ba4087fdf4>\u001b[0m in \u001b[0;36m<module>\u001b[0;34m()\u001b[0m\n\u001b[1;32m      1\u001b[0m \u001b[0;31m# We must give the exact number of parameters expected\u001b[0m\u001b[0;34m\u001b[0m\u001b[0;34m\u001b[0m\u001b[0m\n\u001b[0;32m----> 2\u001b[0;31m \u001b[0mf\u001b[0m\u001b[0;34m(\u001b[0m\u001b[0;36m1\u001b[0m\u001b[0;34m,\u001b[0m\u001b[0;36m2\u001b[0m\u001b[0;34m,\u001b[0m\u001b[0;36m3\u001b[0m\u001b[0;34m)\u001b[0m\u001b[0;34m\u001b[0m\u001b[0m\n\u001b[0m",
        "\u001b[0;31mTypeError\u001b[0m: f() takes exactly 2 arguments (3 given)"
       ]
      }
     ],
     "prompt_number": 4
    },
    {
     "cell_type": "code",
     "collapsed": false,
     "input": [
      "# But it is perfectly fine to define functions with no parameters\n",
      "def f():\n",
      "    \"\"\"A function with no parameters.\"\"\"\n",
      "    print \"Hello!\"\n",
      "    \n",
      "f()"
     ],
     "language": "python",
     "metadata": {},
     "outputs": [
      {
       "output_type": "stream",
       "stream": "stdout",
       "text": [
        "Hello!\n"
       ]
      }
     ],
     "prompt_number": 5
    },
    {
     "cell_type": "markdown",
     "metadata": {},
     "source": [
      "### Parameters are placeholders or dummy variables\n",
      "\n",
      "For the truly pedantic, a variable used in the function call list is a \"parameter\". The same variable in the body of the function is called an\"argument\". In practice, the terms parameter and argument are used interchangeably."
     ]
    },
    {
     "cell_type": "code",
     "collapsed": false,
     "input": [
      "# Note that a parameter is a \"dummy\" variable and takes the value of whatever is passed in when the function is called\n",
      "\n",
      "def g(x, y, z):\n",
      "    \"\"\"doc-string\"\"\"\n",
      "    print \"First argument is\", x\n",
      "    print \"Second argument is\", y\n",
      "    print \"Third argument is\", z\n",
      "\n",
      "a = 3\n",
      "b = 4\n",
      "c = 5\n",
      "\n",
      "g(a, b, c)"
     ],
     "language": "python",
     "metadata": {},
     "outputs": [
      {
       "output_type": "stream",
       "stream": "stdout",
       "text": [
        "First argument is 3\n",
        "Second argument is 4\n",
        "Third argument is 5\n"
       ]
      }
     ],
     "prompt_number": 6
    },
    {
     "cell_type": "code",
     "collapsed": false,
     "input": [
      "# Another example\n",
      "\n",
      "x = 5\n",
      "y = 4\n",
      "z = 3\n",
      "\n",
      "g(z, y, x)"
     ],
     "language": "python",
     "metadata": {},
     "outputs": [
      {
       "output_type": "stream",
       "stream": "stdout",
       "text": [
        "First argument is 3\n",
        "Second argument is 4\n",
        "Third argument is 5\n"
       ]
      }
     ],
     "prompt_number": 7
    },
    {
     "cell_type": "code",
     "collapsed": false,
     "input": [
      "# Yet another example\n",
      "\n",
      "g(x=z, y=x, z=y)"
     ],
     "language": "python",
     "metadata": {},
     "outputs": [
      {
       "output_type": "stream",
       "stream": "stdout",
       "text": [
        "First argument is 3\n",
        "Second argument is 5\n",
        "Third argument is 4\n"
       ]
      }
     ],
     "prompt_number": 8
    },
    {
     "cell_type": "heading",
     "level": 3,
     "metadata": {},
     "source": [
      "Default parameters"
     ]
    },
    {
     "cell_type": "code",
     "collapsed": false,
     "input": [
      "# Sometimes there are sensible default values we can give to the function\n",
      "# this is done with the syntax parameter=default_value in the function definiton\n",
      "\n",
      "def analyze(seq, seq_type='DNA'):\n",
      "    \"\"\"Do something with seq.\"\"\"\n",
      "    if seq_type == 'DNA':\n",
      "        print \"DNA analysis completed\"\n",
      "    else:\n",
      "        print \"Other analysis completed\"\n",
      "        \n",
      "analyze('ATTA')\n",
      "analyze('ATTA', seq_type='DNA')\n",
      "analyze('AUUA', seq_type='RNA')"
     ],
     "language": "python",
     "metadata": {},
     "outputs": [
      {
       "output_type": "stream",
       "stream": "stdout",
       "text": [
        "DNA analysis completed\n",
        "DNA analysis completed\n",
        "Other analysis completed\n"
       ]
      }
     ],
     "prompt_number": 9
    },
    {
     "cell_type": "code",
     "collapsed": false,
     "input": [
      "# Parameters with default values must always come after parameters with no default values\n",
      "\n",
      "def analyze(seq_type='DNA', seq):\n",
      "    \"\"\"Do something with seq.\"\"\"\n",
      "    if seq_type == 'DNA':\n",
      "        print \"DNA analysis completed\"\n",
      "    else:\n",
      "        print \"Other analysis completed\""
     ],
     "language": "python",
     "metadata": {},
     "outputs": [
      {
       "ename": "SyntaxError",
       "evalue": "non-default argument follows default argument (<ipython-input-10-23b637d38dd3>, line 3)",
       "output_type": "pyerr",
       "traceback": [
        "\u001b[0;36m  File \u001b[0;32m\"<ipython-input-10-23b637d38dd3>\"\u001b[0;36m, line \u001b[0;32m3\u001b[0m\n\u001b[0;31m    def analyze(seq_type='DNA', seq):\u001b[0m\n\u001b[0;31mSyntaxError\u001b[0m\u001b[0;31m:\u001b[0m non-default argument follows default argument\n"
       ]
      }
     ],
     "prompt_number": 10
    },
    {
     "cell_type": "heading",
     "level": 3,
     "metadata": {},
     "source": [
      "Return values"
     ]
    },
    {
     "cell_type": "code",
     "collapsed": false,
     "input": [
      "# By default, if no return value is provided, a function will return None\n",
      "\n",
      "def f():\n",
      "    \"\"\"doc-string\"\"\"\n",
      "    pass # the pass keyword means don't do anything\n",
      "\n",
      "answer = f()\n",
      "print answer"
     ],
     "language": "python",
     "metadata": {},
     "outputs": [
      {
       "output_type": "stream",
       "stream": "stdout",
       "text": [
        "None\n"
       ]
      }
     ],
     "prompt_number": 11
    },
    {
     "cell_type": "code",
     "collapsed": false,
     "input": [
      "# Note that None is also returned even if your function has side effects (e.g. print) but no return value\n",
      "\n",
      "result = analyze('ABC', seq_type=\"Unknown\")\n",
      "print result"
     ],
     "language": "python",
     "metadata": {},
     "outputs": [
      {
       "output_type": "stream",
       "stream": "stdout",
       "text": [
        "Other analysis completed\n",
        "None\n"
       ]
      }
     ],
     "prompt_number": 12
    },
    {
     "cell_type": "code",
     "collapsed": false,
     "input": [
      "# Once a `return` statement is seen, the function exits.\n",
      "\n",
      "def func(x):\n",
      "    \"\"\"doc-string\"\"\"\n",
      "    if x <= 10:\n",
      "        return x\n",
      "    print \"x is greater than 10\"\n",
      "    \n",
      "func(8), func(11)"
     ],
     "language": "python",
     "metadata": {},
     "outputs": [
      {
       "output_type": "stream",
       "stream": "stdout",
       "text": [
        "x is greater than 10\n"
       ]
      },
      {
       "metadata": {},
       "output_type": "pyout",
       "prompt_number": 13,
       "text": [
        "(8, None)"
       ]
      }
     ],
     "prompt_number": 13
    },
    {
     "cell_type": "code",
     "collapsed": false,
     "input": [
      "# We can have multiple return statements in a function\n",
      "\n",
      "def f1(x):\n",
      "    \"\"\"doc-string\"\"\"\n",
      "    if x < 0:\n",
      "        return -x\n",
      "    else:\n",
      "        return x\n",
      "    \n",
      "f1(-3), f1(3)"
     ],
     "language": "python",
     "metadata": {},
     "outputs": [
      {
       "metadata": {},
       "output_type": "pyout",
       "prompt_number": 14,
       "text": [
        "(3, 3)"
       ]
      }
     ],
     "prompt_number": 14
    },
    {
     "cell_type": "heading",
     "level": 3,
     "metadata": {},
     "source": [
      "Function scope - local scope"
     ]
    },
    {
     "cell_type": "code",
     "collapsed": false,
     "input": [
      "# Local scope - variables inside a function are invisible outside the function\n",
      "\n",
      "def f2():\n",
      "    \"\"\"doc-string\"\"\"\n",
      "    x = 3\n",
      "    return x\n",
      "\n",
      "x"
     ],
     "language": "python",
     "metadata": {},
     "outputs": [
      {
       "metadata": {},
       "output_type": "pyout",
       "prompt_number": 15,
       "text": [
        "5"
       ]
      }
     ],
     "prompt_number": 15
    },
    {
     "cell_type": "code",
     "collapsed": false,
     "input": [
      "# Local scope also applies to parameters\n",
      "\n",
      "def f3(x=3):\n",
      "    pass\n",
      "\n",
      "x"
     ],
     "language": "python",
     "metadata": {},
     "outputs": [
      {
       "metadata": {},
       "output_type": "pyout",
       "prompt_number": 16,
       "text": [
        "5"
       ]
      }
     ],
     "prompt_number": 16
    },
    {
     "cell_type": "code",
     "collapsed": false,
     "input": [
      "# One more example of local scope\n",
      "\n",
      "x = 3\n",
      "def f4():\n",
      "    \"\"\"Doc-string\"\"\"\n",
      "    x =10\n",
      "    print \"x inside function\", x\n",
      "    \n",
      "f4()\n",
      "print \"x outside function\", x"
     ],
     "language": "python",
     "metadata": {},
     "outputs": [
      {
       "output_type": "stream",
       "stream": "stdout",
       "text": [
        "x inside function 10\n",
        "x outside function 3\n"
       ]
      }
     ],
     "prompt_number": 17
    },
    {
     "cell_type": "heading",
     "level": 3,
     "metadata": {},
     "source": [
      "Function scope - global scope"
     ]
    },
    {
     "cell_type": "code",
     "collapsed": false,
     "input": [
      "# variables declared outside functions are visible within the function - such variables have global scope\n",
      "\n",
      "x = 3\n",
      "def f():\n",
      "    return x * 10\n",
      "\n",
      "f()"
     ],
     "language": "python",
     "metadata": {},
     "outputs": [
      {
       "metadata": {},
       "output_type": "pyout",
       "prompt_number": 18,
       "text": [
        "30"
       ]
      }
     ],
     "prompt_number": 18
    },
    {
     "cell_type": "markdown",
     "metadata": {},
     "source": [
      "In general, avoid the use of global variables as they are often a source of bugs. For example\n",
      "\n",
      "```python\n",
      "\n",
      "# define functions\n",
      "\n",
      "def f():\n",
      "    \"\"\"doc-string\"\"\"\n",
      "    return i + j + k\n",
      "\n",
      "# define global variables\n",
      "i = 10\n",
      "j = 20\n",
      "k = 30\n",
      "\n",
      "# many, many lines of code later\n",
      "for i in range(2, 5):\n",
      "    pass\n",
      "    \n",
      "# i now has the value 4 !!!\n",
      "\n",
      "# many, many lines of code later\n",
      "f()\n",
      "```"
     ]
    },
    {
     "cell_type": "code",
     "collapsed": false,
     "input": [
      "# define function\n",
      "\n",
      "# define global variables\n",
      "i = 10\n",
      "j = 20\n",
      "k = 30\n",
      "\n",
      "def f():\n",
      "    \"\"\"doc-string\"\"\"\n",
      "    return i + j + k\n",
      "\n",
      "# many, many lines of code later\n",
      "for i in range(2, 5):\n",
      "    pass\n",
      "    \n",
      "# i now has the value 4 !!!\n",
      "\n",
      "# many, many lines of code later\n",
      "f()"
     ],
     "language": "python",
     "metadata": {},
     "outputs": [
      {
       "metadata": {},
       "output_type": "pyout",
       "prompt_number": 19,
       "text": [
        "54"
       ]
      }
     ],
     "prompt_number": 19
    },
    {
     "cell_type": "code",
     "collapsed": false,
     "input": [
      "# better practice is to pass in any variables needed as parameters\n",
      "\n",
      "def f(i, j, k):\n",
      "    \"\"\"doc-string\"\"\"\n",
      "    return i + j + k\n",
      "\n",
      "# many, many lines of code later\n",
      "\n",
      "f(i=10, j=20, k=30)"
     ],
     "language": "python",
     "metadata": {},
     "outputs": [
      {
       "metadata": {},
       "output_type": "pyout",
       "prompt_number": 20,
       "text": [
        "60"
       ]
      }
     ],
     "prompt_number": 20
    },
    {
     "cell_type": "heading",
     "level": 3,
     "metadata": {},
     "source": [
      "Functions are first-class citizens"
     ]
    },
    {
     "cell_type": "code",
     "collapsed": false,
     "input": [
      "# Once a function is defined, it can be treated in the same way as any other variable\n",
      "\n",
      "def square(x):\n",
      "    \"\"\"Returns square of x.\"\"\"\n",
      "    return x*x\n",
      "\n",
      "def quad(x):\n",
      "    \"\"\"Returns 4th power of x.\"\"\"\n",
      "    return square(square(x))\n",
      "\n",
      "print square(3)\n",
      "print quad(3)"
     ],
     "language": "python",
     "metadata": {},
     "outputs": [
      {
       "output_type": "stream",
       "stream": "stdout",
       "text": [
        "9\n",
        "81\n"
       ]
      }
     ],
     "prompt_number": 21
    },
    {
     "cell_type": "code",
     "collapsed": false,
     "input": [
      "# in particular, it can be used as a parameter\n",
      "\n",
      "def special_sum(x, y, special=square):\n",
      "    \"\"\"Returns special(x) + special(y).\"\"\"\n",
      "    return special(x) + special(y)\n",
      "\n",
      "print special_sum(2, 3)\n",
      "print special_sum(2, 3, special=quad)"
     ],
     "language": "python",
     "metadata": {},
     "outputs": [
      {
       "output_type": "stream",
       "stream": "stdout",
       "text": [
        "13\n",
        "97\n"
       ]
      }
     ],
     "prompt_number": 22
    },
    {
     "cell_type": "code",
     "collapsed": false,
     "input": [
      "# functions can also be used as values in a dictionary\n",
      "\n",
      "func_dict = {'pow2': square, 'pow4': quad}\n",
      "\n",
      "f = func_dict['pow2']\n",
      "print f(3)\n",
      "\n",
      "g = func_dict['pow4']\n",
      "print g(3)"
     ],
     "language": "python",
     "metadata": {},
     "outputs": [
      {
       "output_type": "stream",
       "stream": "stdout",
       "text": [
        "9\n",
        "81\n"
       ]
      }
     ],
     "prompt_number": 23
    },
    {
     "cell_type": "code",
     "collapsed": false,
     "input": [
      "# some special functions accept functions in their parameter list. The most useful is \"map\"\n",
      "\n",
      "# Version 1 - using a for loop\n",
      "sqs1 = []\n",
      "for i in range(10):\n",
      "    sqs1.append(square(i))\n",
      "print sqs1\n",
      "\n",
      "# Version 2 - using a list comprehension\n",
      "sqs2 = [square(i) for i in range(10)]\n",
      "print sqs2\n",
      "\n",
      "# Version 3 - using map\n",
      "sqs3 = map(square, range(10))\n",
      "print sqs3\n",
      "\n",
      "# Most people find Version 2 easiest to read and \"pythonic\" but Version 3 is also very popular"
     ],
     "language": "python",
     "metadata": {},
     "outputs": [
      {
       "output_type": "stream",
       "stream": "stdout",
       "text": [
        "[0, 1, 4, 9, 16, 25, 36, 49, 64, 81]\n",
        "[0, 1, 4, 9, 16, 25, 36, 49, 64, 81]\n",
        "[0, 1, 4, 9, 16, 25, 36, 49, 64, 81]\n"
       ]
      }
     ],
     "prompt_number": 24
    },
    {
     "cell_type": "code",
     "collapsed": false,
     "input": [],
     "language": "python",
     "metadata": {},
     "outputs": [],
     "prompt_number": 24
    }
   ],
   "metadata": {}
  }
 ]
}