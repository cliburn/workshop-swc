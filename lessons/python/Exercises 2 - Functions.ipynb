{
 "metadata": {
  "name": "",
  "signature": "sha256:27edc216d5be13af92c59e0e663632abeff433b26a9ef9d671c1f7f115dd3211"
 },
 "nbformat": 3,
 "nbformat_minor": 0,
 "worksheets": [
  {
   "cells": [
    {
     "cell_type": "markdown",
     "metadata": {},
     "source": [
      "Exercises\n",
      "----\n",
      "\n",
      "The exercises will test your ability to:\n",
      "\n",
      "* Write and call custom functions correctly\n",
      "* Review what you did in Exercises 1\n",
      "\n",
      "When writing functions, try to do the following:\n",
      "\n",
      "* Give a meaningful name to the function\n",
      "* Give meaningful names to the parameters where appropriate\n",
      "* Write a doc-string documenting what the function does\n",
      "* Use meaningful names for variabels in the body of the function where appropriate\n",
      "\n",
      "----"
     ]
    },
    {
     "cell_type": "markdown",
     "metadata": {},
     "source": [
      "Q1: Write a function that takes a DNA sequence (a string) as input and \n",
      "returns its reverse complement (also a string). For example,\n",
      "\n",
      "Input : 'ACTG'\n",
      "Output: 'CAGT'"
     ]
    },
    {
     "cell_type": "code",
     "collapsed": false,
     "input": [
      "\n",
      "\n"
     ],
     "language": "python",
     "metadata": {},
     "outputs": []
    },
    {
     "cell_type": "markdown",
     "metadata": {},
     "source": [
      "Q2: Modify the function from Q1 so that it returns the correct answer \n",
      "regardless of whether the input string is upper or lower case."
     ]
    },
    {
     "cell_type": "code",
     "collapsed": false,
     "input": [
      "\n",
      "\n"
     ],
     "language": "python",
     "metadata": {},
     "outputs": []
    },
    {
     "cell_type": "markdown",
     "metadata": {},
     "source": [
      "Q3: Write a function that takes as parameters two DNA strings, and \n",
      "returns the concatenated DNA string.\n",
      "\n",
      "For example, f('GAT', 'TACA') should return 'GATTACA'"
     ]
    },
    {
     "cell_type": "code",
     "collapsed": false,
     "input": [
      "\n",
      "\n"
     ],
     "language": "python",
     "metadata": {},
     "outputs": []
    },
    {
     "cell_type": "markdown",
     "metadata": {},
     "source": [
      "Q4. Write a function that returns the total number of nucleotides \n",
      "when given a list of DNA sequences.\n",
      "\n",
      "Test it out on the following list: "
     ]
    },
    {
     "cell_type": "code",
     "collapsed": false,
     "input": [
      "seqs = ['CATGTTTGCTGTGTATTGGT', 'GCGCUCACAGCGUAUGACCU', 'ACCGAUGACAAGUCGAAAUU', \n",
      "        'CGGAACGCTACGGGCTATAG', 'UCAUCAAAACCCGUAAGUAC', 'GGGUGCCUCAAGGGGAACCU', \n",
      "        'CATTAAGCAGGTTGAACGAG', 'CUUAUUAUCAUCUUGCGAGA', 'GGAUCAGCGAUGCGACCGCA',\n",
      "        'CCGCGGGCGAACATCATATG']\n",
      "\n"
     ],
     "language": "python",
     "metadata": {},
     "outputs": []
    },
    {
     "cell_type": "markdown",
     "metadata": {},
     "source": [
      "Q5. Write a function that takes a list of DNA sequences and \n",
      "returns the corresponding list of reverse complement sequences.\n",
      "You should make use of the function developed in Q1 and Q2.\n",
      "Use a for loop and/or list comprehension to do this.\n",
      "\n",
      "Test it out on the following list: (which is a mixture of lower and upper case!)"
     ]
    },
    {
     "cell_type": "code",
     "collapsed": false,
     "input": [
      "seqs = ['CATGTTTGcTGTGTATTGGT', 'GCGCUCACAGCGUAUGACCU', 'ACCGAUGACAAGUCGAAAUU', \n",
      "        'CGGAACGCTACgGGCTATAG', 'UCAUCAAAACCCGUAAGUAC', 'GGGUGCCuCAAGGGGAACCU', \n",
      "        'CATTAAgCAGGTTGAACGAG', 'CUUAUUAUCAUCUUGCGAGA', 'GGaUCAGCGAUGCGACCGCA',\n",
      "        'CCGCGGGCGAACAtCATATG']\n",
      "\n"
     ],
     "language": "python",
     "metadata": {},
     "outputs": []
    },
    {
     "cell_type": "markdown",
     "metadata": {},
     "source": [
      "Q6. Test your understanding of parameters, scoping and return values.\n",
      "\n",
      "```python\n",
      "def f1(a, b, c):\n",
      "    z = (a + b) * c\n",
      "    return 2 * z\n",
      "\n",
      "def f2(a, b, c):\n",
      "    z = (a + b) * c\n",
      "    print \">>>\", 2 * z\n",
      "    \n",
      "a = 1\n",
      "b = 2\n",
      "c = 3\n",
      "z = 4\n",
      "\n",
      "answer1 = f1(c, b, a)\n",
      "answer2 = f1(a, b, c)\n",
      "answer3 = f1(a=c, b=a, c=b)\n",
      "answer4 = f2(a, b, c)\n",
      "```\n",
      "\n",
      "Guess what answer1, answer2, answer3, and answer4 are without running the code."
     ]
    },
    {
     "cell_type": "code",
     "collapsed": false,
     "input": [
      "\n",
      "\n"
     ],
     "language": "python",
     "metadata": {},
     "outputs": []
    }
   ],
   "metadata": {}
  }
 ]
}