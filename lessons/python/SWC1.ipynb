{
 "metadata": {
  "name": "",
  "signature": "sha256:9518a79a51ef4413f1d548f4049177e0c4474fdd014300d526eefe1d0e0d4019"
 },
 "nbformat": 3,
 "nbformat_minor": 0,
 "worksheets": [
  {
   "cells": [
    {
     "cell_type": "heading",
     "level": 1,
     "metadata": {},
     "source": [
      "My first Python notebook"
     ]
    },
    {
     "cell_type": "heading",
     "level": 3,
     "metadata": {},
     "source": [
      "Subtitle"
     ]
    },
    {
     "cell_type": "markdown",
     "metadata": {},
     "source": [
      "Using Python as a calculator\n",
      "====\n",
      "\n",
      "Or an elephant\n",
      "----\n",
      "\n",
      "*italic*\n",
      "**bold**\n",
      "\n",
      "### Math\n",
      "$\\frac{2}{3a + b}$\n",
      "\n",
      "Lists\n",
      "\n",
      "1. one\n",
      "    1. sublist one\n",
      "    2. sublist two\n",
      "2. two\n",
      "3. three\n",
      "\n",
      "Bullets\n",
      "\n",
      "* oops\n",
      "* i di\n",
      "* d it again\n",
      "\n",
      "What happens if I type $\\pi = 3.14$?\n",
      "\n",
      "<http://localhost:8888/notebooks/Lesson%200%20-%20Data%20analysis%20example.ipynb>"
     ]
    },
    {
     "cell_type": "code",
     "collapsed": false,
     "input": [
      "5 * 3"
     ],
     "language": "python",
     "metadata": {},
     "outputs": [
      {
       "metadata": {},
       "output_type": "pyout",
       "prompt_number": 1,
       "text": [
        "15"
       ]
      }
     ],
     "prompt_number": 1
    },
    {
     "cell_type": "code",
     "collapsed": false,
     "input": [
      "2 ** 4"
     ],
     "language": "python",
     "metadata": {},
     "outputs": [
      {
       "metadata": {},
       "output_type": "pyout",
       "prompt_number": 2,
       "text": [
        "16"
       ]
      }
     ],
     "prompt_number": 2
    },
    {
     "cell_type": "code",
     "collapsed": false,
     "input": [
      "3 / 4"
     ],
     "language": "python",
     "metadata": {},
     "outputs": [
      {
       "metadata": {},
       "output_type": "pyout",
       "prompt_number": 3,
       "text": [
        "0"
       ]
      }
     ],
     "prompt_number": 3
    },
    {
     "cell_type": "code",
     "collapsed": false,
     "input": [
      "3.0 / 4"
     ],
     "language": "python",
     "metadata": {},
     "outputs": [
      {
       "metadata": {},
       "output_type": "pyout",
       "prompt_number": 4,
       "text": [
        "0.75"
       ]
      }
     ],
     "prompt_number": 4
    },
    {
     "cell_type": "code",
     "collapsed": false,
     "input": [
      "import numpy as np"
     ],
     "language": "python",
     "metadata": {},
     "outputs": [],
     "prompt_number": 5
    },
    {
     "cell_type": "code",
     "collapsed": false,
     "input": [
      "np.sin(3.14)"
     ],
     "language": "python",
     "metadata": {},
     "outputs": [
      {
       "metadata": {},
       "output_type": "pyout",
       "prompt_number": 6,
       "text": [
        "0.0015926529164868282"
       ]
      }
     ],
     "prompt_number": 6
    },
    {
     "cell_type": "code",
     "collapsed": false,
     "input": [
      "np.sin?"
     ],
     "language": "python",
     "metadata": {},
     "outputs": [],
     "prompt_number": 7
    },
    {
     "cell_type": "code",
     "collapsed": false,
     "input": [
      "np.sin(2)"
     ],
     "language": "python",
     "metadata": {},
     "outputs": [
      {
       "metadata": {},
       "output_type": "pyout",
       "prompt_number": 8,
       "text": [
        "0.90929742682568171"
       ]
      }
     ],
     "prompt_number": 8
    },
    {
     "cell_type": "code",
     "collapsed": false,
     "input": [
      "help(np.sin)"
     ],
     "language": "python",
     "metadata": {},
     "outputs": [
      {
       "output_type": "stream",
       "stream": "stdout",
       "text": [
        "Help on ufunc object:\n",
        "\n",
        "sin = class ufunc(__builtin__.object)\n",
        " |  Functions that operate element by element on whole arrays.\n",
        " |  \n",
        " |  To see the documentation for a specific ufunc, use np.info().  For\n",
        " |  example, np.info(np.sin).  Because ufuncs are written in C\n",
        " |  (for speed) and linked into Python with NumPy's ufunc facility,\n",
        " |  Python's help() function finds this page whenever help() is called\n",
        " |  on a ufunc.\n",
        " |  \n",
        " |  A detailed explanation of ufuncs can be found in the \"ufuncs.rst\"\n",
        " |  file in the NumPy reference guide.\n",
        " |  \n",
        " |  Unary ufuncs:\n",
        " |  =============\n",
        " |  \n",
        " |  op(X, out=None)\n",
        " |  Apply op to X elementwise\n",
        " |  \n",
        " |  Parameters\n",
        " |  ----------\n",
        " |  X : array_like\n",
        " |      Input array.\n",
        " |  out : array_like\n",
        " |      An array to store the output. Must be the same shape as `X`.\n",
        " |  \n",
        " |  Returns\n",
        " |  -------\n",
        " |  r : array_like\n",
        " |      `r` will have the same shape as `X`; if out is provided, `r`\n",
        " |      will be equal to out.\n",
        " |  \n",
        " |  Binary ufuncs:\n",
        " |  ==============\n",
        " |  \n",
        " |  op(X, Y, out=None)\n",
        " |  Apply `op` to `X` and `Y` elementwise. May \"broadcast\" to make\n",
        " |  the shapes of `X` and `Y` congruent.\n",
        " |  \n",
        " |  The broadcasting rules are:\n",
        " |  \n",
        " |  * Dimensions of length 1 may be prepended to either array.\n",
        " |  * Arrays may be repeated along dimensions of length 1.\n",
        " |  \n",
        " |  Parameters\n",
        " |  ----------\n",
        " |  X : array_like\n",
        " |      First input array.\n",
        " |  Y : array_like\n",
        " |      Second input array.\n",
        " |  out : array_like\n",
        " |      An array to store the output. Must be the same shape as the\n",
        " |      output would have.\n",
        " |  \n",
        " |  Returns\n",
        " |  -------\n",
        " |  r : array_like\n",
        " |      The return value; if out is provided, `r` will be equal to out.\n",
        " |  \n",
        " |  Methods defined here:\n",
        " |  \n",
        " |  __call__(...)\n",
        " |      x.__call__(...) <==> x(...)\n",
        " |  \n",
        " |  __repr__(...)\n",
        " |      x.__repr__() <==> repr(x)\n",
        " |  \n",
        " |  __str__(...)\n",
        " |      x.__str__() <==> str(x)\n",
        " |  \n",
        " |  accumulate(...)\n",
        " |      accumulate(array, axis=0, dtype=None, out=None)\n",
        " |      \n",
        " |      Accumulate the result of applying the operator to all elements.\n",
        " |      \n",
        " |      For a one-dimensional array, accumulate produces results equivalent to::\n",
        " |      \n",
        " |        r = np.empty(len(A))\n",
        " |        t = op.identity        # op = the ufunc being applied to A's  elements\n",
        " |        for i in range(len(A)):\n",
        " |            t = op(t, A[i])\n",
        " |            r[i] = t\n",
        " |        return r\n",
        " |      \n",
        " |      For example, add.accumulate() is equivalent to np.cumsum().\n",
        " |      \n",
        " |      For a multi-dimensional array, accumulate is applied along only one\n",
        " |      axis (axis zero by default; see Examples below) so repeated use is\n",
        " |      necessary if one wants to accumulate over multiple axes.\n",
        " |      \n",
        " |      Parameters\n",
        " |      ----------\n",
        " |      array : array_like\n",
        " |          The array to act on.\n",
        " |      axis : int, optional\n",
        " |          The axis along which to apply the accumulation; default is zero.\n",
        " |      dtype : data-type code, optional\n",
        " |          The data-type used to represent the intermediate results. Defaults\n",
        " |          to the data-type of the output array if such is provided, or the\n",
        " |          the data-type of the input array if no output array is provided.\n",
        " |      out : ndarray, optional\n",
        " |          A location into which the result is stored. If not provided a\n",
        " |          freshly-allocated array is returned.\n",
        " |      \n",
        " |      Returns\n",
        " |      -------\n",
        " |      r : ndarray\n",
        " |          The accumulated values. If `out` was supplied, `r` is a reference to\n",
        " |          `out`.\n",
        " |      \n",
        " |      Examples\n",
        " |      --------\n",
        " |      1-D array examples:\n",
        " |      \n",
        " |      >>> np.add.accumulate([2, 3, 5])\n",
        " |      array([ 2,  5, 10])\n",
        " |      >>> np.multiply.accumulate([2, 3, 5])\n",
        " |      array([ 2,  6, 30])\n",
        " |      \n",
        " |      2-D array examples:\n",
        " |      \n",
        " |      >>> I = np.eye(2)\n",
        " |      >>> I\n",
        " |      array([[ 1.,  0.],\n",
        " |             [ 0.,  1.]])\n",
        " |      \n",
        " |      Accumulate along axis 0 (rows), down columns:\n",
        " |      \n",
        " |      >>> np.add.accumulate(I, 0)\n",
        " |      array([[ 1.,  0.],\n",
        " |             [ 1.,  1.]])\n",
        " |      >>> np.add.accumulate(I) # no axis specified = axis zero\n",
        " |      array([[ 1.,  0.],\n",
        " |             [ 1.,  1.]])\n",
        " |      \n",
        " |      Accumulate along axis 1 (columns), through rows:\n",
        " |      \n",
        " |      >>> np.add.accumulate(I, 1)\n",
        " |      array([[ 1.,  1.],\n",
        " |             [ 0.,  1.]])\n",
        " |  \n",
        " |  at(...)\n",
        " |      at(a, indices, b=None)\n",
        " |      \n",
        " |      Performs unbuffered in place operation on operand 'a' for elements\n",
        " |      specified by 'indices'. For addition ufunc, this method is equivalent to\n",
        " |      `a[indices] += b`, except that results are accumulated for elements that\n",
        " |      are indexed more than once. For example, `a[[0,0]] += 1` will only\n",
        " |      increment the first element once because of buffering, whereas\n",
        " |      `add.at(a, [0,0], 1)` will increment the first element twice.\n",
        " |      \n",
        " |      .. versionadded:: 1.8.0\n",
        " |      \n",
        " |      Parameters\n",
        " |      ----------\n",
        " |      a : array_like\n",
        " |          The array to perform in place operation on.\n",
        " |      indices : array_like or tuple\n",
        " |          Array like index object or slice object for indexing into first\n",
        " |          operand. If first operand has multiple dimensions, indices can be a\n",
        " |          tuple of array like index objects or slice objects.\n",
        " |      b : array_like\n",
        " |          Second operand for ufuncs requiring two operands. Operand must be\n",
        " |          broadcastable over first operand after indexing or slicing.\n",
        " |      \n",
        " |      Examples\n",
        " |      --------\n",
        " |      Set items 0 and 1 to their negative values:\n",
        " |      \n",
        " |      >>> a = np.array([1, 2, 3, 4])\n",
        " |      >>> np.negative.at(a, [0, 1])\n",
        " |      >>> print(a)\n",
        " |      array([-1, -2, 3, 4])\n",
        " |      \n",
        " |      ::\n",
        " |      \n",
        " |      Increment items 0 and 1, and increment item 2 twice:\n",
        " |      \n",
        " |      >>> a = np.array([1, 2, 3, 4])\n",
        " |      >>> np.add.at(a, [0, 1, 2, 2], 1)\n",
        " |      >>> print(a)\n",
        " |      array([2, 3, 5, 4])\n",
        " |      \n",
        " |      ::\n",
        " |      \n",
        " |      Add items 0 and 1 in first array to second array,\n",
        " |      and store results in first array:\n",
        " |      \n",
        " |      >>> a = np.array([1, 2, 3, 4])\n",
        " |      >>> b = np.array([1, 2])\n",
        " |      >>> np.add.at(a, [0, 1], b)\n",
        " |      >>> print(a)\n",
        " |      array([2, 4, 3, 4])\n",
        " |  \n",
        " |  outer(...)\n",
        " |      outer(A, B)\n",
        " |      \n",
        " |      Apply the ufunc `op` to all pairs (a, b) with a in `A` and b in `B`.\n",
        " |      \n",
        " |      Let ``M = A.ndim``, ``N = B.ndim``. Then the result, `C`, of\n",
        " |      ``op.outer(A, B)`` is an array of dimension M + N such that:\n",
        " |      \n",
        " |      .. math:: C[i_0, ..., i_{M-1}, j_0, ..., j_{N-1}] =\n",
        " |         op(A[i_0, ..., i_{M-1}], B[j_0, ..., j_{N-1}])\n",
        " |      \n",
        " |      For `A` and `B` one-dimensional, this is equivalent to::\n",
        " |      \n",
        " |        r = empty(len(A),len(B))\n",
        " |        for i in range(len(A)):\n",
        " |            for j in range(len(B)):\n",
        " |                r[i,j] = op(A[i], B[j]) # op = ufunc in question\n",
        " |      \n",
        " |      Parameters\n",
        " |      ----------\n",
        " |      A : array_like\n",
        " |          First array\n",
        " |      B : array_like\n",
        " |          Second array\n",
        " |      \n",
        " |      Returns\n",
        " |      -------\n",
        " |      r : ndarray\n",
        " |          Output array\n",
        " |      \n",
        " |      See Also\n",
        " |      --------\n",
        " |      numpy.outer\n",
        " |      \n",
        " |      Examples\n",
        " |      --------\n",
        " |      >>> np.multiply.outer([1, 2, 3], [4, 5, 6])\n",
        " |      array([[ 4,  5,  6],\n",
        " |             [ 8, 10, 12],\n",
        " |             [12, 15, 18]])\n",
        " |      \n",
        " |      A multi-dimensional example:\n",
        " |      \n",
        " |      >>> A = np.array([[1, 2, 3], [4, 5, 6]])\n",
        " |      >>> A.shape\n",
        " |      (2, 3)\n",
        " |      >>> B = np.array([[1, 2, 3, 4]])\n",
        " |      >>> B.shape\n",
        " |      (1, 4)\n",
        " |      >>> C = np.multiply.outer(A, B)\n",
        " |      >>> C.shape; C\n",
        " |      (2, 3, 1, 4)\n",
        " |      array([[[[ 1,  2,  3,  4]],\n",
        " |              [[ 2,  4,  6,  8]],\n",
        " |              [[ 3,  6,  9, 12]]],\n",
        " |             [[[ 4,  8, 12, 16]],\n",
        " |              [[ 5, 10, 15, 20]],\n",
        " |              [[ 6, 12, 18, 24]]]])\n",
        " |  \n",
        " |  reduce(...)\n",
        " |      reduce(a, axis=0, dtype=None, out=None, keepdims=False)\n",
        " |      \n",
        " |      Reduces `a`'s dimension by one, by applying ufunc along one axis.\n",
        " |      \n",
        " |      Let :math:`a.shape = (N_0, ..., N_i, ..., N_{M-1})`.  Then\n",
        " |      :math:`ufunc.reduce(a, axis=i)[k_0, ..,k_{i-1}, k_{i+1}, .., k_{M-1}]` =\n",
        " |      the result of iterating `j` over :math:`range(N_i)`, cumulatively applying\n",
        " |      ufunc to each :math:`a[k_0, ..,k_{i-1}, j, k_{i+1}, .., k_{M-1}]`.\n",
        " |      For a one-dimensional array, reduce produces results equivalent to:\n",
        " |      ::\n",
        " |      \n",
        " |       r = op.identity # op = ufunc\n",
        " |       for i in range(len(A)):\n",
        " |         r = op(r, A[i])\n",
        " |       return r\n",
        " |      \n",
        " |      For example, add.reduce() is equivalent to sum().\n",
        " |      \n",
        " |      Parameters\n",
        " |      ----------\n",
        " |      a : array_like\n",
        " |          The array to act on.\n",
        " |      axis : None or int or tuple of ints, optional\n",
        " |          Axis or axes along which a reduction is performed.\n",
        " |          The default (`axis` = 0) is perform a reduction over the first\n",
        " |          dimension of the input array. `axis` may be negative, in\n",
        " |          which case it counts from the last to the first axis.\n",
        " |      \n",
        " |          .. versionadded:: 1.7.0\n",
        " |      \n",
        " |          If this is `None`, a reduction is performed over all the axes.\n",
        " |          If this is a tuple of ints, a reduction is performed on multiple\n",
        " |          axes, instead of a single axis or all the axes as before.\n",
        " |      \n",
        " |          For operations which are either not commutative or not associative,\n",
        " |          doing a reduction over multiple axes is not well-defined. The\n",
        " |          ufuncs do not currently raise an exception in this case, but will\n",
        " |          likely do so in the future.\n",
        " |      dtype : data-type code, optional\n",
        " |          The type used to represent the intermediate results. Defaults\n",
        " |          to the data-type of the output array if this is provided, or\n",
        " |          the data-type of the input array if no output array is provided.\n",
        " |      out : ndarray, optional\n",
        " |          A location into which the result is stored. If not provided, a\n",
        " |          freshly-allocated array is returned.\n",
        " |      keepdims : bool, optional\n",
        " |          If this is set to True, the axes which are reduced are left\n",
        " |          in the result as dimensions with size one. With this option,\n",
        " |          the result will broadcast correctly against the original `arr`.\n",
        " |      \n",
        " |      Returns\n",
        " |      -------\n",
        " |      r : ndarray\n",
        " |          The reduced array. If `out` was supplied, `r` is a reference to it.\n",
        " |      \n",
        " |      Examples\n",
        " |      --------\n",
        " |      >>> np.multiply.reduce([2,3,5])\n",
        " |      30\n",
        " |      \n",
        " |      A multi-dimensional array example:\n",
        " |      \n",
        " |      >>> X = np.arange(8).reshape((2,2,2))\n",
        " |      >>> X\n",
        " |      array([[[0, 1],\n",
        " |              [2, 3]],\n",
        " |             [[4, 5],\n",
        " |              [6, 7]]])\n",
        " |      >>> np.add.reduce(X, 0)\n",
        " |      array([[ 4,  6],\n",
        " |             [ 8, 10]])\n",
        " |      >>> np.add.reduce(X) # confirm: default axis value is 0\n",
        " |      array([[ 4,  6],\n",
        " |             [ 8, 10]])\n",
        " |      >>> np.add.reduce(X, 1)\n",
        " |      array([[ 2,  4],\n",
        " |             [10, 12]])\n",
        " |      >>> np.add.reduce(X, 2)\n",
        " |      array([[ 1,  5],\n",
        " |             [ 9, 13]])\n",
        " |  \n",
        " |  reduceat(...)\n",
        " |      reduceat(a, indices, axis=0, dtype=None, out=None)\n",
        " |      \n",
        " |      Performs a (local) reduce with specified slices over a single axis.\n",
        " |      \n",
        " |      For i in ``range(len(indices))``, `reduceat` computes\n",
        " |      ``ufunc.reduce(a[indices[i]:indices[i+1]])``, which becomes the i-th\n",
        " |      generalized \"row\" parallel to `axis` in the final result (i.e., in a\n",
        " |      2-D array, for example, if `axis = 0`, it becomes the i-th row, but if\n",
        " |      `axis = 1`, it becomes the i-th column).  There are two exceptions to this:\n",
        " |      \n",
        " |        * when ``i = len(indices) - 1`` (so for the last index),\n",
        " |          ``indices[i+1] = a.shape[axis]``.\n",
        " |        * if ``indices[i] >= indices[i + 1]``, the i-th generalized \"row\" is\n",
        " |          simply ``a[indices[i]]``.\n",
        " |      \n",
        " |      The shape of the output depends on the size of `indices`, and may be\n",
        " |      larger than `a` (this happens if ``len(indices) > a.shape[axis]``).\n",
        " |      \n",
        " |      Parameters\n",
        " |      ----------\n",
        " |      a : array_like\n",
        " |          The array to act on.\n",
        " |      indices : array_like\n",
        " |          Paired indices, comma separated (not colon), specifying slices to\n",
        " |          reduce.\n",
        " |      axis : int, optional\n",
        " |          The axis along which to apply the reduceat.\n",
        " |      dtype : data-type code, optional\n",
        " |          The type used to represent the intermediate results. Defaults\n",
        " |          to the data type of the output array if this is provided, or\n",
        " |          the data type of the input array if no output array is provided.\n",
        " |      out : ndarray, optional\n",
        " |          A location into which the result is stored. If not provided a\n",
        " |          freshly-allocated array is returned.\n",
        " |      \n",
        " |      Returns\n",
        " |      -------\n",
        " |      r : ndarray\n",
        " |          The reduced values. If `out` was supplied, `r` is a reference to\n",
        " |          `out`.\n",
        " |      \n",
        " |      Notes\n",
        " |      -----\n",
        " |      A descriptive example:\n",
        " |      \n",
        " |      If `a` is 1-D, the function `ufunc.accumulate(a)` is the same as\n",
        " |      ``ufunc.reduceat(a, indices)[::2]`` where `indices` is\n",
        " |      ``range(len(array) - 1)`` with a zero placed\n",
        " |      in every other element:\n",
        " |      ``indices = zeros(2 * len(a) - 1)``, ``indices[1::2] = range(1, len(a))``.\n",
        " |      \n",
        " |      Don't be fooled by this attribute's name: `reduceat(a)` is not\n",
        " |      necessarily smaller than `a`.\n",
        " |      \n",
        " |      Examples\n",
        " |      --------\n",
        " |      To take the running sum of four successive values:\n",
        " |      \n",
        " |      >>> np.add.reduceat(np.arange(8),[0,4, 1,5, 2,6, 3,7])[::2]\n",
        " |      array([ 6, 10, 14, 18])\n",
        " |      \n",
        " |      A 2-D example:\n",
        " |      \n",
        " |      >>> x = np.linspace(0, 15, 16).reshape(4,4)\n",
        " |      >>> x\n",
        " |      array([[  0.,   1.,   2.,   3.],\n",
        " |             [  4.,   5.,   6.,   7.],\n",
        " |             [  8.,   9.,  10.,  11.],\n",
        " |             [ 12.,  13.,  14.,  15.]])\n",
        " |      \n",
        " |      ::\n",
        " |      \n",
        " |       # reduce such that the result has the following five rows:\n",
        " |       # [row1 + row2 + row3]\n",
        " |       # [row4]\n",
        " |       # [row2]\n",
        " |       # [row3]\n",
        " |       # [row1 + row2 + row3 + row4]\n",
        " |      \n",
        " |      >>> np.add.reduceat(x, [0, 3, 1, 2, 0])\n",
        " |      array([[ 12.,  15.,  18.,  21.],\n",
        " |             [ 12.,  13.,  14.,  15.],\n",
        " |             [  4.,   5.,   6.,   7.],\n",
        " |             [  8.,   9.,  10.,  11.],\n",
        " |             [ 24.,  28.,  32.,  36.]])\n",
        " |      \n",
        " |      ::\n",
        " |      \n",
        " |       # reduce such that result has the following two columns:\n",
        " |       # [col1 * col2 * col3, col4]\n",
        " |      \n",
        " |      >>> np.multiply.reduceat(x, [0, 3], 1)\n",
        " |      array([[    0.,     3.],\n",
        " |             [  120.,     7.],\n",
        " |             [  720.,    11.],\n",
        " |             [ 2184.,    15.]])\n",
        " |  \n",
        " |  ----------------------------------------------------------------------\n",
        " |  Data descriptors defined here:\n",
        " |  \n",
        " |  identity\n",
        " |      The identity value.\n",
        " |      \n",
        " |      Data attribute containing the identity element for the ufunc, if it has one.\n",
        " |      If it does not, the attribute value is None.\n",
        " |      \n",
        " |      Examples\n",
        " |      --------\n",
        " |      >>> np.add.identity\n",
        " |      0\n",
        " |      >>> np.multiply.identity\n",
        " |      1\n",
        " |      >>> np.power.identity\n",
        " |      1\n",
        " |      >>> print np.exp.identity\n",
        " |      None\n",
        " |  \n",
        " |  nargs\n",
        " |      The number of arguments.\n",
        " |      \n",
        " |      Data attribute containing the number of arguments the ufunc takes, including\n",
        " |      optional ones.\n",
        " |      \n",
        " |      Notes\n",
        " |      -----\n",
        " |      Typically this value will be one more than what you might expect because all\n",
        " |      ufuncs take  the optional \"out\" argument.\n",
        " |      \n",
        " |      Examples\n",
        " |      --------\n",
        " |      >>> np.add.nargs\n",
        " |      3\n",
        " |      >>> np.multiply.nargs\n",
        " |      3\n",
        " |      >>> np.power.nargs\n",
        " |      3\n",
        " |      >>> np.exp.nargs\n",
        " |      2\n",
        " |  \n",
        " |  nin\n",
        " |      The number of inputs.\n",
        " |      \n",
        " |      Data attribute containing the number of arguments the ufunc treats as input.\n",
        " |      \n",
        " |      Examples\n",
        " |      --------\n",
        " |      >>> np.add.nin\n",
        " |      2\n",
        " |      >>> np.multiply.nin\n",
        " |      2\n",
        " |      >>> np.power.nin\n",
        " |      2\n",
        " |      >>> np.exp.nin\n",
        " |      1\n",
        " |  \n",
        " |  nout\n",
        " |      The number of outputs.\n",
        " |      \n",
        " |      Data attribute containing the number of arguments the ufunc treats as output.\n",
        " |      \n",
        " |      Notes\n",
        " |      -----\n",
        " |      Since all ufuncs can take output arguments, this will always be (at least) 1.\n",
        " |      \n",
        " |      Examples\n",
        " |      --------\n",
        " |      >>> np.add.nout\n",
        " |      1\n",
        " |      >>> np.multiply.nout\n",
        " |      1\n",
        " |      >>> np.power.nout\n",
        " |      1\n",
        " |      >>> np.exp.nout\n",
        " |      1\n",
        " |  \n",
        " |  ntypes\n",
        " |      The number of types.\n",
        " |      \n",
        " |      The number of numerical NumPy types - of which there are 18 total - on which\n",
        " |      the ufunc can operate.\n",
        " |      \n",
        " |      See Also\n",
        " |      --------\n",
        " |      numpy.ufunc.types\n",
        " |      \n",
        " |      Examples\n",
        " |      --------\n",
        " |      >>> np.add.ntypes\n",
        " |      18\n",
        " |      >>> np.multiply.ntypes\n",
        " |      18\n",
        " |      >>> np.power.ntypes\n",
        " |      17\n",
        " |      >>> np.exp.ntypes\n",
        " |      7\n",
        " |      >>> np.remainder.ntypes\n",
        " |      14\n",
        " |  \n",
        " |  signature\n",
        " |  \n",
        " |  types\n",
        " |      Returns a list with types grouped input->output.\n",
        " |      \n",
        " |      Data attribute listing the data-type \"Domain-Range\" groupings the ufunc can\n",
        " |      deliver. The data-types are given using the character codes.\n",
        " |      \n",
        " |      See Also\n",
        " |      --------\n",
        " |      numpy.ufunc.ntypes\n",
        " |      \n",
        " |      Examples\n",
        " |      --------\n",
        " |      >>> np.add.types\n",
        " |      ['??->?', 'bb->b', 'BB->B', 'hh->h', 'HH->H', 'ii->i', 'II->I', 'll->l',\n",
        " |      'LL->L', 'qq->q', 'QQ->Q', 'ff->f', 'dd->d', 'gg->g', 'FF->F', 'DD->D',\n",
        " |      'GG->G', 'OO->O']\n",
        " |      \n",
        " |      >>> np.multiply.types\n",
        " |      ['??->?', 'bb->b', 'BB->B', 'hh->h', 'HH->H', 'ii->i', 'II->I', 'll->l',\n",
        " |      'LL->L', 'qq->q', 'QQ->Q', 'ff->f', 'dd->d', 'gg->g', 'FF->F', 'DD->D',\n",
        " |      'GG->G', 'OO->O']\n",
        " |      \n",
        " |      >>> np.power.types\n",
        " |      ['bb->b', 'BB->B', 'hh->h', 'HH->H', 'ii->i', 'II->I', 'll->l', 'LL->L',\n",
        " |      'qq->q', 'QQ->Q', 'ff->f', 'dd->d', 'gg->g', 'FF->F', 'DD->D', 'GG->G',\n",
        " |      'OO->O']\n",
        " |      \n",
        " |      >>> np.exp.types\n",
        " |      ['f->f', 'd->d', 'g->g', 'F->F', 'D->D', 'G->G', 'O->O']\n",
        " |      \n",
        " |      >>> np.remainder.types\n",
        " |      ['bb->b', 'BB->B', 'hh->h', 'HH->H', 'ii->i', 'II->I', 'll->l', 'LL->L',\n",
        " |      'qq->q', 'QQ->Q', 'ff->f', 'dd->d', 'gg->g', 'OO->O']\n",
        "\n"
       ]
      }
     ],
     "prompt_number": 9
    },
    {
     "cell_type": "code",
     "collapsed": false,
     "input": [
      "! ls"
     ],
     "language": "python",
     "metadata": {},
     "outputs": [
      {
       "output_type": "stream",
       "stream": "stdout",
       "text": [
        "Exercises 1 - Language building blocks.ipynb\r\n",
        "Exercises 2 - Functions.ipynb\r\n",
        "Exercises 3 - Inputs, outputs and modules.ipynb\r\n",
        "Lesson 0 - DNA manipulation examples.ipynb\r\n",
        "Lesson 0 - Data analysis example.ipynb\r\n",
        "Lesson 1 - Language building blocks.ipynb\r\n",
        "Lesson 2 - Functions.ipynb\r\n",
        "Lesson 3 - Inputs, outputs and modules.ipynb\r\n",
        "SWC1.ipynb\r\n",
        "S_aureus.na34.annot.csv\r\n",
        "dna_frags.txt\r\n",
        "ex3-1.txt\r\n",
        "ex3-3.csv\r\n",
        "il17.fasta\r\n",
        "inflammation-01.csv\r\n",
        "inflammation-02.csv\r\n",
        "inflammation-03.csv\r\n",
        "inflammation-04.csv\r\n",
        "inflammation-05.csv\r\n",
        "inflammation-06.csv\r\n",
        "inflammation-07.csv\r\n",
        "inflammation-08.csv\r\n",
        "inflammation-09.csv\r\n",
        "inflammation-10.csv\r\n",
        "inflammation-11.csv\r\n",
        "inflammation-12.csv\r\n",
        "suffolk_babies.csv\r\n",
        "xkcd_plot.png\r\n"
       ]
      }
     ],
     "prompt_number": 10
    },
    {
     "cell_type": "code",
     "collapsed": false,
     "input": [
      "! cat suffolk_babies.csv"
     ],
     "language": "python",
     "metadata": {},
     "outputs": []
    },
    {
     "cell_type": "code",
     "collapsed": false,
     "input": [
      "%%file foo.txt\n",
      "1,2,3,4\n",
      "5,6,7,8"
     ],
     "language": "python",
     "metadata": {},
     "outputs": [
      {
       "output_type": "stream",
       "stream": "stdout",
       "text": [
        "Writing foo.txt\n"
       ]
      }
     ],
     "prompt_number": 12
    },
    {
     "cell_type": "code",
     "collapsed": false,
     "input": [
      "! head foo.txt"
     ],
     "language": "python",
     "metadata": {},
     "outputs": [
      {
       "output_type": "stream",
       "stream": "stdout",
       "text": [
        "1,2,3,4\r\n",
        "5,6,7,8"
       ]
      }
     ],
     "prompt_number": 13
    },
    {
     "cell_type": "markdown",
     "metadata": {},
     "source": [
      "Basic types in Python\n",
      "==="
     ]
    },
    {
     "cell_type": "code",
     "collapsed": false,
     "input": [
      "type(3)"
     ],
     "language": "python",
     "metadata": {},
     "outputs": [
      {
       "metadata": {},
       "output_type": "pyout",
       "prompt_number": 14,
       "text": [
        "int"
       ]
      }
     ],
     "prompt_number": 14
    },
    {
     "cell_type": "code",
     "collapsed": false,
     "input": [
      "type(3.0)"
     ],
     "language": "python",
     "metadata": {},
     "outputs": [
      {
       "metadata": {},
       "output_type": "pyout",
       "prompt_number": 15,
       "text": [
        "float"
       ]
      }
     ],
     "prompt_number": 15
    },
    {
     "cell_type": "code",
     "collapsed": false,
     "input": [
      "type('hello')"
     ],
     "language": "python",
     "metadata": {},
     "outputs": [
      {
       "metadata": {},
       "output_type": "pyout",
       "prompt_number": 16,
       "text": [
        "str"
       ]
      }
     ],
     "prompt_number": 16
    },
    {
     "cell_type": "code",
     "collapsed": false,
     "input": [
      "type(1==2)"
     ],
     "language": "python",
     "metadata": {},
     "outputs": [
      {
       "metadata": {},
       "output_type": "pyout",
       "prompt_number": 17,
       "text": [
        "bool"
       ]
      }
     ],
     "prompt_number": 17
    },
    {
     "cell_type": "code",
     "collapsed": false,
     "input": [
      "1==2"
     ],
     "language": "python",
     "metadata": {},
     "outputs": [
      {
       "metadata": {},
       "output_type": "pyout",
       "prompt_number": 18,
       "text": [
        "False"
       ]
      }
     ],
     "prompt_number": 18
    },
    {
     "cell_type": "code",
     "collapsed": false,
     "input": [
      "1 < 2"
     ],
     "language": "python",
     "metadata": {},
     "outputs": [
      {
       "metadata": {},
       "output_type": "pyout",
       "prompt_number": 19,
       "text": [
        "True"
       ]
      }
     ],
     "prompt_number": 19
    },
    {
     "cell_type": "code",
     "collapsed": false,
     "input": [
      "this_is_a_variable = 5"
     ],
     "language": "python",
     "metadata": {},
     "outputs": [],
     "prompt_number": 20
    },
    {
     "cell_type": "code",
     "collapsed": false,
     "input": [
      "this_is_a_variable ** 2"
     ],
     "language": "python",
     "metadata": {},
     "outputs": [
      {
       "metadata": {},
       "output_type": "pyout",
       "prompt_number": 21,
       "text": [
        "25"
       ]
      }
     ],
     "prompt_number": 21
    },
    {
     "cell_type": "code",
     "collapsed": false,
     "input": [
      "i = 3\n",
      "x = 2.5\n",
      "y = x*i "
     ],
     "language": "python",
     "metadata": {},
     "outputs": [],
     "prompt_number": 22
    },
    {
     "cell_type": "code",
     "collapsed": false,
     "input": [
      "num_codons = 3"
     ],
     "language": "python",
     "metadata": {},
     "outputs": [],
     "prompt_number": 23
    },
    {
     "cell_type": "code",
     "collapsed": false,
     "input": [
      "num_codons"
     ],
     "language": "python",
     "metadata": {},
     "outputs": [
      {
       "metadata": {},
       "output_type": "pyout",
       "prompt_number": 24,
       "text": [
        "3"
       ]
      }
     ],
     "prompt_number": 24
    },
    {
     "cell_type": "markdown",
     "metadata": {},
     "source": [
      "Collections\n",
      "===="
     ]
    },
    {
     "cell_type": "code",
     "collapsed": false,
     "input": [
      "a_list = [1, 2, 'abc', [1, 'ff', True]]"
     ],
     "language": "python",
     "metadata": {},
     "outputs": [],
     "prompt_number": 25
    },
    {
     "cell_type": "code",
     "collapsed": false,
     "input": [
      "a_list"
     ],
     "language": "python",
     "metadata": {},
     "outputs": [
      {
       "metadata": {},
       "output_type": "pyout",
       "prompt_number": 26,
       "text": [
        "[1, 2, 'abc', [1, 'ff', True]]"
       ]
      }
     ],
     "prompt_number": 26
    },
    {
     "cell_type": "code",
     "collapsed": false,
     "input": [
      "a_list[0]"
     ],
     "language": "python",
     "metadata": {},
     "outputs": [
      {
       "metadata": {},
       "output_type": "pyout",
       "prompt_number": 27,
       "text": [
        "1"
       ]
      }
     ],
     "prompt_number": 27
    },
    {
     "cell_type": "code",
     "collapsed": false,
     "input": [
      "a_list[2]"
     ],
     "language": "python",
     "metadata": {},
     "outputs": [
      {
       "metadata": {},
       "output_type": "pyout",
       "prompt_number": 28,
       "text": [
        "'abc'"
       ]
      }
     ],
     "prompt_number": 28
    },
    {
     "cell_type": "code",
     "collapsed": false,
     "input": [
      "a_list[1:4]"
     ],
     "language": "python",
     "metadata": {},
     "outputs": [
      {
       "metadata": {},
       "output_type": "pyout",
       "prompt_number": 29,
       "text": [
        "[2, 'abc', [1, 'ff', True]]"
       ]
      }
     ],
     "prompt_number": 29
    },
    {
     "cell_type": "code",
     "collapsed": false,
     "input": [
      "a_list[1:4:2]"
     ],
     "language": "python",
     "metadata": {},
     "outputs": [
      {
       "metadata": {},
       "output_type": "pyout",
       "prompt_number": 30,
       "text": [
        "[2, [1, 'ff', True]]"
       ]
      }
     ],
     "prompt_number": 30
    },
    {
     "cell_type": "code",
     "collapsed": false,
     "input": [
      "a_list[:4]"
     ],
     "language": "python",
     "metadata": {},
     "outputs": [
      {
       "metadata": {},
       "output_type": "pyout",
       "prompt_number": 31,
       "text": [
        "[1, 2, 'abc', [1, 'ff', True]]"
       ]
      }
     ],
     "prompt_number": 31
    },
    {
     "cell_type": "code",
     "collapsed": false,
     "input": [
      "a_list[3:]"
     ],
     "language": "python",
     "metadata": {},
     "outputs": [
      {
       "metadata": {},
       "output_type": "pyout",
       "prompt_number": 32,
       "text": [
        "[[1, 'ff', True]]"
       ]
      }
     ],
     "prompt_number": 32
    },
    {
     "cell_type": "code",
     "collapsed": false,
     "input": [
      "a_list[-1]"
     ],
     "language": "python",
     "metadata": {},
     "outputs": [
      {
       "metadata": {},
       "output_type": "pyout",
       "prompt_number": 33,
       "text": [
        "[1, 'ff', True]"
       ]
      }
     ],
     "prompt_number": 33
    },
    {
     "cell_type": "code",
     "collapsed": false,
     "input": [
      "a_list[::-1]"
     ],
     "language": "python",
     "metadata": {},
     "outputs": [
      {
       "metadata": {},
       "output_type": "pyout",
       "prompt_number": 34,
       "text": [
        "[[1, 'ff', True], 'abc', 2, 1]"
       ]
      }
     ],
     "prompt_number": 34
    },
    {
     "cell_type": "code",
     "collapsed": false,
     "input": [
      "s = 'ACTG'"
     ],
     "language": "python",
     "metadata": {},
     "outputs": [],
     "prompt_number": 35
    },
    {
     "cell_type": "code",
     "collapsed": false,
     "input": [
      "s[::-1]"
     ],
     "language": "python",
     "metadata": {},
     "outputs": [
      {
       "metadata": {},
       "output_type": "pyout",
       "prompt_number": 36,
       "text": [
        "'GTCA'"
       ]
      }
     ],
     "prompt_number": 36
    },
    {
     "cell_type": "code",
     "collapsed": false,
     "input": [
      "a_list.count?"
     ],
     "language": "python",
     "metadata": {},
     "outputs": [],
     "prompt_number": 37
    },
    {
     "cell_type": "code",
     "collapsed": false,
     "input": [
      "xs = [1,1,2,3,2,4]\n",
      "xs.count(2)"
     ],
     "language": "python",
     "metadata": {},
     "outputs": [
      {
       "metadata": {},
       "output_type": "pyout",
       "prompt_number": 38,
       "text": [
        "2"
       ]
      }
     ],
     "prompt_number": 38
    },
    {
     "cell_type": "markdown",
     "metadata": {},
     "source": [
      "Tuple\n",
      "----"
     ]
    },
    {
     "cell_type": "code",
     "collapsed": false,
     "input": [
      "a_tuple = (1,2,3)"
     ],
     "language": "python",
     "metadata": {},
     "outputs": [],
     "prompt_number": 39
    },
    {
     "cell_type": "code",
     "collapsed": false,
     "input": [
      "a_list = [1,2,3]"
     ],
     "language": "python",
     "metadata": {},
     "outputs": [],
     "prompt_number": 40
    },
    {
     "cell_type": "code",
     "collapsed": false,
     "input": [
      "a_list"
     ],
     "language": "python",
     "metadata": {},
     "outputs": [
      {
       "metadata": {},
       "output_type": "pyout",
       "prompt_number": 41,
       "text": [
        "[1, 2, 3]"
       ]
      }
     ],
     "prompt_number": 41
    },
    {
     "cell_type": "code",
     "collapsed": false,
     "input": [
      "a_list[2] = 99"
     ],
     "language": "python",
     "metadata": {},
     "outputs": [],
     "prompt_number": 42
    },
    {
     "cell_type": "code",
     "collapsed": false,
     "input": [
      "a_list"
     ],
     "language": "python",
     "metadata": {},
     "outputs": [
      {
       "metadata": {},
       "output_type": "pyout",
       "prompt_number": 43,
       "text": [
        "[1, 2, 99]"
       ]
      }
     ],
     "prompt_number": 43
    },
    {
     "cell_type": "code",
     "collapsed": false,
     "input": [
      "a_tuple[2] = 99"
     ],
     "language": "python",
     "metadata": {},
     "outputs": [
      {
       "ename": "TypeError",
       "evalue": "'tuple' object does not support item assignment",
       "output_type": "pyerr",
       "traceback": [
        "\u001b[0;31m---------------------------------------------------------------------------\u001b[0m\n\u001b[0;31mTypeError\u001b[0m                                 Traceback (most recent call last)",
        "\u001b[0;32m<ipython-input-44-ea5c12fb1732>\u001b[0m in \u001b[0;36m<module>\u001b[0;34m()\u001b[0m\n\u001b[0;32m----> 1\u001b[0;31m \u001b[0ma_tuple\u001b[0m\u001b[0;34m[\u001b[0m\u001b[0;36m2\u001b[0m\u001b[0;34m]\u001b[0m \u001b[0;34m=\u001b[0m \u001b[0;36m99\u001b[0m\u001b[0;34m\u001b[0m\u001b[0m\n\u001b[0m",
        "\u001b[0;31mTypeError\u001b[0m: 'tuple' object does not support item assignment"
       ]
      }
     ],
     "prompt_number": 44
    },
    {
     "cell_type": "markdown",
     "metadata": {},
     "source": [
      "Strings\n",
      "----"
     ]
    },
    {
     "cell_type": "code",
     "collapsed": false,
     "input": [
      "s1 = 'Hello world'\n",
      "s2 = \"Goodbye world\"\n",
      "s3 = '''What on\n",
      "earth\n",
      "is going\n",
      "on?\n",
      "'''\n",
      "s4 = \"Wayne's world\""
     ],
     "language": "python",
     "metadata": {},
     "outputs": [],
     "prompt_number": 46
    },
    {
     "cell_type": "code",
     "collapsed": false,
     "input": [
      "s1"
     ],
     "language": "python",
     "metadata": {},
     "outputs": [
      {
       "metadata": {},
       "output_type": "pyout",
       "prompt_number": 47,
       "text": [
        "'Hello world'"
       ]
      }
     ],
     "prompt_number": 47
    },
    {
     "cell_type": "code",
     "collapsed": false,
     "input": [
      "s2"
     ],
     "language": "python",
     "metadata": {},
     "outputs": [
      {
       "metadata": {},
       "output_type": "pyout",
       "prompt_number": 48,
       "text": [
        "'Goodbye world'"
       ]
      }
     ],
     "prompt_number": 48
    },
    {
     "cell_type": "code",
     "collapsed": false,
     "input": [
      "s3"
     ],
     "language": "python",
     "metadata": {},
     "outputs": [
      {
       "metadata": {},
       "output_type": "pyout",
       "prompt_number": 49,
       "text": [
        "'What on\\nearth\\nis going\\non?\\n'"
       ]
      }
     ],
     "prompt_number": 49
    },
    {
     "cell_type": "code",
     "collapsed": false,
     "input": [
      "print s3"
     ],
     "language": "python",
     "metadata": {},
     "outputs": [
      {
       "output_type": "stream",
       "stream": "stdout",
       "text": [
        "What on\n",
        "earth\n",
        "is going\n",
        "on?\n",
        "\n"
       ]
      }
     ],
     "prompt_number": 50
    },
    {
     "cell_type": "code",
     "collapsed": false,
     "input": [
      "s4"
     ],
     "language": "python",
     "metadata": {},
     "outputs": [
      {
       "metadata": {},
       "output_type": "pyout",
       "prompt_number": 51,
       "text": [
        "\"Wayne's world\""
       ]
      }
     ],
     "prompt_number": 51
    },
    {
     "cell_type": "code",
     "collapsed": false,
     "input": [
      "s3"
     ],
     "language": "python",
     "metadata": {},
     "outputs": [
      {
       "metadata": {},
       "output_type": "pyout",
       "prompt_number": 52,
       "text": [
        "'What on\\nearth\\nis going\\non?\\n'"
       ]
      }
     ],
     "prompt_number": 52
    },
    {
     "cell_type": "code",
     "collapsed": false,
     "input": [
      "s1"
     ],
     "language": "python",
     "metadata": {},
     "outputs": [
      {
       "metadata": {},
       "output_type": "pyout",
       "prompt_number": 53,
       "text": [
        "'Hello world'"
       ]
      }
     ],
     "prompt_number": 53
    },
    {
     "cell_type": "code",
     "collapsed": false,
     "input": [
      "s1[2:5]"
     ],
     "language": "python",
     "metadata": {},
     "outputs": [
      {
       "metadata": {},
       "output_type": "pyout",
       "prompt_number": 54,
       "text": [
        "'llo'"
       ]
      }
     ],
     "prompt_number": 54
    },
    {
     "cell_type": "code",
     "collapsed": false,
     "input": [
      "s1.upper()"
     ],
     "language": "python",
     "metadata": {},
     "outputs": [
      {
       "metadata": {},
       "output_type": "pyout",
       "prompt_number": 55,
       "text": [
        "'HELLO WORLD'"
       ]
      }
     ],
     "prompt_number": 55
    },
    {
     "cell_type": "code",
     "collapsed": false,
     "input": [
      "s1.count('o')"
     ],
     "language": "python",
     "metadata": {},
     "outputs": [
      {
       "metadata": {},
       "output_type": "pyout",
       "prompt_number": 56,
       "text": [
        "2"
       ]
      }
     ],
     "prompt_number": 56
    },
    {
     "cell_type": "code",
     "collapsed": false,
     "input": [
      "s1.split()"
     ],
     "language": "python",
     "metadata": {},
     "outputs": [
      {
       "metadata": {},
       "output_type": "pyout",
       "prompt_number": 57,
       "text": [
        "['Hello', 'world']"
       ]
      }
     ],
     "prompt_number": 57
    },
    {
     "cell_type": "code",
     "collapsed": false,
     "input": [
      "s = 'the:quick:brown'\n",
      "s.split(':')"
     ],
     "language": "python",
     "metadata": {},
     "outputs": [
      {
       "metadata": {},
       "output_type": "pyout",
       "prompt_number": 58,
       "text": [
        "['the', 'quick', 'brown']"
       ]
      }
     ],
     "prompt_number": 58
    },
    {
     "cell_type": "code",
     "collapsed": false,
     "input": [
      "s1"
     ],
     "language": "python",
     "metadata": {},
     "outputs": [
      {
       "metadata": {},
       "output_type": "pyout",
       "prompt_number": 59,
       "text": [
        "'Hello world'"
       ]
      }
     ],
     "prompt_number": 59
    },
    {
     "cell_type": "code",
     "collapsed": false,
     "input": [
      "s2"
     ],
     "language": "python",
     "metadata": {},
     "outputs": [
      {
       "metadata": {},
       "output_type": "pyout",
       "prompt_number": 60,
       "text": [
        "'Goodbye world'"
       ]
      }
     ],
     "prompt_number": 60
    },
    {
     "cell_type": "code",
     "collapsed": false,
     "input": [
      "s1 + s2"
     ],
     "language": "python",
     "metadata": {},
     "outputs": [
      {
       "metadata": {},
       "output_type": "pyout",
       "prompt_number": 61,
       "text": [
        "'Hello worldGoodbye world'"
       ]
      }
     ],
     "prompt_number": 61
    },
    {
     "cell_type": "markdown",
     "metadata": {},
     "source": [
      "Dictionary\n",
      "----"
     ]
    },
    {
     "cell_type": "code",
     "collapsed": false,
     "input": [
      "phone_book = {'ben' : '123-456-7890',\n",
      "          'jerry' : '123-555-9999'}"
     ],
     "language": "python",
     "metadata": {},
     "outputs": [],
     "prompt_number": 63
    },
    {
     "cell_type": "code",
     "collapsed": false,
     "input": [
      "phone_book['jerry']"
     ],
     "language": "python",
     "metadata": {},
     "outputs": [
      {
       "metadata": {},
       "output_type": "pyout",
       "prompt_number": 64,
       "text": [
        "'123-555-9999'"
       ]
      }
     ],
     "prompt_number": 64
    },
    {
     "cell_type": "markdown",
     "metadata": {},
     "source": [
      "Set\n",
      "----"
     ]
    },
    {
     "cell_type": "code",
     "collapsed": false,
     "input": [
      "xs = [1,1,2,2,3,1,4]\n",
      "set(xs)"
     ],
     "language": "python",
     "metadata": {},
     "outputs": [
      {
       "metadata": {},
       "output_type": "pyout",
       "prompt_number": 65,
       "text": [
        "{1, 2, 3, 4}"
       ]
      }
     ],
     "prompt_number": 65
    },
    {
     "cell_type": "code",
     "collapsed": false,
     "input": [
      "list(set(xs))"
     ],
     "language": "python",
     "metadata": {},
     "outputs": [
      {
       "metadata": {},
       "output_type": "pyout",
       "prompt_number": 66,
       "text": [
        "[1, 2, 3, 4]"
       ]
      }
     ],
     "prompt_number": 66
    },
    {
     "cell_type": "code",
     "collapsed": false,
     "input": [
      "s = 'hello'\n",
      "list(s)"
     ],
     "language": "python",
     "metadata": {},
     "outputs": [
      {
       "metadata": {},
       "output_type": "pyout",
       "prompt_number": 67,
       "text": [
        "['h', 'e', 'l', 'l', 'o']"
       ]
      }
     ],
     "prompt_number": 67
    },
    {
     "cell_type": "markdown",
     "metadata": {},
     "source": [
      "### Loops"
     ]
    },
    {
     "cell_type": "markdown",
     "metadata": {},
     "source": [
      "[1, 4, 27, 16, 125, ...]"
     ]
    },
    {
     "cell_type": "code",
     "collapsed": false,
     "input": [
      "xs = []\n",
      "for i in range(1, 11):\n",
      "    if i % 2 == 0:\n",
      "        xs.append(i**2)\n",
      "    else:\n",
      "        xs.append(i**3)\n",
      "xs"
     ],
     "language": "python",
     "metadata": {},
     "outputs": [
      {
       "metadata": {},
       "output_type": "pyout",
       "prompt_number": 79,
       "text": [
        "[1, 4, 27, 16, 125, 36, 343, 64, 729, 100]"
       ]
      }
     ],
     "prompt_number": 79
    },
    {
     "cell_type": "code",
     "collapsed": false,
     "input": [
      "ys = [1,2,3]\n",
      "ys.append(99)"
     ],
     "language": "python",
     "metadata": {},
     "outputs": [],
     "prompt_number": 70
    },
    {
     "cell_type": "code",
     "collapsed": false,
     "input": [
      "ys"
     ],
     "language": "python",
     "metadata": {},
     "outputs": [
      {
       "metadata": {},
       "output_type": "pyout",
       "prompt_number": 71,
       "text": [
        "[1, 2, 3, 99]"
       ]
      }
     ],
     "prompt_number": 71
    },
    {
     "cell_type": "markdown",
     "metadata": {},
     "source": [
      "Control flow\n",
      "----"
     ]
    },
    {
     "cell_type": "code",
     "collapsed": false,
     "input": [
      "3 % 2"
     ],
     "language": "python",
     "metadata": {},
     "outputs": [
      {
       "metadata": {},
       "output_type": "pyout",
       "prompt_number": 75,
       "text": [
        "1"
       ]
      }
     ],
     "prompt_number": 75
    },
    {
     "cell_type": "code",
     "collapsed": false,
     "input": [
      "7 % 4"
     ],
     "language": "python",
     "metadata": {},
     "outputs": [
      {
       "metadata": {},
       "output_type": "pyout",
       "prompt_number": 76,
       "text": [
        "3"
       ]
      }
     ],
     "prompt_number": 76
    },
    {
     "cell_type": "code",
     "collapsed": false,
     "input": [
      "8 % 2 == 0"
     ],
     "language": "python",
     "metadata": {},
     "outputs": [
      {
       "metadata": {},
       "output_type": "pyout",
       "prompt_number": 78,
       "text": [
        "True"
       ]
      }
     ],
     "prompt_number": 78
    },
    {
     "cell_type": "markdown",
     "metadata": {},
     "source": [
      "Ternary operator\n",
      "----"
     ]
    },
    {
     "cell_type": "code",
     "collapsed": false,
     "input": [
      "condition = True\n",
      "3 if condition else 4"
     ],
     "language": "python",
     "metadata": {},
     "outputs": [
      {
       "metadata": {},
       "output_type": "pyout",
       "prompt_number": 81,
       "text": [
        "3"
       ]
      }
     ],
     "prompt_number": 81
    },
    {
     "cell_type": "markdown",
     "metadata": {},
     "source": [
      "List comprehension\n",
      "----"
     ]
    },
    {
     "cell_type": "code",
     "collapsed": false,
     "input": [
      "xs = [i*i for i in range(1,11)]"
     ],
     "language": "python",
     "metadata": {},
     "outputs": [],
     "prompt_number": 83
    },
    {
     "cell_type": "code",
     "collapsed": false,
     "input": [
      "xs"
     ],
     "language": "python",
     "metadata": {},
     "outputs": [
      {
       "metadata": {},
       "output_type": "pyout",
       "prompt_number": 84,
       "text": [
        "[1, 4, 9, 16, 25, 36, 49, 64, 81, 100]"
       ]
      }
     ],
     "prompt_number": 84
    },
    {
     "cell_type": "code",
     "collapsed": false,
     "input": [
      "xs = [i*i for i in range(1,11) if i % 2 == 0]"
     ],
     "language": "python",
     "metadata": {},
     "outputs": [],
     "prompt_number": 85
    },
    {
     "cell_type": "code",
     "collapsed": false,
     "input": [
      "xs"
     ],
     "language": "python",
     "metadata": {},
     "outputs": [
      {
       "metadata": {},
       "output_type": "pyout",
       "prompt_number": 86,
       "text": [
        "[4, 16, 36, 64, 100]"
       ]
      }
     ],
     "prompt_number": 86
    },
    {
     "cell_type": "code",
     "collapsed": false,
     "input": [
      "xs = []\n",
      "for i in range(1, 11):\n",
      "    if i % 2 == 0:\n",
      "        xs.append(i*i)"
     ],
     "language": "python",
     "metadata": {},
     "outputs": [],
     "prompt_number": 87
    },
    {
     "cell_type": "code",
     "collapsed": false,
     "input": [
      "xs"
     ],
     "language": "python",
     "metadata": {},
     "outputs": [
      {
       "metadata": {},
       "output_type": "pyout",
       "prompt_number": 88,
       "text": [
        "[4, 16, 36, 64, 100]"
       ]
      }
     ],
     "prompt_number": 88
    },
    {
     "cell_type": "code",
     "collapsed": false,
     "input": [
      "xs = [i*i if i % 2 == 0 else i**3 for i in range(1, 11)]"
     ],
     "language": "python",
     "metadata": {},
     "outputs": [],
     "prompt_number": 89
    },
    {
     "cell_type": "code",
     "collapsed": false,
     "input": [
      "xs"
     ],
     "language": "python",
     "metadata": {},
     "outputs": [
      {
       "metadata": {},
       "output_type": "pyout",
       "prompt_number": 90,
       "text": [
        "[1, 4, 27, 16, 125, 36, 343, 64, 729, 100]"
       ]
      }
     ],
     "prompt_number": 90
    },
    {
     "cell_type": "code",
     "collapsed": false,
     "input": [],
     "language": "python",
     "metadata": {},
     "outputs": []
    }
   ],
   "metadata": {}
  }
 ]
}